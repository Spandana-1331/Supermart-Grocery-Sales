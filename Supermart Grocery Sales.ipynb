{
 "cells": [
  {
   "cell_type": "markdown",
   "id": "bb834485-6467-48a8-8593-e9b15994c0fe",
   "metadata": {},
   "source": [
    "TITLE:-  SUPERMART GROCERY SALES\n",
    "\n",
    "INTRODUCTION: In today's competitive retail landscape, understanding and analyzing grocery sales performance is crucial for supermarket success.So this project identify the patterns between features and future sales prediction,which helps to improve the future sales and trends.\n",
    "\n",
    "SCOPE: The ojective of this project is to find patterns and future sales prediction using the machine learning models. This report looks at how well Supermart's grocery store is doing with its sales. In this, checks what products are selling best, how much sales the store is making, and what customers like to buy. This information will help us find ways to make the store better.\n",
    "\n",
    "ATTRIBUTE INFORMATION: \n",
    "-->The dataset comprises 499 rows and 14 columns (features).\n",
    "-->Each row represents the sales and profits.\n",
    "-->Explore how factors such as store location, size, product assortment, pricing strategies, and customer demographics influence sales patterns. \n",
    "-->The `Sales` column is the target variable. It signifies the future sales predictions."
   ]
  },
  {
   "cell_type": "code",
   "execution_count": 2,
   "id": "8c6e2577-c445-48f2-9fda-a34c9f68f4d5",
   "metadata": {},
   "outputs": [],
   "source": [
    "# Import libraries\n",
    "import pandas as pd\n",
    "import numpy as np\n",
    "import matplotlib.pyplot as plt\n",
    "import seaborn as sns\n",
    "import plotly.express as px\n",
    "from sklearn.preprocessing import LabelEncoder,StandardScaler\n",
    "from sklearn.model_selection import train_test_split,cross_val_score\n",
    "from sklearn.ensemble import RandomForestRegressor\n",
    "from xgboost import XGBRegressor"
   ]
  },
  {
   "cell_type": "code",
   "execution_count": 3,
   "id": "bed27c36-0717-4e21-857d-ad96fa36bc40",
   "metadata": {},
   "outputs": [
    {
     "data": {
      "text/html": [
       "<div>\n",
       "<style scoped>\n",
       "    .dataframe tbody tr th:only-of-type {\n",
       "        vertical-align: middle;\n",
       "    }\n",
       "\n",
       "    .dataframe tbody tr th {\n",
       "        vertical-align: top;\n",
       "    }\n",
       "\n",
       "    .dataframe thead th {\n",
       "        text-align: right;\n",
       "    }\n",
       "</style>\n",
       "<table border=\"1\" class=\"dataframe\">\n",
       "  <thead>\n",
       "    <tr style=\"text-align: right;\">\n",
       "      <th></th>\n",
       "      <th>Order ID</th>\n",
       "      <th>Order Date</th>\n",
       "      <th>Region</th>\n",
       "      <th>City</th>\n",
       "      <th>Customer Name</th>\n",
       "      <th>Category</th>\n",
       "      <th>Sub Category</th>\n",
       "      <th>quantity</th>\n",
       "      <th>Sales</th>\n",
       "      <th>Discount</th>\n",
       "      <th>Profit</th>\n",
       "      <th>Month</th>\n",
       "      <th>Year</th>\n",
       "      <th>Profit_Margin</th>\n",
       "    </tr>\n",
       "  </thead>\n",
       "  <tbody>\n",
       "    <tr>\n",
       "      <th>0</th>\n",
       "      <td>OD1</td>\n",
       "      <td>2017-11-08</td>\n",
       "      <td>North</td>\n",
       "      <td>Vellore</td>\n",
       "      <td>Harish</td>\n",
       "      <td>Oil &amp; Masala</td>\n",
       "      <td>Masalas</td>\n",
       "      <td>5</td>\n",
       "      <td>1254</td>\n",
       "      <td>0.12</td>\n",
       "      <td>401.28</td>\n",
       "      <td>Nov</td>\n",
       "      <td>2017</td>\n",
       "      <td>0.32</td>\n",
       "    </tr>\n",
       "    <tr>\n",
       "      <th>1</th>\n",
       "      <td>OD2</td>\n",
       "      <td>2017-11-08</td>\n",
       "      <td>South</td>\n",
       "      <td>Krishnagiri</td>\n",
       "      <td>Sudha</td>\n",
       "      <td>Beverages</td>\n",
       "      <td>Health Drinks</td>\n",
       "      <td>21</td>\n",
       "      <td>749</td>\n",
       "      <td>0.18</td>\n",
       "      <td>149.80</td>\n",
       "      <td>Nov</td>\n",
       "      <td>2017</td>\n",
       "      <td>0.20</td>\n",
       "    </tr>\n",
       "    <tr>\n",
       "      <th>2</th>\n",
       "      <td>OD3</td>\n",
       "      <td>2017-06-12</td>\n",
       "      <td>West</td>\n",
       "      <td>Perambalur</td>\n",
       "      <td>Hussain</td>\n",
       "      <td>Food Grains</td>\n",
       "      <td>Atta &amp; Flour</td>\n",
       "      <td>2</td>\n",
       "      <td>2360</td>\n",
       "      <td>0.21</td>\n",
       "      <td>165.20</td>\n",
       "      <td>Jun</td>\n",
       "      <td>2017</td>\n",
       "      <td>0.07</td>\n",
       "    </tr>\n",
       "    <tr>\n",
       "      <th>3</th>\n",
       "      <td>OD4</td>\n",
       "      <td>2016-10-11</td>\n",
       "      <td>South</td>\n",
       "      <td>Dharmapuri</td>\n",
       "      <td>Jackson</td>\n",
       "      <td>Fruits &amp; Veggies</td>\n",
       "      <td>Fresh Vegetables</td>\n",
       "      <td>6</td>\n",
       "      <td>896</td>\n",
       "      <td>0.25</td>\n",
       "      <td>89.60</td>\n",
       "      <td>Oct</td>\n",
       "      <td>2016</td>\n",
       "      <td>0.10</td>\n",
       "    </tr>\n",
       "    <tr>\n",
       "      <th>4</th>\n",
       "      <td>OD5</td>\n",
       "      <td>2016-10-11</td>\n",
       "      <td>South</td>\n",
       "      <td>Ooty</td>\n",
       "      <td>Ridhesh</td>\n",
       "      <td>Food Grains</td>\n",
       "      <td>Organic Staples</td>\n",
       "      <td>5</td>\n",
       "      <td>2355</td>\n",
       "      <td>0.26</td>\n",
       "      <td>918.45</td>\n",
       "      <td>Oct</td>\n",
       "      <td>2016</td>\n",
       "      <td>0.39</td>\n",
       "    </tr>\n",
       "  </tbody>\n",
       "</table>\n",
       "</div>"
      ],
      "text/plain": [
       "  Order ID Order Date Region         City Customer Name          Category  \\\n",
       "0      OD1 2017-11-08  North      Vellore        Harish      Oil & Masala   \n",
       "1      OD2 2017-11-08  South  Krishnagiri         Sudha         Beverages   \n",
       "2      OD3 2017-06-12   West   Perambalur       Hussain       Food Grains   \n",
       "3      OD4 2016-10-11  South   Dharmapuri       Jackson  Fruits & Veggies   \n",
       "4      OD5 2016-10-11  South         Ooty       Ridhesh       Food Grains   \n",
       "\n",
       "       Sub Category  quantity  Sales  Discount  Profit Month  Year  \\\n",
       "0           Masalas         5   1254      0.12  401.28   Nov  2017   \n",
       "1     Health Drinks        21    749      0.18  149.80   Nov  2017   \n",
       "2      Atta & Flour         2   2360      0.21  165.20   Jun  2017   \n",
       "3  Fresh Vegetables         6    896      0.25   89.60   Oct  2016   \n",
       "4   Organic Staples         5   2355      0.26  918.45   Oct  2016   \n",
       "\n",
       "   Profit_Margin  \n",
       "0           0.32  \n",
       "1           0.20  \n",
       "2           0.07  \n",
       "3           0.10  \n",
       "4           0.39  "
      ]
     },
     "execution_count": 3,
     "metadata": {},
     "output_type": "execute_result"
    }
   ],
   "source": [
    "# Import library\n",
    "# Display the top 5 records\n",
    "import pandas as pd\n",
    "data=pd.read_csv(\"Supermart Grocery Sales.csv\")\n",
    "# Convert Order Date to datetime\n",
    "data[\"Order Date\"] = pd.to_datetime(data[\"Order Date\"])\n",
    "data[\"Month\"] = data[\"Order Date\"].dt.strftime('%b') \n",
    "data[\"Year\"] = data[\"Order Date\"].dt.year\n",
    "# Add new column\n",
    "data[\"Profit_Margin\"] = data[\"Profit\"] / data[\"Sales\"]\n",
    "data.head()"
   ]
  },
  {
   "cell_type": "markdown",
   "id": "cec3e499-4dee-41f5-9932-9d1131a5537e",
   "metadata": {},
   "source": [
    "Observation: Shows the top 5 records of rows and columns"
   ]
  },
  {
   "cell_type": "code",
   "execution_count": 11,
   "id": "f5ecb0c7-4daa-437b-9e1c-be472c84f36a",
   "metadata": {},
   "outputs": [
    {
     "data": {
      "text/plain": [
       "(499, 14)"
      ]
     },
     "execution_count": 11,
     "metadata": {},
     "output_type": "execute_result"
    }
   ],
   "source": [
    "# Check number of rows and columns\n",
    "data.shape"
   ]
  },
  {
   "cell_type": "raw",
   "id": "d4e3fa42-a131-4b02-8303-f6884ab85b46",
   "metadata": {},
   "source": [
    "Observation: 499 rows and 14 columns "
   ]
  },
  {
   "cell_type": "code",
   "execution_count": 13,
   "id": "8ae5fb6f-fc08-4f24-bd0c-c8ec4e24568c",
   "metadata": {},
   "outputs": [
    {
     "name": "stdout",
     "output_type": "stream",
     "text": [
      "<class 'pandas.core.frame.DataFrame'>\n",
      "RangeIndex: 499 entries, 0 to 498\n",
      "Data columns (total 14 columns):\n",
      " #   Column         Non-Null Count  Dtype         \n",
      "---  ------         --------------  -----         \n",
      " 0   Order ID       499 non-null    object        \n",
      " 1   Order Date     499 non-null    datetime64[ns]\n",
      " 2   Region         499 non-null    object        \n",
      " 3   City           499 non-null    object        \n",
      " 4   Customer Name  499 non-null    object        \n",
      " 5   Category       499 non-null    object        \n",
      " 6   Sub Category   499 non-null    object        \n",
      " 7   quantity       499 non-null    int64         \n",
      " 8   Sales          499 non-null    int64         \n",
      " 9   Discount       499 non-null    float64       \n",
      " 10  Profit         499 non-null    float64       \n",
      " 11  Month          499 non-null    object        \n",
      " 12  Year           499 non-null    int32         \n",
      " 13  Profit_Margin  499 non-null    float64       \n",
      "dtypes: datetime64[ns](1), float64(3), int32(1), int64(2), object(7)\n",
      "memory usage: 52.8+ KB\n"
     ]
    }
   ],
   "source": [
    "# data set information\n",
    "data.info()"
   ]
  },
  {
   "cell_type": "raw",
   "id": "927358aa-4371-4afb-bb8b-564492af509b",
   "metadata": {},
   "source": [
    "Observation: The dataset consits of 14 columns with data types.\n",
    "-> It has 3 float, 3 integers, 7 object data types, 1 datetime data types"
   ]
  },
  {
   "cell_type": "code",
   "execution_count": 15,
   "id": "281f80e0-aead-4d12-b0dd-76dfd5c12047",
   "metadata": {},
   "outputs": [
    {
     "data": {
      "text/html": [
       "<div>\n",
       "<style scoped>\n",
       "    .dataframe tbody tr th:only-of-type {\n",
       "        vertical-align: middle;\n",
       "    }\n",
       "\n",
       "    .dataframe tbody tr th {\n",
       "        vertical-align: top;\n",
       "    }\n",
       "\n",
       "    .dataframe thead th {\n",
       "        text-align: right;\n",
       "    }\n",
       "</style>\n",
       "<table border=\"1\" class=\"dataframe\">\n",
       "  <thead>\n",
       "    <tr style=\"text-align: right;\">\n",
       "      <th></th>\n",
       "      <th>Order Date</th>\n",
       "      <th>quantity</th>\n",
       "      <th>Sales</th>\n",
       "      <th>Discount</th>\n",
       "      <th>Profit</th>\n",
       "      <th>Year</th>\n",
       "      <th>Profit_Margin</th>\n",
       "    </tr>\n",
       "  </thead>\n",
       "  <tbody>\n",
       "    <tr>\n",
       "      <th>count</th>\n",
       "      <td>499</td>\n",
       "      <td>499.000000</td>\n",
       "      <td>499.000000</td>\n",
       "      <td>499.000000</td>\n",
       "      <td>499.000000</td>\n",
       "      <td>499.000000</td>\n",
       "      <td>499.000000</td>\n",
       "    </tr>\n",
       "    <tr>\n",
       "      <th>mean</th>\n",
       "      <td>2017-03-19 23:36:54.829659136</td>\n",
       "      <td>12.549098</td>\n",
       "      <td>1458.432866</td>\n",
       "      <td>0.223507</td>\n",
       "      <td>370.818998</td>\n",
       "      <td>2016.573146</td>\n",
       "      <td>0.252766</td>\n",
       "    </tr>\n",
       "    <tr>\n",
       "      <th>min</th>\n",
       "      <td>2015-02-12 00:00:00</td>\n",
       "      <td>1.000000</td>\n",
       "      <td>502.000000</td>\n",
       "      <td>0.100000</td>\n",
       "      <td>34.300000</td>\n",
       "      <td>2015.000000</td>\n",
       "      <td>0.050000</td>\n",
       "    </tr>\n",
       "    <tr>\n",
       "      <th>25%</th>\n",
       "      <td>2016-04-11 12:00:00</td>\n",
       "      <td>6.000000</td>\n",
       "      <td>962.000000</td>\n",
       "      <td>0.170000</td>\n",
       "      <td>181.880000</td>\n",
       "      <td>2016.000000</td>\n",
       "      <td>0.160000</td>\n",
       "    </tr>\n",
       "    <tr>\n",
       "      <th>50%</th>\n",
       "      <td>2017-04-25 00:00:00</td>\n",
       "      <td>12.000000</td>\n",
       "      <td>1421.000000</td>\n",
       "      <td>0.220000</td>\n",
       "      <td>322.700000</td>\n",
       "      <td>2017.000000</td>\n",
       "      <td>0.260000</td>\n",
       "    </tr>\n",
       "    <tr>\n",
       "      <th>75%</th>\n",
       "      <td>2017-12-09 00:00:00</td>\n",
       "      <td>18.000000</td>\n",
       "      <td>1967.000000</td>\n",
       "      <td>0.280000</td>\n",
       "      <td>520.130000</td>\n",
       "      <td>2017.000000</td>\n",
       "      <td>0.350000</td>\n",
       "    </tr>\n",
       "    <tr>\n",
       "      <th>max</th>\n",
       "      <td>2018-12-28 00:00:00</td>\n",
       "      <td>30.000000</td>\n",
       "      <td>2500.000000</td>\n",
       "      <td>0.350000</td>\n",
       "      <td>1040.160000</td>\n",
       "      <td>2018.000000</td>\n",
       "      <td>0.450000</td>\n",
       "    </tr>\n",
       "    <tr>\n",
       "      <th>std</th>\n",
       "      <td>NaN</td>\n",
       "      <td>7.288869</td>\n",
       "      <td>576.481720</td>\n",
       "      <td>0.072538</td>\n",
       "      <td>238.418780</td>\n",
       "      <td>1.071800</td>\n",
       "      <td>0.117915</td>\n",
       "    </tr>\n",
       "  </tbody>\n",
       "</table>\n",
       "</div>"
      ],
      "text/plain": [
       "                          Order Date    quantity        Sales    Discount  \\\n",
       "count                            499  499.000000   499.000000  499.000000   \n",
       "mean   2017-03-19 23:36:54.829659136   12.549098  1458.432866    0.223507   \n",
       "min              2015-02-12 00:00:00    1.000000   502.000000    0.100000   \n",
       "25%              2016-04-11 12:00:00    6.000000   962.000000    0.170000   \n",
       "50%              2017-04-25 00:00:00   12.000000  1421.000000    0.220000   \n",
       "75%              2017-12-09 00:00:00   18.000000  1967.000000    0.280000   \n",
       "max              2018-12-28 00:00:00   30.000000  2500.000000    0.350000   \n",
       "std                              NaN    7.288869   576.481720    0.072538   \n",
       "\n",
       "            Profit         Year  Profit_Margin  \n",
       "count   499.000000   499.000000     499.000000  \n",
       "mean    370.818998  2016.573146       0.252766  \n",
       "min      34.300000  2015.000000       0.050000  \n",
       "25%     181.880000  2016.000000       0.160000  \n",
       "50%     322.700000  2017.000000       0.260000  \n",
       "75%     520.130000  2017.000000       0.350000  \n",
       "max    1040.160000  2018.000000       0.450000  \n",
       "std     238.418780     1.071800       0.117915  "
      ]
     },
     "execution_count": 15,
     "metadata": {},
     "output_type": "execute_result"
    }
   ],
   "source": [
    "# Describe about dataset\n",
    "data.describe()"
   ]
  },
  {
   "cell_type": "raw",
   "id": "e94c77f5-a8f4-4b2e-9d26-f6a65a0dfbbe",
   "metadata": {},
   "source": [
    "Observation: The dataset 7 Numerical Features with satistical measurements of mean, standard deviation, Quater values (Q1,Q2,Q3), minimum and maximum values"
   ]
  },
  {
   "cell_type": "code",
   "execution_count": 164,
   "id": "a7abf9d7-2855-4804-8b0b-d9e5ce1e40fe",
   "metadata": {},
   "outputs": [
    {
     "data": {
      "text/plain": [
       "Order ID         0\n",
       "Order Date       0\n",
       "Region           0\n",
       "City             0\n",
       "Customer Name    0\n",
       "Category         0\n",
       "Sub Category     0\n",
       "quantity         0\n",
       "Sales            0\n",
       "Discount         0\n",
       "Profit           0\n",
       "Month            0\n",
       "Year             0\n",
       "Profit_Margin    0\n",
       "dtype: int64"
      ]
     },
     "execution_count": 164,
     "metadata": {},
     "output_type": "execute_result"
    }
   ],
   "source": [
    "# Check null values\n",
    "data.isnull().sum()"
   ]
  },
  {
   "cell_type": "raw",
   "id": "945f9eef-11b8-4fd9-ae1c-eb183d6a75fa",
   "metadata": {},
   "source": [
    "Observation: The dataset has no missing values"
   ]
  },
  {
   "cell_type": "code",
   "execution_count": 166,
   "id": "1251fbef-225d-4e7c-945b-864a4eff6fdd",
   "metadata": {},
   "outputs": [
    {
     "data": {
      "text/plain": [
       "0"
      ]
     },
     "execution_count": 166,
     "metadata": {},
     "output_type": "execute_result"
    }
   ],
   "source": [
    "# Check the duplicate values\n",
    "data.duplicated().sum()"
   ]
  },
  {
   "cell_type": "code",
   "execution_count": null,
   "id": "5fd3793b-908d-47f1-9230-e13f64393aef",
   "metadata": {},
   "outputs": [],
   "source": [
    "Observation: No duplicate values in dataset"
   ]
  },
  {
   "cell_type": "code",
   "execution_count": 168,
   "id": "a3d9fa28-b2e3-4934-9488-6b1ef1ddef52",
   "metadata": {},
   "outputs": [
    {
     "data": {
      "text/plain": [
       "Order ID         499\n",
       "Order Date       198\n",
       "Region             5\n",
       "City              24\n",
       "Customer Name     50\n",
       "Category           7\n",
       "Sub Category      23\n",
       "quantity          26\n",
       "Sales            450\n",
       "Discount          26\n",
       "Profit           493\n",
       "Month             12\n",
       "Year               4\n",
       "Profit_Margin     81\n",
       "dtype: int64"
      ]
     },
     "execution_count": 168,
     "metadata": {},
     "output_type": "execute_result"
    }
   ],
   "source": [
    "# check number of unique values\n",
    "data.nunique()"
   ]
  },
  {
   "cell_type": "code",
   "execution_count": null,
   "id": "feefa055-5882-41ff-bf16-f46f53564418",
   "metadata": {},
   "outputs": [],
   "source": [
    "Observation: The dataset has different unique values in each category"
   ]
  },
  {
   "cell_type": "code",
   "execution_count": 170,
   "id": "4609484d-593c-4662-a3d0-5d9483777a5b",
   "metadata": {},
   "outputs": [
    {
     "name": "stdout",
     "output_type": "stream",
     "text": [
      "Order ID: ['OD1' 'OD2' 'OD3' 'OD4' 'OD5' 'OD6' 'OD7' 'OD8' 'OD9' 'OD10' 'OD11'\n",
      " 'OD12' 'OD13' 'OD14' 'OD15' 'OD16' 'OD17' 'OD18' 'OD19' 'OD20' 'OD21'\n",
      " 'OD22' 'OD23' 'OD24' 'OD25' 'OD26' 'OD27' 'OD28' 'OD29' 'OD30' 'OD31'\n",
      " 'OD32' 'OD33' 'OD34' 'OD35' 'OD36' 'OD37' 'OD38' 'OD39' 'OD40' 'OD41'\n",
      " 'OD42' 'OD43' 'OD44' 'OD45' 'OD46' 'OD47' 'OD48' 'OD49' 'OD50' 'OD51'\n",
      " 'OD52' 'OD53' 'OD54' 'OD55' 'OD56' 'OD57' 'OD58' 'OD59' 'OD60' 'OD61'\n",
      " 'OD62' 'OD63' 'OD64' 'OD65' 'OD66' 'OD67' 'OD68' 'OD69' 'OD70' 'OD71'\n",
      " 'OD72' 'OD73' 'OD74' 'OD75' 'OD76' 'OD77' 'OD78' 'OD79' 'OD80' 'OD81'\n",
      " 'OD82' 'OD83' 'OD84' 'OD85' 'OD86' 'OD87' 'OD88' 'OD89' 'OD90' 'OD91'\n",
      " 'OD92' 'OD93' 'OD94' 'OD95' 'OD96' 'OD97' 'OD98' 'OD99' 'OD100' 'OD101'\n",
      " 'OD102' 'OD103' 'OD104' 'OD105' 'OD106' 'OD107' 'OD108' 'OD109' 'OD110'\n",
      " 'OD111' 'OD112' 'OD113' 'OD114' 'OD115' 'OD116' 'OD117' 'OD118' 'OD119'\n",
      " 'OD120' 'OD121' 'OD122' 'OD123' 'OD124' 'OD125' 'OD126' 'OD127' 'OD128'\n",
      " 'OD129' 'OD130' 'OD131' 'OD132' 'OD133' 'OD134' 'OD135' 'OD136' 'OD137'\n",
      " 'OD138' 'OD139' 'OD140' 'OD141' 'OD142' 'OD143' 'OD144' 'OD145' 'OD146'\n",
      " 'OD147' 'OD148' 'OD149' 'OD150' 'OD151' 'OD152' 'OD153' 'OD154' 'OD155'\n",
      " 'OD156' 'OD157' 'OD158' 'OD159' 'OD160' 'OD161' 'OD162' 'OD163' 'OD164'\n",
      " 'OD165' 'OD166' 'OD167' 'OD168' 'OD169' 'OD170' 'OD171' 'OD172' 'OD173'\n",
      " 'OD174' 'OD175' 'OD176' 'OD177' 'OD178' 'OD179' 'OD180' 'OD181' 'OD182'\n",
      " 'OD183' 'OD184' 'OD185' 'OD186' 'OD187' 'OD188' 'OD189' 'OD190' 'OD191'\n",
      " 'OD192' 'OD193' 'OD194' 'OD195' 'OD196' 'OD197' 'OD198' 'OD199' 'OD200'\n",
      " 'OD201' 'OD202' 'OD203' 'OD204' 'OD205' 'OD206' 'OD207' 'OD208' 'OD209'\n",
      " 'OD210' 'OD211' 'OD212' 'OD213' 'OD214' 'OD215' 'OD216' 'OD217' 'OD218'\n",
      " 'OD219' 'OD220' 'OD221' 'OD222' 'OD223' 'OD224' 'OD225' 'OD226' 'OD227'\n",
      " 'OD228' 'OD229' 'OD230' 'OD231' 'OD232' 'OD233' 'OD234' 'OD235' 'OD236'\n",
      " 'OD237' 'OD238' 'OD239' 'OD240' 'OD241' 'OD242' 'OD243' 'OD244' 'OD245'\n",
      " 'OD246' 'OD247' 'OD248' 'OD249' 'OD250' 'OD251' 'OD252' 'OD253' 'OD254'\n",
      " 'OD255' 'OD256' 'OD257' 'OD258' 'OD259' 'OD260' 'OD261' 'OD262' 'OD263'\n",
      " 'OD264' 'OD265' 'OD266' 'OD267' 'OD268' 'OD269' 'OD270' 'OD271' 'OD272'\n",
      " 'OD273' 'OD274' 'OD275' 'OD276' 'OD277' 'OD278' 'OD279' 'OD280' 'OD281'\n",
      " 'OD282' 'OD283' 'OD284' 'OD285' 'OD286' 'OD287' 'OD288' 'OD289' 'OD290'\n",
      " 'OD291' 'OD292' 'OD293' 'OD294' 'OD295' 'OD296' 'OD297' 'OD298' 'OD299'\n",
      " 'OD300' 'OD301' 'OD302' 'OD303' 'OD304' 'OD305' 'OD306' 'OD307' 'OD308'\n",
      " 'OD309' 'OD310' 'OD311' 'OD312' 'OD313' 'OD314' 'OD315' 'OD316' 'OD317'\n",
      " 'OD318' 'OD319' 'OD320' 'OD321' 'OD322' 'OD323' 'OD324' 'OD325' 'OD326'\n",
      " 'OD327' 'OD328' 'OD329' 'OD330' 'OD331' 'OD332' 'OD333' 'OD334' 'OD335'\n",
      " 'OD336' 'OD337' 'OD338' 'OD339' 'OD340' 'OD341' 'OD342' 'OD343' 'OD344'\n",
      " 'OD345' 'OD346' 'OD347' 'OD348' 'OD349' 'OD350' 'OD351' 'OD352' 'OD353'\n",
      " 'OD354' 'OD355' 'OD356' 'OD357' 'OD358' 'OD359' 'OD360' 'OD361' 'OD362'\n",
      " 'OD363' 'OD364' 'OD365' 'OD366' 'OD367' 'OD368' 'OD369' 'OD370' 'OD371'\n",
      " 'OD372' 'OD373' 'OD374' 'OD375' 'OD376' 'OD377' 'OD378' 'OD379' 'OD380'\n",
      " 'OD381' 'OD382' 'OD383' 'OD384' 'OD385' 'OD386' 'OD387' 'OD388' 'OD389'\n",
      " 'OD390' 'OD391' 'OD392' 'OD393' 'OD394' 'OD395' 'OD396' 'OD397' 'OD398'\n",
      " 'OD399' 'OD400' 'OD401' 'OD402' 'OD403' 'OD404' 'OD405' 'OD406' 'OD407'\n",
      " 'OD408' 'OD409' 'OD410' 'OD411' 'OD412' 'OD413' 'OD414' 'OD415' 'OD416'\n",
      " 'OD417' 'OD418' 'OD419' 'OD420' 'OD421' 'OD422' 'OD423' 'OD424' 'OD425'\n",
      " 'OD426' 'OD427' 'OD428' 'OD429' 'OD430' 'OD431' 'OD432' 'OD433' 'OD434'\n",
      " 'OD435' 'OD436' 'OD437' 'OD438' 'OD439' 'OD440' 'OD441' 'OD442' 'OD443'\n",
      " 'OD444' 'OD445' 'OD446' 'OD447' 'OD448' 'OD449' 'OD450' 'OD451' 'OD452'\n",
      " 'OD453' 'OD454' 'OD455' 'OD456' 'OD457' 'OD458' 'OD459' 'OD460' 'OD461'\n",
      " 'OD462' 'OD463' 'OD464' 'OD465' 'OD466' 'OD467' 'OD468' 'OD469' 'OD470'\n",
      " 'OD471' 'OD472' 'OD473' 'OD474' 'OD475' 'OD476' 'OD477' 'OD478' 'OD479'\n",
      " 'OD480' 'OD481' 'OD482' 'OD483' 'OD484' 'OD485' 'OD486' 'OD487' 'OD488'\n",
      " 'OD489' 'OD490' 'OD491' 'OD492' 'OD493' 'OD494' 'OD495' 'OD496' 'OD497'\n",
      " 'OD498' 'OD499']\n",
      "Order Date: <DatetimeArray>\n",
      "['2017-11-08 00:00:00', '2017-06-12 00:00:00', '2016-10-11 00:00:00',\n",
      " '2015-06-09 00:00:00', '2018-04-15 00:00:00', '2017-12-05 00:00:00',\n",
      " '2016-11-22 00:00:00', '2015-11-11 00:00:00', '2015-05-13 00:00:00',\n",
      " '2015-08-27 00:00:00',\n",
      " ...\n",
      " '2017-07-12 00:00:00', '2017-10-27 00:00:00', '2017-06-26 00:00:00',\n",
      " '2015-10-06 00:00:00', '2015-07-22 00:00:00', '2018-06-10 00:00:00',\n",
      " '2015-10-29 00:00:00', '2017-05-09 00:00:00', '2017-03-18 00:00:00',\n",
      " '2017-07-25 00:00:00']\n",
      "Length: 198, dtype: datetime64[ns]\n",
      "Region: ['North' 'South' 'West' 'Central' 'East']\n",
      "City: ['Vellore' 'Krishnagiri' 'Perambalur' 'Dharmapuri' 'Ooty' 'Trichy'\n",
      " 'Ramanadhapuram' 'Tirunelveli' 'Chennai' 'Karur' 'Namakkal' 'Dindigul'\n",
      " 'Kanyakumari' 'Bodi' 'Tenkasi' 'Viluppuram' 'Madurai' 'Salem' 'Cumbum'\n",
      " 'Nagercoil' 'Pudukottai' 'Theni' 'Coimbatore' 'Virudhunagar']\n",
      "Customer Name: ['Harish' 'Sudha' 'Hussain' 'Jackson' 'Ridhesh' 'Adavan' 'Jonas' 'Hafiz'\n",
      " 'Krithika' 'Ganesh' 'Yadav' 'Sharon' 'Peer' 'Sundar' 'Ramesh' 'Alan'\n",
      " 'Arutra' 'Haseena' 'Verma' 'Muneer' 'Veronica' 'Shah' 'Mathew' 'Akash'\n",
      " 'Anu' 'Sabeela' 'James' 'Willams' 'Malik' 'Amrish' 'Vince' 'Suresh'\n",
      " 'Esther' 'Yusuf' 'Komal' 'Veena' 'Shree' 'Roshan' 'Sudeep' 'Vinne'\n",
      " 'Vidya' 'Arvind' 'Kumar' 'Amy' 'Ravi' 'Sheeba' 'Ram' 'Rumaiza' 'Aditi'\n",
      " 'Surya']\n",
      "Category: ['Oil & Masala' 'Beverages' 'Food Grains' 'Fruits & Veggies' 'Bakery'\n",
      " 'Snacks' 'Eggs, Meat & Fish']\n",
      "Sub Category: ['Masalas' 'Health Drinks' 'Atta & Flour' 'Fresh Vegetables'\n",
      " 'Organic Staples' 'Fresh Fruits' 'Biscuits' 'Cakes' 'Chocolates' 'Eggs'\n",
      " 'Cookies' 'Chicken' 'Edible Oil & Ghee' 'Mutton' 'Soft Drinks'\n",
      " 'Dals & Pulses' 'Organic Vegetables' 'Noodles' 'Organic Fruits' 'Fish'\n",
      " 'Spices' 'Rice' 'Breads & Buns']\n",
      "quantity: [ 5 21  2  6 12 11  1 30 20  4 25  3  8 13 22 23 19 17 24 14 10 15  7  9\n",
      " 18 16]\n",
      "Sales: [1254  749 2360  896 2355 2305  826 1847  791 1795 1903  701 1659 1277\n",
      "  831 1440 1678 1617 1757  692  522  948  707  969 1100 2022  541  979\n",
      " 1988  989 1845 1400 2163 1689  809 1265  934 1354 1751 2045  660 1868\n",
      " 1017 2311 1663 1420 1415 1488  726 1259  902 2306 1417  627  760 2350\n",
      " 1179 1624 1316 2121 1428  706  921 1741  607 1824 1368 1160 1294 1232\n",
      "  994 2468  721 2375 1965 1489 1250 1358  719 2303 2027 1739  990 2354\n",
      " 1044 2129 1759 2111 1878  769 1241 2128 2257 1285 1230 1856  545 2301\n",
      " 1475 2118 1527  567 2300 1575  540  536  556 1487 2220 2155 1154 2420\n",
      " 1305  927  983  903 1235 1243  649 1443  975  889 2352 1293 1458 1801\n",
      " 1261 2112  640 1658 2373 1430 1873  867 1101 1088  866 2483 1335  765\n",
      " 2403 1551 1564 1125  768 1985 2287 1016  852 1233 2236 2188 1114 1774\n",
      " 2364  713  737 1004 1516 1442 1690 2021 2340  705 1215  552 1412 2476\n",
      " 1747 1973 2025  689 1322 1605 1718 2177  578  782 1388 2264  813 2015\n",
      " 1433 2093 2149 1972 2060 1175 1006 1409  914 1352  682 1738 2421 2245\n",
      " 1033 1998 1469 1899 2194 1942  609 2353 1591 1353 1020 1362 1733 1949\n",
      " 2368 2110 1940 1557 2024 2168  621  560 1286 1242  717 1480 1846 1983\n",
      "  650 1481 2492  962 1432  523 1540  817 2462  538 1556 2133 1474  531\n",
      " 1769 1257 1929 2417 2114 1278  943 1836 1200 1167  696 2500 1507 1612\n",
      "  764  884 2443 1147  744  812  862 1061 2365 1421 1357 1007 1544 1537\n",
      " 1530 2460  976 1106 1165 1244 1992 1396  849 2488  840 1820 1969 2261\n",
      " 1793  644 1359 1554 2090  931 1157 2396 1677  590 1401  678 2211 2392\n",
      " 1835 2281 1583 1123 1079 1027 1771 1171  672  848 2078  945 1534 1825\n",
      " 2029 1228 1501 1094 1127  601 1697 2095 1132 1561 1238 2068 1113 1966\n",
      " 2138  978 2014  645  743 2474 1494 1174 1062 2297  562 2049  570 1236\n",
      " 1069 1946  595 2439 2415 1725  688 1698 1665 1309  905 2271 2091 1917\n",
      "  641 1192 1727 1051 2109 1311  759 2201 1964 1898 2282 2294 2213 1797\n",
      " 1912 1865 1838 1626  647 1042 1519  532 1477 1748  762  904  958 2193\n",
      "  830 1531  917 2246 2130 2461 1863 1382  807 1272 1621 1356  684 1256\n",
      "  581  913  507 1367  833 1987 1152  942 2200  861 1648 1805  620 1216\n",
      "  686  506 1579  550 2020  695 2453  508 2459  850  795 2142 1542 2411\n",
      " 1213  618 1199 1962  580 2412 1224  502 1977 2115 1976 1323  639 1223\n",
      " 2157  673 2092 1892 1943 1968 1596 1637 2232 1283  937 1373 1598 1398\n",
      " 1070 1948]\n",
      "Discount: [0.12 0.18 0.21 0.25 0.26 0.33 0.32 0.23 0.27 0.13 0.1  0.19 0.22 0.11\n",
      " 0.28 0.35 0.29 0.34 0.17 0.24 0.16 0.2  0.31 0.3  0.15 0.14]\n",
      "Profit: [ 401.28  149.8   165.2    89.6   918.45  322.7   346.92  147.76  181.93\n",
      "  484.65  437.69  308.44  315.21   63.85  207.75  100.8   318.82  113.19\n",
      "  386.54  159.16  208.8    47.4   148.47   77.52  495.    202.2    43.28\n",
      "  401.39  874.72   69.23  166.05  420.    670.53  337.8    80.9   569.25\n",
      "   56.04  446.82  280.16  879.35   92.4   616.44  345.78 1039.95  731.72\n",
      "  355.    509.4   610.08   43.56  415.47  153.34  553.44   99.19  181.83\n",
      "   60.8   611.    271.17  194.88  421.12  678.72  271.32  289.46  184.2\n",
      "  661.58  200.31  766.08  383.04  510.4    77.64  554.4   357.84 1011.88\n",
      "  100.94  475.    117.9   193.57   75.    488.88   64.71  621.81  912.15\n",
      "  765.16  227.7   682.66  344.52  659.99  615.65  665.2   189.99  450.72\n",
      "   46.14  409.53  270.84  218.45  442.8   723.84  125.35  391.17  531.\n",
      "  910.74  671.88  175.77  184.11 1035.     78.75  108.    176.88  155.68\n",
      "  505.58  111.    581.85   69.24  242.    287.1   157.59  186.77   90.3\n",
      "   74.1   174.02  201.19  188.32  187.59  390.     71.12  870.24  336.18\n",
      "  597.78  126.07  416.13  105.6   140.8   315.02  664.44  514.8   674.28\n",
      "  329.46  484.44  424.32  381.04  223.47  293.7   252.45  624.78  573.87\n",
      "  187.68  292.5   184.32  734.45 1029.15  335.28   76.68  234.27  626.08\n",
      "  809.56  456.74  620.9  1040.16  148.7   192.51  280.06  341.36  121.28\n",
      "  605.64  422.5   343.57  491.4   176.25   60.75  237.36  564.8   150.29\n",
      "  420.92  471.69  848.39  546.75  223.52   55.12  343.72  433.35  171.8\n",
      "  783.72  236.98  195.5    97.16  792.4   138.21  564.2   472.89  334.88\n",
      "  623.21  414.12  432.6   340.75  191.14  380.43  338.18  527.28  170.5\n",
      "  243.32  484.2   404.1   295.68  185.94  139.86  646.36  360.81  153.58\n",
      "  504.92  207.06  423.54  270.47  527.67   81.6   177.06  433.25   97.45\n",
      "  876.16  485.3   795.4   638.37  274.17  910.8   563.68  173.88  295.2\n",
      "  240.8   282.92  149.04   43.02  444.    247.8   276.9   552.15  773.37\n",
      "  247.    216.3   518.35  124.6   423.28  214.8    78.45  646.8   326.8\n",
      "  369.3   288.6    59.18  482.36  959.85  235.84  127.44  636.84   62.85\n",
      "  170.91  617.28  990.97  476.19  290.4   359.38   63.9   216.75  150.88\n",
      "  275.4   256.74  139.2   425.    180.84  612.56  160.44  282.88  781.76\n",
      "  137.64  493.74   66.96  284.2   137.92  286.47  520.3   454.72  203.55\n",
      "  433.01  138.96  599.43  168.3   738.    429.44  298.62  244.65  497.6\n",
      "  418.32  237.32  263.19  547.36  184.8   527.8   630.08  994.84  304.81\n",
      "   96.6   421.29  683.76  292.6   297.92  404.95  383.36  586.95  200.6\n",
      "  196.14  189.84  797.61  641.19  406.64  660.6   775.54  174.13   89.84\n",
      "  410.02  328.64  602.14  363.01  141.12  228.96  914.32  406.    226.8\n",
      "   82.6   316.6   245.44  490.59  747.77  164.25  608.7   442.08  210.14\n",
      "  415.72  106.11  416.99  234.39  560.01  502.8   215.08  640.01  297.12\n",
      "  165.44  356.16  629.12  684.16   68.46  684.76  187.05  680.14   62.2\n",
      "  289.77  593.76   74.7   328.72  435.42  528.31   56.2   655.68  125.4\n",
      "  333.72  459.67  622.72  196.35  658.53  555.45  362.25  116.96  339.6\n",
      "  216.45   78.54   72.4   295.23  522.75  172.53  179.48  417.2   464.12\n",
      "  224.51  378.36  337.44  314.64  265.65  462.21  314.24  702.26  114.1\n",
      "  596.44  995.85  269.55  382.4   354.35  753.58  195.12   71.17  177.14\n",
      "  318.99  148.96   73.85   98.98  361.12  198.12   63.28  182.02  899.13\n",
      "   66.4   505.23  753.6   256.76  458.56  965.78  937.2   393.76  167.67\n",
      "  290.22   88.77  305.28  470.09  501.72   54.72  162.    113.04  214.97\n",
      "  226.24  374.33   96.33  355.42  233.24  258.31  264.96  517.56  122.46\n",
      "  792.    258.3   444.96  216.6    74.4   547.2    34.3   313.12  217.58\n",
      "  347.38  231.    848.4   104.25  367.95  637.    152.4   860.65   93.5\n",
      "  821.78  206.7   664.02  647.64  699.19  206.21  101.4   167.86  484.\n",
      "  519.96  412.02  168.84  208.08  216.96   80.32  658.59  514.02  208.2\n",
      "  359.55  790.4   251.37  255.6   633.04  146.76  403.92  949.08  195.17\n",
      "  188.28  491.92  777.2   649.44  478.8   572.95  870.48  843.48   74.34\n",
      "  526.03  327.95  247.14  415.48  545.22   53.5   818.16]\n",
      "Month: [11  6 10  4 12  5  8  7  9  1  3  2]\n",
      "Year: [2017 2016 2015 2018]\n",
      "Profit_Margin: [0.32 0.2  0.07 0.1  0.39 0.14 0.42 0.08 0.23 0.27 0.44 0.19 0.05 0.25\n",
      " 0.19 0.22 0.23 0.4  0.05 0.21 0.45 0.41 0.07 0.09 0.3  0.31 0.1  0.06\n",
      " 0.33 0.16 0.43 0.14 0.34 0.36 0.41 0.06 0.17 0.24 0.29 0.26 0.12 0.32\n",
      " 0.2  0.38 0.28 0.45 0.13 0.09 0.29 0.33 0.35 0.18 0.17 0.27 0.22 0.37\n",
      " 0.38 0.12 0.24 0.45 0.44 0.34 0.42 0.43 0.4  0.21 0.39 0.18 0.08 0.26\n",
      " 0.28 0.15 0.35 0.44 0.3  0.11 0.36 0.12 0.16 0.22 0.15]\n"
     ]
    }
   ],
   "source": [
    "# Check unique values in each column\n",
    "for col in data.columns:\n",
    "    Unique_values=data[col].unique()\n",
    "    print(f'{col}:',Unique_values)"
   ]
  },
  {
   "cell_type": "code",
   "execution_count": null,
   "id": "25f9e9c4-964d-451f-8281-a3e116ee557c",
   "metadata": {},
   "outputs": [],
   "source": [
    "Observation: The each column with unique values"
   ]
  },
  {
   "cell_type": "code",
   "execution_count": 17,
   "id": "6a03245a-8e5f-47ac-9599-b0e68300041a",
   "metadata": {},
   "outputs": [
    {
     "name": "stdout",
     "output_type": "stream",
     "text": [
      "7 Numerical Features: ['Order Date', 'quantity', 'Sales', 'Discount', 'Profit', 'Year', 'Profit_Margin']\n",
      "\n",
      "7 Categorical Features: ['Order ID', 'Region', 'City', 'Customer Name', 'Category', 'Sub Category', 'Month']\n"
     ]
    }
   ],
   "source": [
    "# Check number of numerical and categorical features\n",
    "Numerical_features=[feature for feature in data.columns if data[feature].dtype!='O']\n",
    "Categorical_features=[feature for feature in data.columns if data[feature].dtype=='O']\n",
    "print('{} Numerical Features: {}'.format(len(Numerical_features),Numerical_features))\n",
    "print('\\n{} Categorical Features: {}'.format(len(Categorical_features),Categorical_features))"
   ]
  },
  {
   "cell_type": "raw",
   "id": "c6ff71f6-8e58-4a39-bd01-22246db6079f",
   "metadata": {},
   "source": [
    "Obseravtion: The datset has 7 numerical features and 7 categorical features with column names"
   ]
  },
  {
   "cell_type": "code",
   "execution_count": 19,
   "id": "829a5230-a7ca-4377-8a5e-2ee1d99b4be8",
   "metadata": {},
   "outputs": [
    {
     "data": {
      "image/png": "[encoded data removed]",
      "text/plain": [
       "<Figure size 640x480 with 1 Axes>"
      ]
     },
     "metadata": {},
     "output_type": "display_data"
    }
   ],
   "source": [
    "# Identify Outliers using BoxPlot\n",
    "# Import libraries\n",
    "import seaborn as sns\n",
    "import matplotlib.pyplot as plt\n",
    "import numpy as np\n",
    "sns.boxplot(data.select_dtypes(include=np.number), palette='plasma')\n",
    "plt.title('Box Plot')\n",
    "plt.xticks(rotation=90)\n",
    "plt.show()"
   ]
  },
  {
   "cell_type": "raw",
   "id": "d980aeb7-c547-41cc-a367-08c70c089058",
   "metadata": {},
   "source": [
    "Observation: This boxplot provides a visual representation of the spread in the feature values, making it easier to detect extreme values.\n",
    "->The box represents the interquartile range (IQR), which is the middle 50% of the data.\n",
    "->The line inside the box is the median (middle value).\n",
    "->The whiskers extend to 1.5 times the IQR from the quartiles or to the maximum/minimum data points (whichever is closer).\n",
    "->Any points outside the whiskers are plotted as outliers.In this, outliers in the dataset.\n",
    "->Profit show outliers, which could represent outside of the whisker.\n",
    "->Features such as 'Quantity','Discount','Month','Year' and 'Profit Margin' have smaller ranges, suggesting their values are tightly clustered.\n",
    "Comparing Features: By plotting all features together, compare the ranges, distributions, and presence of outliers."
   ]
  },
  {
   "cell_type": "code",
   "execution_count": 21,
   "id": "89488c30-cd2d-4622-9a3a-69f6b90ccf1c",
   "metadata": {},
   "outputs": [
    {
     "name": "stdout",
     "output_type": "stream",
     "text": [
      "Lower bound:  -325.495\n",
      "Upper bound:  1027.505\n",
      "Outliers:\n",
      " 43     1039.95\n",
      "104    1035.00\n",
      "150    1029.15\n",
      "158    1040.16\n",
      "Name: Profit, dtype: float64\n"
     ]
    },
    {
     "data": {
      "image/png": "[encoded data removed]",
      "text/plain": [
       "<Figure size 640x480 with 1 Axes>"
      ]
     },
     "metadata": {},
     "output_type": "display_data"
    }
   ],
   "source": [
    "# Count number of outliers per column using IQR\n",
    "# Identify the outlier in pofit column\n",
    "# Import libraries\n",
    "import numpy as np\n",
    "import matplotlib.pyplot as plt\n",
    "import seaborn as sns\n",
    "\n",
    "Q1=data['Profit'].quantile(0.25)\n",
    "Q3=data['Profit'].quantile(0.75)\n",
    "IQR=Q3-Q1\n",
    "lower_bound=Q1-1.5*IQR\n",
    "upper_bound=Q3+1.5*IQR\n",
    "Outlier=data['Profit'][(data['Profit']<lower_bound)|(data['Profit']>upper_bound)]\n",
    "print('Lower bound: ',lower_bound)\n",
    "print(\"Upper bound: \",upper_bound)\n",
    "print('Outliers:\\n',Outlier)\n",
    "\n",
    "Q1=data.select_dtypes(include=np.number).quantile(0.25)\n",
    "Q3=data.select_dtypes(include=np.number).quantile(0.75)\n",
    "IQR=Q3-Q1\n",
    "lower_bound=Q1-1.5*IQR\n",
    "upper_bound=Q3+1.5*IQR\n",
    "Outliers=((data.select_dtypes(include=np.number)< lower_bound)|(data.select_dtypes(include=np.number)> upper_bound)).sum()\n",
    "Outlier_df=pd.DataFrame(Outliers, columns=[\"Outlier Count\"])\n",
    "\n",
    "sns.heatmap(Outlier_df.T,cmap='coolwarm',annot=True,cbar=False)\n",
    "plt.title(\"\\nOutliers count heat map\")\n",
    "plt.xticks(rotation=90)\n",
    "plt.show()"
   ]
  },
  {
   "cell_type": "raw",
   "id": "03f0e348-e8b5-4d83-b32f-878eef823b15",
   "metadata": {},
   "source": [
    "Observation: The Heat map shows the outliers count, In this dataset consists of 4 outliers in Profit column.\n",
    "-> The Lower bound of profit is -325.495 and Upper bound is 1027.505\n",
    "-> 1039.95, 1035.00, 1029.15, 1040.16 these are outliers values of Profit. But these are useful for dataset.\n",
    "-> The 4 outliers shows the highest profit in the sales data."
   ]
  },
  {
   "cell_type": "code",
   "execution_count": 23,
   "id": "a6b2475d-2ad2-42ef-93bb-99f2db97342d",
   "metadata": {},
   "outputs": [
    {
     "data": {
      "image/png": "[encoded data removed]",
      "text/plain": [
       "<Figure size 1000x600 with 1 Axes>"
      ]
     },
     "metadata": {},
     "output_type": "display_data"
    }
   ],
   "source": [
    "# Bar chart of each Sub categorical Sales\n",
    "import matplotlib.pyplot as plt\n",
    "plt.figure(figsize=(10,6))\n",
    "data.groupby(\"Sub Category\")[\"Sales\"].sum().sort_values(ascending=False).plot(kind='bar')\n",
    "plt.ylabel('Sales')\n",
    "plt.title('Sub Categorical Sales ')\n",
    "plt.grid(axis='y',alpha=0.5)\n",
    "plt.show()"
   ]
  },
  {
   "cell_type": "raw",
   "id": "ac253318-beda-472e-8635-17aefb6e1322",
   "metadata": {},
   "source": [
    "Observation: In the bar visualization, the Soft Drinks has highest sales in the dataset more than 60000.\n",
    "-> Then the highest sales of Health Drinks more than 40000, then decreases the sales in remaining categories gradually.\n",
    "-> The lowest sales is Eggs and Busicuits 20000 sales in numbers."
   ]
  },
  {
   "cell_type": "code",
   "execution_count": 25,
   "id": "ac1e856c-c3b4-4cee-b6d4-12a4c00615a3",
   "metadata": {},
   "outputs": [
    {
     "data": {
      "application/vnd.plotly.v1+json": {
       "config": {
        "plotlyServerURL": "https://plot.ly"
       },
       "data": [
        {
         "domain": {
          "x": [
           0,
           1
          ],
          "y": [
           0,
           1
          ]
         },
         "hovertemplate": "Category=%{label}<br>Profit=%{value}<extra></extra>",
         "labels": [
          "Oil & Masala",
          "Beverages",
          "Food Grains",
          "Fruits & Veggies",
          "Food Grains",
          "Food Grains",
          "Fruits & Veggies",
          "Fruits & Veggies",
          "Bakery",
          "Bakery",
          "Snacks",
          "Eggs, Meat & Fish",
          "Snacks",
          "Fruits & Veggies",
          "Eggs, Meat & Fish",
          "Oil & Masala",
          "Bakery",
          "Beverages",
          "Eggs, Meat & Fish",
          "Beverages",
          "Beverages",
          "Food Grains",
          "Beverages",
          "Fruits & Veggies",
          "Eggs, Meat & Fish",
          "Snacks",
          "Snacks",
          "Bakery",
          "Beverages",
          "Oil & Masala",
          "Beverages",
          "Snacks",
          "Oil & Masala",
          "Oil & Masala",
          "Beverages",
          "Eggs, Meat & Fish",
          "Beverages",
          "Fruits & Veggies",
          "Fruits & Veggies",
          "Eggs, Meat & Fish",
          "Beverages",
          "Beverages",
          "Snacks",
          "Snacks",
          "Bakery",
          "Eggs, Meat & Fish",
          "Fruits & Veggies",
          "Snacks",
          "Snacks",
          "Bakery",
          "Beverages",
          "Beverages",
          "Bakery",
          "Fruits & Veggies",
          "Fruits & Veggies",
          "Food Grains",
          "Eggs, Meat & Fish",
          "Food Grains",
          "Eggs, Meat & Fish",
          "Beverages",
          "Oil & Masala",
          "Snacks",
          "Eggs, Meat & Fish",
          "Fruits & Veggies",
          "Eggs, Meat & Fish",
          "Eggs, Meat & Fish",
          "Food Grains",
          "Fruits & Veggies",
          "Food Grains",
          "Oil & Masala",
          "Eggs, Meat & Fish",
          "Snacks",
          "Snacks",
          "Fruits & Veggies",
          "Beverages",
          "Beverages",
          "Fruits & Veggies",
          "Snacks",
          "Snacks",
          "Fruits & Veggies",
          "Beverages",
          "Food Grains",
          "Oil & Masala",
          "Beverages",
          "Fruits & Veggies",
          "Oil & Masala",
          "Food Grains",
          "Eggs, Meat & Fish",
          "Bakery",
          "Food Grains",
          "Eggs, Meat & Fish",
          "Beverages",
          "Food Grains",
          "Fruits & Veggies",
          "Snacks",
          "Eggs, Meat & Fish",
          "Food Grains",
          "Fruits & Veggies",
          "Snacks",
          "Oil & Masala",
          "Bakery",
          "Beverages",
          "Snacks",
          "Fruits & Veggies",
          "Food Grains",
          "Oil & Masala",
          "Beverages",
          "Snacks",
          "Eggs, Meat & Fish",
          "Fruits & Veggies",
          "Food Grains",
          "Bakery",
          "Oil & Masala",
          "Fruits & Veggies",
          "Snacks",
          "Snacks",
          "Fruits & Veggies",
          "Fruits & Veggies",
          "Food Grains",
          "Eggs, Meat & Fish",
          "Fruits & Veggies",
          "Bakery",
          "Eggs, Meat & Fish",
          "Beverages",
          "Bakery",
          "Fruits & Veggies",
          "Eggs, Meat & Fish",
          "Oil & Masala",
          "Food Grains",
          "Food Grains",
          "Snacks",
          "Beverages",
          "Eggs, Meat & Fish",
          "Bakery",
          "Beverages",
          "Fruits & Veggies",
          "Oil & Masala",
          "Eggs, Meat & Fish",
          "Snacks",
          "Eggs, Meat & Fish",
          "Bakery",
          "Oil & Masala",
          "Food Grains",
          "Eggs, Meat & Fish",
          "Eggs, Meat & Fish",
          "Oil & Masala",
          "Food Grains",
          "Fruits & Veggies",
          "Beverages",
          "Eggs, Meat & Fish",
          "Food Grains",
          "Snacks",
          "Snacks",
          "Food Grains",
          "Snacks",
          "Fruits & Veggies",
          "Snacks",
          "Oil & Masala",
          "Beverages",
          "Food Grains",
          "Beverages",
          "Eggs, Meat & Fish",
          "Snacks",
          "Snacks",
          "Food Grains",
          "Beverages",
          "Snacks",
          "Eggs, Meat & Fish",
          "Oil & Masala",
          "Eggs, Meat & Fish",
          "Food Grains",
          "Beverages",
          "Food Grains",
          "Fruits & Veggies",
          "Fruits & Veggies",
          "Fruits & Veggies",
          "Oil & Masala",
          "Snacks",
          "Fruits & Veggies",
          "Food Grains",
          "Snacks",
          "Beverages",
          "Oil & Masala",
          "Food Grains",
          "Food Grains",
          "Snacks",
          "Bakery",
          "Beverages",
          "Fruits & Veggies",
          "Beverages",
          "Fruits & Veggies",
          "Fruits & Veggies",
          "Beverages",
          "Oil & Masala",
          "Eggs, Meat & Fish",
          "Oil & Masala",
          "Bakery",
          "Food Grains",
          "Eggs, Meat & Fish",
          "Eggs, Meat & Fish",
          "Food Grains",
          "Bakery",
          "Food Grains",
          "Oil & Masala",
          "Oil & Masala",
          "Eggs, Meat & Fish",
          "Eggs, Meat & Fish",
          "Eggs, Meat & Fish",
          "Eggs, Meat & Fish",
          "Beverages",
          "Fruits & Veggies",
          "Eggs, Meat & Fish",
          "Beverages",
          "Food Grains",
          "Beverages",
          "Snacks",
          "Food Grains",
          "Oil & Masala",
          "Fruits & Veggies",
          "Fruits & Veggies",
          "Food Grains",
          "Eggs, Meat & Fish",
          "Eggs, Meat & Fish",
          "Beverages",
          "Eggs, Meat & Fish",
          "Eggs, Meat & Fish",
          "Food Grains",
          "Snacks",
          "Oil & Masala",
          "Beverages",
          "Bakery",
          "Beverages",
          "Food Grains",
          "Snacks",
          "Beverages",
          "Fruits & Veggies",
          "Bakery",
          "Bakery",
          "Fruits & Veggies",
          "Snacks",
          "Bakery",
          "Beverages",
          "Oil & Masala",
          "Oil & Masala",
          "Bakery",
          "Eggs, Meat & Fish",
          "Fruits & Veggies",
          "Beverages",
          "Snacks",
          "Beverages",
          "Beverages",
          "Beverages",
          "Food Grains",
          "Fruits & Veggies",
          "Food Grains",
          "Fruits & Veggies",
          "Beverages",
          "Eggs, Meat & Fish",
          "Beverages",
          "Bakery",
          "Oil & Masala",
          "Food Grains",
          "Food Grains",
          "Beverages",
          "Eggs, Meat & Fish",
          "Fruits & Veggies",
          "Eggs, Meat & Fish",
          "Oil & Masala",
          "Bakery",
          "Beverages",
          "Snacks",
          "Snacks",
          "Fruits & Veggies",
          "Bakery",
          "Fruits & Veggies",
          "Bakery",
          "Eggs, Meat & Fish",
          "Oil & Masala",
          "Snacks",
          "Fruits & Veggies",
          "Snacks",
          "Fruits & Veggies",
          "Beverages",
          "Bakery",
          "Fruits & Veggies",
          "Bakery",
          "Oil & Masala",
          "Snacks",
          "Fruits & Veggies",
          "Bakery",
          "Food Grains",
          "Fruits & Veggies",
          "Eggs, Meat & Fish",
          "Snacks",
          "Oil & Masala",
          "Food Grains",
          "Oil & Masala",
          "Oil & Masala",
          "Food Grains",
          "Eggs, Meat & Fish",
          "Bakery",
          "Oil & Masala",
          "Bakery",
          "Snacks",
          "Oil & Masala",
          "Bakery",
          "Fruits & Veggies",
          "Oil & Masala",
          "Snacks",
          "Snacks",
          "Oil & Masala",
          "Snacks",
          "Beverages",
          "Fruits & Veggies",
          "Eggs, Meat & Fish",
          "Snacks",
          "Fruits & Veggies",
          "Bakery",
          "Snacks",
          "Food Grains",
          "Fruits & Veggies",
          "Oil & Masala",
          "Bakery",
          "Beverages",
          "Fruits & Veggies",
          "Food Grains",
          "Fruits & Veggies",
          "Beverages",
          "Beverages",
          "Beverages",
          "Snacks",
          "Fruits & Veggies",
          "Beverages",
          "Bakery",
          "Oil & Masala",
          "Food Grains",
          "Fruits & Veggies",
          "Bakery",
          "Food Grains",
          "Bakery",
          "Oil & Masala",
          "Beverages",
          "Eggs, Meat & Fish",
          "Fruits & Veggies",
          "Eggs, Meat & Fish",
          "Bakery",
          "Fruits & Veggies",
          "Food Grains",
          "Eggs, Meat & Fish",
          "Food Grains",
          "Fruits & Veggies",
          "Bakery",
          "Food Grains",
          "Beverages",
          "Bakery",
          "Fruits & Veggies",
          "Snacks",
          "Oil & Masala",
          "Fruits & Veggies",
          "Fruits & Veggies",
          "Snacks",
          "Eggs, Meat & Fish",
          "Eggs, Meat & Fish",
          "Eggs, Meat & Fish",
          "Beverages",
          "Bakery",
          "Snacks",
          "Eggs, Meat & Fish",
          "Bakery",
          "Oil & Masala",
          "Fruits & Veggies",
          "Food Grains",
          "Bakery",
          "Beverages",
          "Oil & Masala",
          "Eggs, Meat & Fish",
          "Snacks",
          "Food Grains",
          "Food Grains",
          "Oil & Masala",
          "Food Grains",
          "Oil & Masala",
          "Eggs, Meat & Fish",
          "Beverages",
          "Eggs, Meat & Fish",
          "Fruits & Veggies",
          "Bakery",
          "Snacks",
          "Snacks",
          "Bakery",
          "Bakery",
          "Oil & Masala",
          "Food Grains",
          "Oil & Masala",
          "Food Grains",
          "Bakery",
          "Beverages",
          "Snacks",
          "Bakery",
          "Beverages",
          "Beverages",
          "Eggs, Meat & Fish",
          "Bakery",
          "Snacks",
          "Oil & Masala",
          "Food Grains",
          "Food Grains",
          "Fruits & Veggies",
          "Beverages",
          "Eggs, Meat & Fish",
          "Bakery",
          "Snacks",
          "Oil & Masala",
          "Bakery",
          "Eggs, Meat & Fish",
          "Food Grains",
          "Snacks",
          "Beverages",
          "Food Grains",
          "Beverages",
          "Eggs, Meat & Fish",
          "Fruits & Veggies",
          "Bakery",
          "Food Grains",
          "Bakery",
          "Beverages",
          "Beverages",
          "Snacks",
          "Fruits & Veggies",
          "Food Grains",
          "Fruits & Veggies",
          "Food Grains",
          "Beverages",
          "Bakery",
          "Snacks",
          "Snacks",
          "Eggs, Meat & Fish",
          "Snacks",
          "Oil & Masala",
          "Fruits & Veggies",
          "Fruits & Veggies",
          "Snacks",
          "Eggs, Meat & Fish",
          "Food Grains",
          "Food Grains",
          "Snacks",
          "Snacks",
          "Beverages",
          "Bakery",
          "Food Grains",
          "Oil & Masala",
          "Eggs, Meat & Fish",
          "Oil & Masala",
          "Oil & Masala",
          "Bakery",
          "Snacks",
          "Food Grains",
          "Food Grains",
          "Eggs, Meat & Fish",
          "Food Grains",
          "Food Grains",
          "Eggs, Meat & Fish",
          "Beverages",
          "Food Grains",
          "Fruits & Veggies",
          "Beverages",
          "Snacks",
          "Oil & Masala",
          "Bakery",
          "Fruits & Veggies",
          "Beverages",
          "Bakery",
          "Eggs, Meat & Fish",
          "Beverages",
          "Eggs, Meat & Fish",
          "Oil & Masala",
          "Bakery",
          "Food Grains",
          "Food Grains",
          "Fruits & Veggies",
          "Snacks",
          "Bakery",
          "Bakery",
          "Food Grains",
          "Snacks",
          "Snacks",
          "Fruits & Veggies",
          "Eggs, Meat & Fish",
          "Snacks",
          "Snacks",
          "Bakery",
          "Beverages",
          "Fruits & Veggies",
          "Beverages",
          "Beverages",
          "Beverages",
          "Food Grains",
          "Beverages",
          "Fruits & Veggies"
         ],
         "legendgroup": "",
         "name": "",
         "showlegend": true,
         "type": "pie",
         "values": [
          401.28,
          149.8,
          165.2,
          89.6,
          918.45,
          322.7,
          346.92,
          147.76,
          181.93,
          484.65,
          437.69,
          308.44,
          315.21,
          63.85,
          207.75,
          100.8,
          318.82,
          113.19,
          386.54,
          159.16,
          208.8,
          47.4,
          148.47,
          77.52,
          495,
          202.2,
          43.28,
          401.39,
          874.72,
          69.23,
          166.05,
          420,
          670.53,
          337.8,
          80.9,
          569.25,
          56.04,
          446.82,
          280.16,
          879.35,
          92.4,
          616.44,
          345.78,
          1039.95,
          731.72,
          355,
          509.4,
          610.08,
          43.56,
          415.47,
          153.34,
          553.44,
          99.19,
          181.83,
          60.8,
          611,
          271.17,
          194.88,
          421.12,
          678.72,
          271.32,
          289.46,
          184.2,
          661.58,
          200.31,
          766.08,
          383.04,
          510.4,
          77.64,
          554.4,
          357.84,
          1011.88,
          100.94,
          475,
          117.9,
          193.57,
          75,
          488.88,
          64.71,
          621.81,
          912.15,
          765.16,
          227.7,
          682.66,
          344.52,
          659.99,
          615.65,
          665.2,
          189.99,
          450.72,
          46.14,
          409.53,
          383.04,
          270.84,
          218.45,
          442.8,
          723.84,
          125.35,
          391.17,
          531,
          910.74,
          671.88,
          175.77,
          184.11,
          1035,
          78.75,
          108,
          176.88,
          155.68,
          271.17,
          505.58,
          111,
          581.85,
          69.24,
          242,
          287.1,
          157.59,
          186.77,
          90.3,
          74.1,
          174.02,
          201.19,
          188.32,
          187.59,
          390,
          71.12,
          870.24,
          336.18,
          597.78,
          126.07,
          416.13,
          105.6,
          140.8,
          315.02,
          664.44,
          514.8,
          674.28,
          329.46,
          484.44,
          424.32,
          381.04,
          223.47,
          293.7,
          252.45,
          624.78,
          573.87,
          187.68,
          292.5,
          184.32,
          734.45,
          1029.15,
          335.28,
          76.68,
          234.27,
          626.08,
          809.56,
          456.74,
          620.9,
          1040.16,
          148.7,
          192.51,
          280.06,
          341.36,
          121.28,
          605.64,
          422.5,
          343.57,
          491.4,
          176.25,
          60.75,
          237.36,
          564.8,
          150.29,
          420.92,
          471.69,
          848.39,
          546.75,
          223.52,
          55.12,
          343.72,
          433.35,
          171.8,
          783.72,
          236.98,
          195.5,
          97.16,
          792.4,
          138.21,
          564.2,
          472.89,
          334.88,
          623.21,
          414.12,
          432.6,
          340.75,
          191.14,
          380.43,
          338.18,
          527.28,
          170.5,
          243.32,
          484.2,
          404.1,
          295.68,
          185.94,
          139.86,
          646.36,
          360.81,
          153.58,
          504.92,
          207.06,
          423.54,
          270.47,
          527.67,
          81.6,
          177.06,
          433.25,
          97.45,
          876.16,
          485.3,
          795.4,
          638.37,
          274.17,
          910.8,
          563.68,
          173.88,
          295.2,
          240.8,
          282.92,
          149.04,
          43.02,
          444,
          247.8,
          276.9,
          552.15,
          773.37,
          247,
          216.3,
          518.35,
          124.6,
          423.28,
          214.8,
          78.45,
          646.8,
          326.8,
          369.3,
          288.6,
          59.18,
          482.36,
          959.85,
          235.84,
          127.44,
          636.84,
          62.85,
          170.91,
          617.28,
          990.97,
          476.19,
          290.4,
          359.38,
          63.9,
          216.75,
          150.88,
          275.4,
          420,
          256.74,
          139.2,
          425,
          180.84,
          612.56,
          160.44,
          282.88,
          781.76,
          137.64,
          493.74,
          66.96,
          284.2,
          137.92,
          286.47,
          520.3,
          454.72,
          203.55,
          433.01,
          138.96,
          599.43,
          168.3,
          738,
          429.44,
          298.62,
          244.65,
          497.6,
          418.32,
          237.32,
          263.19,
          547.36,
          184.8,
          527.8,
          630.08,
          994.84,
          304.81,
          96.6,
          421.29,
          683.76,
          292.6,
          297.92,
          404.95,
          383.36,
          586.95,
          200.6,
          196.14,
          189.84,
          797.61,
          641.19,
          406.64,
          660.6,
          775.54,
          174.13,
          89.84,
          410.02,
          328.64,
          602.14,
          363.01,
          141.12,
          228.96,
          914.32,
          406,
          226.8,
          82.6,
          316.6,
          245.44,
          490.59,
          747.77,
          164.25,
          608.7,
          442.08,
          210.14,
          415.72,
          106.11,
          416.99,
          234.39,
          560.01,
          502.8,
          215.08,
          640.01,
          297.12,
          165.44,
          356.16,
          629.12,
          684.16,
          68.46,
          684.76,
          187.05,
          680.14,
          62.2,
          289.77,
          593.76,
          74.7,
          328.72,
          435.42,
          528.31,
          56.2,
          655.68,
          125.4,
          333.72,
          459.67,
          622.72,
          196.35,
          658.53,
          555.45,
          362.25,
          116.96,
          339.6,
          216.45,
          78.54,
          72.4,
          295.23,
          522.75,
          172.53,
          179.48,
          417.2,
          464.12,
          224.51,
          378.36,
          337.44,
          314.64,
          265.65,
          462.21,
          314.24,
          702.26,
          114.1,
          596.44,
          995.85,
          269.55,
          382.4,
          354.35,
          753.58,
          195.12,
          71.17,
          177.14,
          318.99,
          148.96,
          73.85,
          98.98,
          314.64,
          361.12,
          198.12,
          63.28,
          182.02,
          899.13,
          66.4,
          505.23,
          753.6,
          256.76,
          458.56,
          965.78,
          937.2,
          393.76,
          167.67,
          290.22,
          88.77,
          305.28,
          470.09,
          501.72,
          54.72,
          162,
          113.04,
          214.97,
          226.24,
          374.33,
          96.33,
          355.42,
          233.24,
          258.31,
          264.96,
          517.56,
          122.46,
          792,
          258.3,
          444.96,
          216.6,
          74.4,
          547.2,
          34.3,
          313.12,
          217.58,
          347.38,
          231,
          848.4,
          104.25,
          367.95,
          637,
          152.4,
          860.65,
          93.5,
          821.78,
          206.7,
          664.02,
          647.64,
          699.19,
          206.21,
          101.4,
          216.3,
          167.86,
          484,
          519.96,
          412.02,
          139.2,
          168.84,
          208.08,
          216.96,
          80.32,
          658.59,
          514.02,
          208.2,
          359.55,
          790.4,
          251.37,
          255.6,
          633.04,
          146.76,
          403.92,
          949.08,
          195.17,
          188.28,
          491.92,
          777.2,
          649.44,
          478.8,
          572.95,
          870.48,
          843.48,
          74.34,
          526.03,
          327.95,
          247.14,
          415.48,
          545.22,
          53.5,
          818.16
         ]
        }
       ],
       "layout": {
        "height": 600,
        "legend": {
         "tracegroupgap": 0
        },
        "margin": {
         "t": 60
        },
        "piecolorway": [
         "rgb(158,1,66)",
         "rgb(213,62,79)",
         "rgb(244,109,67)",
         "rgb(253,174,97)",
         "rgb(254,224,139)",
         "rgb(255,255,191)",
         "rgb(230,245,152)",
         "rgb(171,221,164)",
         "rgb(102,194,165)",
         "rgb(50,136,189)",
         "rgb(94,79,162)"
        ],
        "template": {
         "data": {
          "bar": [
           {
            "error_x": {
             "color": "#2a3f5f"
            },
            "error_y": {
             "color": "#2a3f5f"
            },
            "marker": {
             "line": {
              "color": "#E5ECF6",
              "width": 0.5
             },
             "pattern": {
              "fillmode": "overlay",
              "size": 10,
              "solidity": 0.2
             }
            },
            "type": "bar"
           }
          ],
          "barpolar": [
           {
            "marker": {
             "line": {
              "color": "#E5ECF6",
              "width": 0.5
             },
             "pattern": {
              "fillmode": "overlay",
              "size": 10,
              "solidity": 0.2
             }
            },
            "type": "barpolar"
           }
          ],
          "carpet": [
           {
            "aaxis": {
             "endlinecolor": "#2a3f5f",
             "gridcolor": "white",
             "linecolor": "white",
             "minorgridcolor": "white",
             "startlinecolor": "#2a3f5f"
            },
            "baxis": {
             "endlinecolor": "#2a3f5f",
             "gridcolor": "white",
             "linecolor": "white",
             "minorgridcolor": "white",
             "startlinecolor": "#2a3f5f"
            },
            "type": "carpet"
           }
          ],
          "choropleth": [
           {
            "colorbar": {
             "outlinewidth": 0,
             "ticks": ""
            },
            "type": "choropleth"
           }
          ],
          "contour": [
           {
            "colorbar": {
             "outlinewidth": 0,
             "ticks": ""
            },
            "colorscale": [
             [
              0,
              "#0d0887"
             ],
             [
              0.1111111111111111,
              "#46039f"
             ],
             [
              0.2222222222222222,
              "#7201a8"
             ],
             [
              0.3333333333333333,
              "#9c179e"
             ],
             [
              0.4444444444444444,
              "#bd3786"
             ],
             [
              0.5555555555555556,
              "#d8576b"
             ],
             [
              0.6666666666666666,
              "#ed7953"
             ],
             [
              0.7777777777777778,
              "#fb9f3a"
             ],
             [
              0.8888888888888888,
              "#fdca26"
             ],
             [
              1,
              "#f0f921"
             ]
            ],
            "type": "contour"
           }
          ],
          "contourcarpet": [
           {
            "colorbar": {
             "outlinewidth": 0,
             "ticks": ""
            },
            "type": "contourcarpet"
           }
          ],
          "heatmap": [
           {
            "colorbar": {
             "outlinewidth": 0,
             "ticks": ""
            },
            "colorscale": [
             [
              0,
              "#0d0887"
             ],
             [
              0.1111111111111111,
              "#46039f"
             ],
             [
              0.2222222222222222,
              "#7201a8"
             ],
             [
              0.3333333333333333,
              "#9c179e"
             ],
             [
              0.4444444444444444,
              "#bd3786"
             ],
             [
              0.5555555555555556,
              "#d8576b"
             ],
             [
              0.6666666666666666,
              "#ed7953"
             ],
             [
              0.7777777777777778,
              "#fb9f3a"
             ],
             [
              0.8888888888888888,
              "#fdca26"
             ],
             [
              1,
              "#f0f921"
             ]
            ],
            "type": "heatmap"
           }
          ],
          "heatmapgl": [
           {
            "colorbar": {
             "outlinewidth": 0,
             "ticks": ""
            },
            "colorscale": [
             [
              0,
              "#0d0887"
             ],
             [
              0.1111111111111111,
              "#46039f"
             ],
             [
              0.2222222222222222,
              "#7201a8"
             ],
             [
              0.3333333333333333,
              "#9c179e"
             ],
             [
              0.4444444444444444,
              "#bd3786"
             ],
             [
              0.5555555555555556,
              "#d8576b"
             ],
             [
              0.6666666666666666,
              "#ed7953"
             ],
             [
              0.7777777777777778,
              "#fb9f3a"
             ],
             [
              0.8888888888888888,
              "#fdca26"
             ],
             [
              1,
              "#f0f921"
             ]
            ],
            "type": "heatmapgl"
           }
          ],
          "histogram": [
           {
            "marker": {
             "pattern": {
              "fillmode": "overlay",
              "size": 10,
              "solidity": 0.2
             }
            },
            "type": "histogram"
           }
          ],
          "histogram2d": [
           {
            "colorbar": {
             "outlinewidth": 0,
             "ticks": ""
            },
            "colorscale": [
             [
              0,
              "#0d0887"
             ],
             [
              0.1111111111111111,
              "#46039f"
             ],
             [
              0.2222222222222222,
              "#7201a8"
             ],
             [
              0.3333333333333333,
              "#9c179e"
             ],
             [
              0.4444444444444444,
              "#bd3786"
             ],
             [
              0.5555555555555556,
              "#d8576b"
             ],
             [
              0.6666666666666666,
              "#ed7953"
             ],
             [
              0.7777777777777778,
              "#fb9f3a"
             ],
             [
              0.8888888888888888,
              "#fdca26"
             ],
             [
              1,
              "#f0f921"
             ]
            ],
            "type": "histogram2d"
           }
          ],
          "histogram2dcontour": [
           {
            "colorbar": {
             "outlinewidth": 0,
             "ticks": ""
            },
            "colorscale": [
             [
              0,
              "#0d0887"
             ],
             [
              0.1111111111111111,
              "#46039f"
             ],
             [
              0.2222222222222222,
              "#7201a8"
             ],
             [
              0.3333333333333333,
              "#9c179e"
             ],
             [
              0.4444444444444444,
              "#bd3786"
             ],
             [
              0.5555555555555556,
              "#d8576b"
             ],
             [
              0.6666666666666666,
              "#ed7953"
             ],
             [
              0.7777777777777778,
              "#fb9f3a"
             ],
             [
              0.8888888888888888,
              "#fdca26"
             ],
             [
              1,
              "#f0f921"
             ]
            ],
            "type": "histogram2dcontour"
           }
          ],
          "mesh3d": [
           {
            "colorbar": {
             "outlinewidth": 0,
             "ticks": ""
            },
            "type": "mesh3d"
           }
          ],
          "parcoords": [
           {
            "line": {
             "colorbar": {
              "outlinewidth": 0,
              "ticks": ""
             }
            },
            "type": "parcoords"
           }
          ],
          "pie": [
           {
            "automargin": true,
            "type": "pie"
           }
          ],
          "scatter": [
           {
            "fillpattern": {
             "fillmode": "overlay",
             "size": 10,
             "solidity": 0.2
            },
            "type": "scatter"
           }
          ],
          "scatter3d": [
           {
            "line": {
             "colorbar": {
              "outlinewidth": 0,
              "ticks": ""
             }
            },
            "marker": {
             "colorbar": {
              "outlinewidth": 0,
              "ticks": ""
             }
            },
            "type": "scatter3d"
           }
          ],
          "scattercarpet": [
           {
            "marker": {
             "colorbar": {
              "outlinewidth": 0,
              "ticks": ""
             }
            },
            "type": "scattercarpet"
           }
          ],
          "scattergeo": [
           {
            "marker": {
             "colorbar": {
              "outlinewidth": 0,
              "ticks": ""
             }
            },
            "type": "scattergeo"
           }
          ],
          "scattergl": [
           {
            "marker": {
             "colorbar": {
              "outlinewidth": 0,
              "ticks": ""
             }
            },
            "type": "scattergl"
           }
          ],
          "scattermapbox": [
           {
            "marker": {
             "colorbar": {
              "outlinewidth": 0,
              "ticks": ""
             }
            },
            "type": "scattermapbox"
           }
          ],
          "scatterpolar": [
           {
            "marker": {
             "colorbar": {
              "outlinewidth": 0,
              "ticks": ""
             }
            },
            "type": "scatterpolar"
           }
          ],
          "scatterpolargl": [
           {
            "marker": {
             "colorbar": {
              "outlinewidth": 0,
              "ticks": ""
             }
            },
            "type": "scatterpolargl"
           }
          ],
          "scatterternary": [
           {
            "marker": {
             "colorbar": {
              "outlinewidth": 0,
              "ticks": ""
             }
            },
            "type": "scatterternary"
           }
          ],
          "surface": [
           {
            "colorbar": {
             "outlinewidth": 0,
             "ticks": ""
            },
            "colorscale": [
             [
              0,
              "#0d0887"
             ],
             [
              0.1111111111111111,
              "#46039f"
             ],
             [
              0.2222222222222222,
              "#7201a8"
             ],
             [
              0.3333333333333333,
              "#9c179e"
             ],
             [
              0.4444444444444444,
              "#bd3786"
             ],
             [
              0.5555555555555556,
              "#d8576b"
             ],
             [
              0.6666666666666666,
              "#ed7953"
             ],
             [
              0.7777777777777778,
              "#fb9f3a"
             ],
             [
              0.8888888888888888,
              "#fdca26"
             ],
             [
              1,
              "#f0f921"
             ]
            ],
            "type": "surface"
           }
          ],
          "table": [
           {
            "cells": {
             "fill": {
              "color": "#EBF0F8"
             },
             "line": {
              "color": "white"
             }
            },
            "header": {
             "fill": {
              "color": "#C8D4E3"
             },
             "line": {
              "color": "white"
             }
            },
            "type": "table"
           }
          ]
         },
         "layout": {
          "annotationdefaults": {
           "arrowcolor": "#2a3f5f",
           "arrowhead": 0,
           "arrowwidth": 1
          },
          "autotypenumbers": "strict",
          "coloraxis": {
           "colorbar": {
            "outlinewidth": 0,
            "ticks": ""
           }
          },
          "colorscale": {
           "diverging": [
            [
             0,
             "#8e0152"
            ],
            [
             0.1,
             "#c51b7d"
            ],
            [
             0.2,
             "#de77ae"
            ],
            [
             0.3,
             "#f1b6da"
            ],
            [
             0.4,
             "#fde0ef"
            ],
            [
             0.5,
             "#f7f7f7"
            ],
            [
             0.6,
             "#e6f5d0"
            ],
            [
             0.7,
             "#b8e186"
            ],
            [
             0.8,
             "#7fbc41"
            ],
            [
             0.9,
             "#4d9221"
            ],
            [
             1,
             "#276419"
            ]
           ],
           "sequential": [
            [
             0,
             "#0d0887"
            ],
            [
             0.1111111111111111,
             "#46039f"
            ],
            [
             0.2222222222222222,
             "#7201a8"
            ],
            [
             0.3333333333333333,
             "#9c179e"
            ],
            [
             0.4444444444444444,
             "#bd3786"
            ],
            [
             0.5555555555555556,
             "#d8576b"
            ],
            [
             0.6666666666666666,
             "#ed7953"
            ],
            [
             0.7777777777777778,
             "#fb9f3a"
            ],
            [
             0.8888888888888888,
             "#fdca26"
            ],
            [
             1,
             "#f0f921"
            ]
           ],
           "sequentialminus": [
            [
             0,
             "#0d0887"
            ],
            [
             0.1111111111111111,
             "#46039f"
            ],
            [
             0.2222222222222222,
             "#7201a8"
            ],
            [
             0.3333333333333333,
             "#9c179e"
            ],
            [
             0.4444444444444444,
             "#bd3786"
            ],
            [
             0.5555555555555556,
             "#d8576b"
            ],
            [
             0.6666666666666666,
             "#ed7953"
            ],
            [
             0.7777777777777778,
             "#fb9f3a"
            ],
            [
             0.8888888888888888,
             "#fdca26"
            ],
            [
             1,
             "#f0f921"
            ]
           ]
          },
          "colorway": [
           "#636efa",
           "#EF553B",
           "#00cc96",
           "#ab63fa",
           "#FFA15A",
           "#19d3f3",
           "#FF6692",
           "#B6E880",
           "#FF97FF",
           "#FECB52"
          ],
          "font": {
           "color": "#2a3f5f"
          },
          "geo": {
           "bgcolor": "white",
           "lakecolor": "white",
           "landcolor": "#E5ECF6",
           "showlakes": true,
           "showland": true,
           "subunitcolor": "white"
          },
          "hoverlabel": {
           "align": "left"
          },
          "hovermode": "closest",
          "mapbox": {
           "style": "light"
          },
          "paper_bgcolor": "white",
          "plot_bgcolor": "#E5ECF6",
          "polar": {
           "angularaxis": {
            "gridcolor": "white",
            "linecolor": "white",
            "ticks": ""
           },
           "bgcolor": "#E5ECF6",
           "radialaxis": {
            "gridcolor": "white",
            "linecolor": "white",
            "ticks": ""
           }
          },
          "scene": {
           "xaxis": {
            "backgroundcolor": "#E5ECF6",
            "gridcolor": "white",
            "gridwidth": 2,
            "linecolor": "white",
            "showbackground": true,
            "ticks": "",
            "zerolinecolor": "white"
           },
           "yaxis": {
            "backgroundcolor": "#E5ECF6",
            "gridcolor": "white",
            "gridwidth": 2,
            "linecolor": "white",
            "showbackground": true,
            "ticks": "",
            "zerolinecolor": "white"
           },
           "zaxis": {
            "backgroundcolor": "#E5ECF6",
            "gridcolor": "white",
            "gridwidth": 2,
            "linecolor": "white",
            "showbackground": true,
            "ticks": "",
            "zerolinecolor": "white"
           }
          },
          "shapedefaults": {
           "line": {
            "color": "#2a3f5f"
           }
          },
          "ternary": {
           "aaxis": {
            "gridcolor": "white",
            "linecolor": "white",
            "ticks": ""
           },
           "baxis": {
            "gridcolor": "white",
            "linecolor": "white",
            "ticks": ""
           },
           "bgcolor": "#E5ECF6",
           "caxis": {
            "gridcolor": "white",
            "linecolor": "white",
            "ticks": ""
           }
          },
          "title": {
           "x": 0.05
          },
          "xaxis": {
           "automargin": true,
           "gridcolor": "white",
           "linecolor": "white",
           "ticks": "",
           "title": {
            "standoff": 15
           },
           "zerolinecolor": "white",
           "zerolinewidth": 2
          },
          "yaxis": {
           "automargin": true,
           "gridcolor": "white",
           "linecolor": "white",
           "ticks": "",
           "title": {
            "standoff": 15
           },
           "zerolinecolor": "white",
           "zerolinewidth": 2
          }
         }
        },
        "title": {
         "font": {
          "size": 30
         },
         "text": "Category Profits",
         "x": 0.43,
         "y": 0.96
        },
        "width": 700
       }
      },
      "image/png": "[encoded data removed]",
      "text/html": [
       "<div>                            <div id=\"6a77ffa5-7137-4c5e-aec4-9946a3730e53\" class=\"plotly-graph-div\" style=\"height:600px; width:700px;\"></div>            <script type=\"text/javascript\">                require([\"plotly\"], function(Plotly) {                    window.PLOTLYENV=window.PLOTLYENV || {};                                    if (document.getElementById(\"6a77ffa5-7137-4c5e-aec4-9946a3730e53\")) {                    Plotly.newPlot(                        \"6a77ffa5-7137-4c5e-aec4-9946a3730e53\",                        [{\"domain\":{\"x\":[0.0,1.0],\"y\":[0.0,1.0]},\"hovertemplate\":\"Category=%{label}\\u003cbr\\u003eProfit=%{value}\\u003cextra\\u003e\\u003c\\u002fextra\\u003e\",\"labels\":[\"Oil & Masala\",\"Beverages\",\"Food Grains\",\"Fruits & Veggies\",\"Food Grains\",\"Food Grains\",\"Fruits & Veggies\",\"Fruits & Veggies\",\"Bakery\",\"Bakery\",\"Snacks\",\"Eggs, Meat & Fish\",\"Snacks\",\"Fruits & Veggies\",\"Eggs, Meat & Fish\",\"Oil & Masala\",\"Bakery\",\"Beverages\",\"Eggs, Meat & Fish\",\"Beverages\",\"Beverages\",\"Food Grains\",\"Beverages\",\"Fruits & Veggies\",\"Eggs, Meat & Fish\",\"Snacks\",\"Snacks\",\"Bakery\",\"Beverages\",\"Oil & Masala\",\"Beverages\",\"Snacks\",\"Oil & Masala\",\"Oil & Masala\",\"Beverages\",\"Eggs, Meat & Fish\",\"Beverages\",\"Fruits & Veggies\",\"Fruits & Veggies\",\"Eggs, Meat & Fish\",\"Beverages\",\"Beverages\",\"Snacks\",\"Snacks\",\"Bakery\",\"Eggs, Meat & Fish\",\"Fruits & Veggies\",\"Snacks\",\"Snacks\",\"Bakery\",\"Beverages\",\"Beverages\",\"Bakery\",\"Fruits & Veggies\",\"Fruits & Veggies\",\"Food Grains\",\"Eggs, Meat & Fish\",\"Food Grains\",\"Eggs, Meat & Fish\",\"Beverages\",\"Oil & Masala\",\"Snacks\",\"Eggs, Meat & Fish\",\"Fruits & Veggies\",\"Eggs, Meat & Fish\",\"Eggs, Meat & Fish\",\"Food Grains\",\"Fruits & Veggies\",\"Food Grains\",\"Oil & Masala\",\"Eggs, Meat & Fish\",\"Snacks\",\"Snacks\",\"Fruits & Veggies\",\"Beverages\",\"Beverages\",\"Fruits & Veggies\",\"Snacks\",\"Snacks\",\"Fruits & Veggies\",\"Beverages\",\"Food Grains\",\"Oil & Masala\",\"Beverages\",\"Fruits & Veggies\",\"Oil & Masala\",\"Food Grains\",\"Eggs, Meat & Fish\",\"Bakery\",\"Food Grains\",\"Eggs, Meat & Fish\",\"Beverages\",\"Food Grains\",\"Fruits & Veggies\",\"Snacks\",\"Eggs, Meat & Fish\",\"Food Grains\",\"Fruits & Veggies\",\"Snacks\",\"Oil & Masala\",\"Bakery\",\"Beverages\",\"Snacks\",\"Fruits & Veggies\",\"Food Grains\",\"Oil & Masala\",\"Beverages\",\"Snacks\",\"Eggs, Meat & Fish\",\"Fruits & Veggies\",\"Food Grains\",\"Bakery\",\"Oil & Masala\",\"Fruits & Veggies\",\"Snacks\",\"Snacks\",\"Fruits & Veggies\",\"Fruits & Veggies\",\"Food Grains\",\"Eggs, Meat & Fish\",\"Fruits & Veggies\",\"Bakery\",\"Eggs, Meat & Fish\",\"Beverages\",\"Bakery\",\"Fruits & Veggies\",\"Eggs, Meat & Fish\",\"Oil & Masala\",\"Food Grains\",\"Food Grains\",\"Snacks\",\"Beverages\",\"Eggs, Meat & Fish\",\"Bakery\",\"Beverages\",\"Fruits & Veggies\",\"Oil & Masala\",\"Eggs, Meat & Fish\",\"Snacks\",\"Eggs, Meat & Fish\",\"Bakery\",\"Oil & Masala\",\"Food Grains\",\"Eggs, Meat & Fish\",\"Eggs, Meat & Fish\",\"Oil & Masala\",\"Food Grains\",\"Fruits & Veggies\",\"Beverages\",\"Eggs, Meat & Fish\",\"Food Grains\",\"Snacks\",\"Snacks\",\"Food Grains\",\"Snacks\",\"Fruits & Veggies\",\"Snacks\",\"Oil & Masala\",\"Beverages\",\"Food Grains\",\"Beverages\",\"Eggs, Meat & Fish\",\"Snacks\",\"Snacks\",\"Food Grains\",\"Beverages\",\"Snacks\",\"Eggs, Meat & Fish\",\"Oil & Masala\",\"Eggs, Meat & Fish\",\"Food Grains\",\"Beverages\",\"Food Grains\",\"Fruits & Veggies\",\"Fruits & Veggies\",\"Fruits & Veggies\",\"Oil & Masala\",\"Snacks\",\"Fruits & Veggies\",\"Food Grains\",\"Snacks\",\"Beverages\",\"Oil & Masala\",\"Food Grains\",\"Food Grains\",\"Snacks\",\"Bakery\",\"Beverages\",\"Fruits & Veggies\",\"Beverages\",\"Fruits & Veggies\",\"Fruits & Veggies\",\"Beverages\",\"Oil & Masala\",\"Eggs, Meat & Fish\",\"Oil & Masala\",\"Bakery\",\"Food Grains\",\"Eggs, Meat & Fish\",\"Eggs, Meat & Fish\",\"Food Grains\",\"Bakery\",\"Food Grains\",\"Oil & Masala\",\"Oil & Masala\",\"Eggs, Meat & Fish\",\"Eggs, Meat & Fish\",\"Eggs, Meat & Fish\",\"Eggs, Meat & Fish\",\"Beverages\",\"Fruits & Veggies\",\"Eggs, Meat & Fish\",\"Beverages\",\"Food Grains\",\"Beverages\",\"Snacks\",\"Food Grains\",\"Oil & Masala\",\"Fruits & Veggies\",\"Fruits & Veggies\",\"Food Grains\",\"Eggs, Meat & Fish\",\"Eggs, Meat & Fish\",\"Beverages\",\"Eggs, Meat & Fish\",\"Eggs, Meat & Fish\",\"Food Grains\",\"Snacks\",\"Oil & Masala\",\"Beverages\",\"Bakery\",\"Beverages\",\"Food Grains\",\"Snacks\",\"Beverages\",\"Fruits & Veggies\",\"Bakery\",\"Bakery\",\"Fruits & Veggies\",\"Snacks\",\"Bakery\",\"Beverages\",\"Oil & Masala\",\"Oil & Masala\",\"Bakery\",\"Eggs, Meat & Fish\",\"Fruits & Veggies\",\"Beverages\",\"Snacks\",\"Beverages\",\"Beverages\",\"Beverages\",\"Food Grains\",\"Fruits & Veggies\",\"Food Grains\",\"Fruits & Veggies\",\"Beverages\",\"Eggs, Meat & Fish\",\"Beverages\",\"Bakery\",\"Oil & Masala\",\"Food Grains\",\"Food Grains\",\"Beverages\",\"Eggs, Meat & Fish\",\"Fruits & Veggies\",\"Eggs, Meat & Fish\",\"Oil & Masala\",\"Bakery\",\"Beverages\",\"Snacks\",\"Snacks\",\"Fruits & Veggies\",\"Bakery\",\"Fruits & Veggies\",\"Bakery\",\"Eggs, Meat & Fish\",\"Oil & Masala\",\"Snacks\",\"Fruits & Veggies\",\"Snacks\",\"Fruits & Veggies\",\"Beverages\",\"Bakery\",\"Fruits & Veggies\",\"Bakery\",\"Oil & Masala\",\"Snacks\",\"Fruits & Veggies\",\"Bakery\",\"Food Grains\",\"Fruits & Veggies\",\"Eggs, Meat & Fish\",\"Snacks\",\"Oil & Masala\",\"Food Grains\",\"Oil & Masala\",\"Oil & Masala\",\"Food Grains\",\"Eggs, Meat & Fish\",\"Bakery\",\"Oil & Masala\",\"Bakery\",\"Snacks\",\"Oil & Masala\",\"Bakery\",\"Fruits & Veggies\",\"Oil & Masala\",\"Snacks\",\"Snacks\",\"Oil & Masala\",\"Snacks\",\"Beverages\",\"Fruits & Veggies\",\"Eggs, Meat & Fish\",\"Snacks\",\"Fruits & Veggies\",\"Bakery\",\"Snacks\",\"Food Grains\",\"Fruits & Veggies\",\"Oil & Masala\",\"Bakery\",\"Beverages\",\"Fruits & Veggies\",\"Food Grains\",\"Fruits & Veggies\",\"Beverages\",\"Beverages\",\"Beverages\",\"Snacks\",\"Fruits & Veggies\",\"Beverages\",\"Bakery\",\"Oil & Masala\",\"Food Grains\",\"Fruits & Veggies\",\"Bakery\",\"Food Grains\",\"Bakery\",\"Oil & Masala\",\"Beverages\",\"Eggs, Meat & Fish\",\"Fruits & Veggies\",\"Eggs, Meat & Fish\",\"Bakery\",\"Fruits & Veggies\",\"Food Grains\",\"Eggs, Meat & Fish\",\"Food Grains\",\"Fruits & Veggies\",\"Bakery\",\"Food Grains\",\"Beverages\",\"Bakery\",\"Fruits & Veggies\",\"Snacks\",\"Oil & Masala\",\"Fruits & Veggies\",\"Fruits & Veggies\",\"Snacks\",\"Eggs, Meat & Fish\",\"Eggs, Meat & Fish\",\"Eggs, Meat & Fish\",\"Beverages\",\"Bakery\",\"Snacks\",\"Eggs, Meat & Fish\",\"Bakery\",\"Oil & Masala\",\"Fruits & Veggies\",\"Food Grains\",\"Bakery\",\"Beverages\",\"Oil & Masala\",\"Eggs, Meat & Fish\",\"Snacks\",\"Food Grains\",\"Food Grains\",\"Oil & Masala\",\"Food Grains\",\"Oil & Masala\",\"Eggs, Meat & Fish\",\"Beverages\",\"Eggs, Meat & Fish\",\"Fruits & Veggies\",\"Bakery\",\"Snacks\",\"Snacks\",\"Bakery\",\"Bakery\",\"Oil & Masala\",\"Food Grains\",\"Oil & Masala\",\"Food Grains\",\"Bakery\",\"Beverages\",\"Snacks\",\"Bakery\",\"Beverages\",\"Beverages\",\"Eggs, Meat & Fish\",\"Bakery\",\"Snacks\",\"Oil & Masala\",\"Food Grains\",\"Food Grains\",\"Fruits & Veggies\",\"Beverages\",\"Eggs, Meat & Fish\",\"Bakery\",\"Snacks\",\"Oil & Masala\",\"Bakery\",\"Eggs, Meat & Fish\",\"Food Grains\",\"Snacks\",\"Beverages\",\"Food Grains\",\"Beverages\",\"Eggs, Meat & Fish\",\"Fruits & Veggies\",\"Bakery\",\"Food Grains\",\"Bakery\",\"Beverages\",\"Beverages\",\"Snacks\",\"Fruits & Veggies\",\"Food Grains\",\"Fruits & Veggies\",\"Food Grains\",\"Beverages\",\"Bakery\",\"Snacks\",\"Snacks\",\"Eggs, Meat & Fish\",\"Snacks\",\"Oil & Masala\",\"Fruits & Veggies\",\"Fruits & Veggies\",\"Snacks\",\"Eggs, Meat & Fish\",\"Food Grains\",\"Food Grains\",\"Snacks\",\"Snacks\",\"Beverages\",\"Bakery\",\"Food Grains\",\"Oil & Masala\",\"Eggs, Meat & Fish\",\"Oil & Masala\",\"Oil & Masala\",\"Bakery\",\"Snacks\",\"Food Grains\",\"Food Grains\",\"Eggs, Meat & Fish\",\"Food Grains\",\"Food Grains\",\"Eggs, Meat & Fish\",\"Beverages\",\"Food Grains\",\"Fruits & Veggies\",\"Beverages\",\"Snacks\",\"Oil & Masala\",\"Bakery\",\"Fruits & Veggies\",\"Beverages\",\"Bakery\",\"Eggs, Meat & Fish\",\"Beverages\",\"Eggs, Meat & Fish\",\"Oil & Masala\",\"Bakery\",\"Food Grains\",\"Food Grains\",\"Fruits & Veggies\",\"Snacks\",\"Bakery\",\"Bakery\",\"Food Grains\",\"Snacks\",\"Snacks\",\"Fruits & Veggies\",\"Eggs, Meat & Fish\",\"Snacks\",\"Snacks\",\"Bakery\",\"Beverages\",\"Fruits & Veggies\",\"Beverages\",\"Beverages\",\"Beverages\",\"Food Grains\",\"Beverages\",\"Fruits & Veggies\"],\"legendgroup\":\"\",\"name\":\"\",\"showlegend\":true,\"values\":[401.28,149.8,165.2,89.6,918.45,322.7,346.92,147.76,181.93,484.65,437.69,308.44,315.21,63.85,207.75,100.8,318.82,113.19,386.54,159.16,208.8,47.4,148.47,77.52,495.0,202.2,43.28,401.39,874.72,69.23,166.05,420.0,670.53,337.8,80.9,569.25,56.04,446.82,280.16,879.35,92.4,616.44,345.78,1039.95,731.72,355.0,509.4,610.08,43.56,415.47,153.34,553.44,99.19,181.83,60.8,611.0,271.17,194.88,421.12,678.72,271.32,289.46,184.2,661.58,200.31,766.08,383.04,510.4,77.64,554.4,357.84,1011.88,100.94,475.0,117.9,193.57,75.0,488.88,64.71,621.81,912.15,765.16,227.7,682.66,344.52,659.99,615.65,665.2,189.99,450.72,46.14,409.53,383.04,270.84,218.45,442.8,723.84,125.35,391.17,531.0,910.74,671.88,175.77,184.11,1035.0,78.75,108.0,176.88,155.68,271.17,505.58,111.0,581.85,69.24,242.0,287.1,157.59,186.77,90.3,74.1,174.02,201.19,188.32,187.59,390.0,71.12,870.24,336.18,597.78,126.07,416.13,105.6,140.8,315.02,664.44,514.8,674.28,329.46,484.44,424.32,381.04,223.47,293.7,252.45,624.78,573.87,187.68,292.5,184.32,734.45,1029.15,335.28,76.68,234.27,626.08,809.56,456.74,620.9,1040.16,148.7,192.51,280.06,341.36,121.28,605.64,422.5,343.57,491.4,176.25,60.75,237.36,564.8,150.29,420.92,471.69,848.39,546.75,223.52,55.12,343.72,433.35,171.8,783.72,236.98,195.5,97.16,792.4,138.21,564.2,472.89,334.88,623.21,414.12,432.6,340.75,191.14,380.43,338.18,527.28,170.5,243.32,484.2,404.1,295.68,185.94,139.86,646.36,360.81,153.58,504.92,207.06,423.54,270.47,527.67,81.6,177.06,433.25,97.45,876.16,485.3,795.4,638.37,274.17,910.8,563.68,173.88,295.2,240.8,282.92,149.04,43.02,444.0,247.8,276.9,552.15,773.37,247.0,216.3,518.35,124.6,423.28,214.8,78.45,646.8,326.8,369.3,288.6,59.18,482.36,959.85,235.84,127.44,636.84,62.85,170.91,617.28,990.97,476.19,290.4,359.38,63.9,216.75,150.88,275.4,420.0,256.74,139.2,425.0,180.84,612.56,160.44,282.88,781.76,137.64,493.74,66.96,284.2,137.92,286.47,520.3,454.72,203.55,433.01,138.96,599.43,168.3,738.0,429.44,298.62,244.65,497.6,418.32,237.32,263.19,547.36,184.8,527.8,630.08,994.84,304.81,96.6,421.29,683.76,292.6,297.92,404.95,383.36,586.95,200.6,196.14,189.84,797.61,641.19,406.64,660.6,775.54,174.13,89.84,410.02,328.64,602.14,363.01,141.12,228.96,914.32,406.0,226.8,82.6,316.6,245.44,490.59,747.77,164.25,608.7,442.08,210.14,415.72,106.11,416.99,234.39,560.01,502.8,215.08,640.01,297.12,165.44,356.16,629.12,684.16,68.46,684.76,187.05,680.14,62.2,289.77,593.76,74.7,328.72,435.42,528.31,56.2,655.68,125.4,333.72,459.67,622.72,196.35,658.53,555.45,362.25,116.96,339.6,216.45,78.54,72.4,295.23,522.75,172.53,179.48,417.2,464.12,224.51,378.36,337.44,314.64,265.65,462.21,314.24,702.26,114.1,596.44,995.85,269.55,382.4,354.35,753.58,195.12,71.17,177.14,318.99,148.96,73.85,98.98,314.64,361.12,198.12,63.28,182.02,899.13,66.4,505.23,753.6,256.76,458.56,965.78,937.2,393.76,167.67,290.22,88.77,305.28,470.09,501.72,54.72,162.0,113.04,214.97,226.24,374.33,96.33,355.42,233.24,258.31,264.96,517.56,122.46,792.0,258.3,444.96,216.6,74.4,547.2,34.3,313.12,217.58,347.38,231.0,848.4,104.25,367.95,637.0,152.4,860.65,93.5,821.78,206.7,664.02,647.64,699.19,206.21,101.4,216.3,167.86,484.0,519.96,412.02,139.2,168.84,208.08,216.96,80.32,658.59,514.02,208.2,359.55,790.4,251.37,255.6,633.04,146.76,403.92,949.08,195.17,188.28,491.92,777.2,649.44,478.8,572.95,870.48,843.48,74.34,526.03,327.95,247.14,415.48,545.22,53.5,818.16],\"type\":\"pie\"}],                        {\"template\":{\"data\":{\"histogram2dcontour\":[{\"type\":\"histogram2dcontour\",\"colorbar\":{\"outlinewidth\":0,\"ticks\":\"\"},\"colorscale\":[[0.0,\"#0d0887\"],[0.1111111111111111,\"#46039f\"],[0.2222222222222222,\"#7201a8\"],[0.3333333333333333,\"#9c179e\"],[0.4444444444444444,\"#bd3786\"],[0.5555555555555556,\"#d8576b\"],[0.6666666666666666,\"#ed7953\"],[0.7777777777777778,\"#fb9f3a\"],[0.8888888888888888,\"#fdca26\"],[1.0,\"#f0f921\"]]}],\"choropleth\":[{\"type\":\"choropleth\",\"colorbar\":{\"outlinewidth\":0,\"ticks\":\"\"}}],\"histogram2d\":[{\"type\":\"histogram2d\",\"colorbar\":{\"outlinewidth\":0,\"ticks\":\"\"},\"colorscale\":[[0.0,\"#0d0887\"],[0.1111111111111111,\"#46039f\"],[0.2222222222222222,\"#7201a8\"],[0.3333333333333333,\"#9c179e\"],[0.4444444444444444,\"#bd3786\"],[0.5555555555555556,\"#d8576b\"],[0.6666666666666666,\"#ed7953\"],[0.7777777777777778,\"#fb9f3a\"],[0.8888888888888888,\"#fdca26\"],[1.0,\"#f0f921\"]]}],\"heatmap\":[{\"type\":\"heatmap\",\"colorbar\":{\"outlinewidth\":0,\"ticks\":\"\"},\"colorscale\":[[0.0,\"#0d0887\"],[0.1111111111111111,\"#46039f\"],[0.2222222222222222,\"#7201a8\"],[0.3333333333333333,\"#9c179e\"],[0.4444444444444444,\"#bd3786\"],[0.5555555555555556,\"#d8576b\"],[0.6666666666666666,\"#ed7953\"],[0.7777777777777778,\"#fb9f3a\"],[0.8888888888888888,\"#fdca26\"],[1.0,\"#f0f921\"]]}],\"heatmapgl\":[{\"type\":\"heatmapgl\",\"colorbar\":{\"outlinewidth\":0,\"ticks\":\"\"},\"colorscale\":[[0.0,\"#0d0887\"],[0.1111111111111111,\"#46039f\"],[0.2222222222222222,\"#7201a8\"],[0.3333333333333333,\"#9c179e\"],[0.4444444444444444,\"#bd3786\"],[0.5555555555555556,\"#d8576b\"],[0.6666666666666666,\"#ed7953\"],[0.7777777777777778,\"#fb9f3a\"],[0.8888888888888888,\"#fdca26\"],[1.0,\"#f0f921\"]]}],\"contourcarpet\":[{\"type\":\"contourcarpet\",\"colorbar\":{\"outlinewidth\":0,\"ticks\":\"\"}}],\"contour\":[{\"type\":\"contour\",\"colorbar\":{\"outlinewidth\":0,\"ticks\":\"\"},\"colorscale\":[[0.0,\"#0d0887\"],[0.1111111111111111,\"#46039f\"],[0.2222222222222222,\"#7201a8\"],[0.3333333333333333,\"#9c179e\"],[0.4444444444444444,\"#bd3786\"],[0.5555555555555556,\"#d8576b\"],[0.6666666666666666,\"#ed7953\"],[0.7777777777777778,\"#fb9f3a\"],[0.8888888888888888,\"#fdca26\"],[1.0,\"#f0f921\"]]}],\"surface\":[{\"type\":\"surface\",\"colorbar\":{\"outlinewidth\":0,\"ticks\":\"\"},\"colorscale\":[[0.0,\"#0d0887\"],[0.1111111111111111,\"#46039f\"],[0.2222222222222222,\"#7201a8\"],[0.3333333333333333,\"#9c179e\"],[0.4444444444444444,\"#bd3786\"],[0.5555555555555556,\"#d8576b\"],[0.6666666666666666,\"#ed7953\"],[0.7777777777777778,\"#fb9f3a\"],[0.8888888888888888,\"#fdca26\"],[1.0,\"#f0f921\"]]}],\"mesh3d\":[{\"type\":\"mesh3d\",\"colorbar\":{\"outlinewidth\":0,\"ticks\":\"\"}}],\"scatter\":[{\"fillpattern\":{\"fillmode\":\"overlay\",\"size\":10,\"solidity\":0.2},\"type\":\"scatter\"}],\"parcoords\":[{\"type\":\"parcoords\",\"line\":{\"colorbar\":{\"outlinewidth\":0,\"ticks\":\"\"}}}],\"scatterpolargl\":[{\"type\":\"scatterpolargl\",\"marker\":{\"colorbar\":{\"outlinewidth\":0,\"ticks\":\"\"}}}],\"bar\":[{\"error_x\":{\"color\":\"#2a3f5f\"},\"error_y\":{\"color\":\"#2a3f5f\"},\"marker\":{\"line\":{\"color\":\"#E5ECF6\",\"width\":0.5},\"pattern\":{\"fillmode\":\"overlay\",\"size\":10,\"solidity\":0.2}},\"type\":\"bar\"}],\"scattergeo\":[{\"type\":\"scattergeo\",\"marker\":{\"colorbar\":{\"outlinewidth\":0,\"ticks\":\"\"}}}],\"scatterpolar\":[{\"type\":\"scatterpolar\",\"marker\":{\"colorbar\":{\"outlinewidth\":0,\"ticks\":\"\"}}}],\"histogram\":[{\"marker\":{\"pattern\":{\"fillmode\":\"overlay\",\"size\":10,\"solidity\":0.2}},\"type\":\"histogram\"}],\"scattergl\":[{\"type\":\"scattergl\",\"marker\":{\"colorbar\":{\"outlinewidth\":0,\"ticks\":\"\"}}}],\"scatter3d\":[{\"type\":\"scatter3d\",\"line\":{\"colorbar\":{\"outlinewidth\":0,\"ticks\":\"\"}},\"marker\":{\"colorbar\":{\"outlinewidth\":0,\"ticks\":\"\"}}}],\"scattermapbox\":[{\"type\":\"scattermapbox\",\"marker\":{\"colorbar\":{\"outlinewidth\":0,\"ticks\":\"\"}}}],\"scatterternary\":[{\"type\":\"scatterternary\",\"marker\":{\"colorbar\":{\"outlinewidth\":0,\"ticks\":\"\"}}}],\"scattercarpet\":[{\"type\":\"scattercarpet\",\"marker\":{\"colorbar\":{\"outlinewidth\":0,\"ticks\":\"\"}}}],\"carpet\":[{\"aaxis\":{\"endlinecolor\":\"#2a3f5f\",\"gridcolor\":\"white\",\"linecolor\":\"white\",\"minorgridcolor\":\"white\",\"startlinecolor\":\"#2a3f5f\"},\"baxis\":{\"endlinecolor\":\"#2a3f5f\",\"gridcolor\":\"white\",\"linecolor\":\"white\",\"minorgridcolor\":\"white\",\"startlinecolor\":\"#2a3f5f\"},\"type\":\"carpet\"}],\"table\":[{\"cells\":{\"fill\":{\"color\":\"#EBF0F8\"},\"line\":{\"color\":\"white\"}},\"header\":{\"fill\":{\"color\":\"#C8D4E3\"},\"line\":{\"color\":\"white\"}},\"type\":\"table\"}],\"barpolar\":[{\"marker\":{\"line\":{\"color\":\"#E5ECF6\",\"width\":0.5},\"pattern\":{\"fillmode\":\"overlay\",\"size\":10,\"solidity\":0.2}},\"type\":\"barpolar\"}],\"pie\":[{\"automargin\":true,\"type\":\"pie\"}]},\"layout\":{\"autotypenumbers\":\"strict\",\"colorway\":[\"#636efa\",\"#EF553B\",\"#00cc96\",\"#ab63fa\",\"#FFA15A\",\"#19d3f3\",\"#FF6692\",\"#B6E880\",\"#FF97FF\",\"#FECB52\"],\"font\":{\"color\":\"#2a3f5f\"},\"hovermode\":\"closest\",\"hoverlabel\":{\"align\":\"left\"},\"paper_bgcolor\":\"white\",\"plot_bgcolor\":\"#E5ECF6\",\"polar\":{\"bgcolor\":\"#E5ECF6\",\"angularaxis\":{\"gridcolor\":\"white\",\"linecolor\":\"white\",\"ticks\":\"\"},\"radialaxis\":{\"gridcolor\":\"white\",\"linecolor\":\"white\",\"ticks\":\"\"}},\"ternary\":{\"bgcolor\":\"#E5ECF6\",\"aaxis\":{\"gridcolor\":\"white\",\"linecolor\":\"white\",\"ticks\":\"\"},\"baxis\":{\"gridcolor\":\"white\",\"linecolor\":\"white\",\"ticks\":\"\"},\"caxis\":{\"gridcolor\":\"white\",\"linecolor\":\"white\",\"ticks\":\"\"}},\"coloraxis\":{\"colorbar\":{\"outlinewidth\":0,\"ticks\":\"\"}},\"colorscale\":{\"sequential\":[[0.0,\"#0d0887\"],[0.1111111111111111,\"#46039f\"],[0.2222222222222222,\"#7201a8\"],[0.3333333333333333,\"#9c179e\"],[0.4444444444444444,\"#bd3786\"],[0.5555555555555556,\"#d8576b\"],[0.6666666666666666,\"#ed7953\"],[0.7777777777777778,\"#fb9f3a\"],[0.8888888888888888,\"#fdca26\"],[1.0,\"#f0f921\"]],\"sequentialminus\":[[0.0,\"#0d0887\"],[0.1111111111111111,\"#46039f\"],[0.2222222222222222,\"#7201a8\"],[0.3333333333333333,\"#9c179e\"],[0.4444444444444444,\"#bd3786\"],[0.5555555555555556,\"#d8576b\"],[0.6666666666666666,\"#ed7953\"],[0.7777777777777778,\"#fb9f3a\"],[0.8888888888888888,\"#fdca26\"],[1.0,\"#f0f921\"]],\"diverging\":[[0,\"#8e0152\"],[0.1,\"#c51b7d\"],[0.2,\"#de77ae\"],[0.3,\"#f1b6da\"],[0.4,\"#fde0ef\"],[0.5,\"#f7f7f7\"],[0.6,\"#e6f5d0\"],[0.7,\"#b8e186\"],[0.8,\"#7fbc41\"],[0.9,\"#4d9221\"],[1,\"#276419\"]]},\"xaxis\":{\"gridcolor\":\"white\",\"linecolor\":\"white\",\"ticks\":\"\",\"title\":{\"standoff\":15},\"zerolinecolor\":\"white\",\"automargin\":true,\"zerolinewidth\":2},\"yaxis\":{\"gridcolor\":\"white\",\"linecolor\":\"white\",\"ticks\":\"\",\"title\":{\"standoff\":15},\"zerolinecolor\":\"white\",\"automargin\":true,\"zerolinewidth\":2},\"scene\":{\"xaxis\":{\"backgroundcolor\":\"#E5ECF6\",\"gridcolor\":\"white\",\"linecolor\":\"white\",\"showbackground\":true,\"ticks\":\"\",\"zerolinecolor\":\"white\",\"gridwidth\":2},\"yaxis\":{\"backgroundcolor\":\"#E5ECF6\",\"gridcolor\":\"white\",\"linecolor\":\"white\",\"showbackground\":true,\"ticks\":\"\",\"zerolinecolor\":\"white\",\"gridwidth\":2},\"zaxis\":{\"backgroundcolor\":\"#E5ECF6\",\"gridcolor\":\"white\",\"linecolor\":\"white\",\"showbackground\":true,\"ticks\":\"\",\"zerolinecolor\":\"white\",\"gridwidth\":2}},\"shapedefaults\":{\"line\":{\"color\":\"#2a3f5f\"}},\"annotationdefaults\":{\"arrowcolor\":\"#2a3f5f\",\"arrowhead\":0,\"arrowwidth\":1},\"geo\":{\"bgcolor\":\"white\",\"landcolor\":\"#E5ECF6\",\"subunitcolor\":\"white\",\"showland\":true,\"showlakes\":true,\"lakecolor\":\"white\"},\"title\":{\"x\":0.05},\"mapbox\":{\"style\":\"light\"}}},\"legend\":{\"tracegroupgap\":0},\"margin\":{\"t\":60},\"piecolorway\":[\"rgb(158,1,66)\",\"rgb(213,62,79)\",\"rgb(244,109,67)\",\"rgb(253,174,97)\",\"rgb(254,224,139)\",\"rgb(255,255,191)\",\"rgb(230,245,152)\",\"rgb(171,221,164)\",\"rgb(102,194,165)\",\"rgb(50,136,189)\",\"rgb(94,79,162)\"],\"title\":{\"font\":{\"size\":30},\"text\":\"Category Profits\",\"x\":0.43,\"y\":0.96},\"width\":700,\"height\":600},                        {\"responsive\": true}                    ).then(function(){\n",
       "                            \n",
       "var gd = document.getElementById('6a77ffa5-7137-4c5e-aec4-9946a3730e53');\n",
       "var x = new MutationObserver(function (mutations, observer) {{\n",
       "        var display = window.getComputedStyle(gd).display;\n",
       "        if (!display || display === 'none') {{\n",
       "            console.log([gd, 'removed!']);\n",
       "            Plotly.purge(gd);\n",
       "            observer.disconnect();\n",
       "        }}\n",
       "}});\n",
       "\n",
       "// Listen for the removal of the full notebook cells\n",
       "var notebookContainer = gd.closest('#notebook-container');\n",
       "if (notebookContainer) {{\n",
       "    x.observe(notebookContainer, {childList: true});\n",
       "}}\n",
       "\n",
       "// Listen for the clearing of the current output cell\n",
       "var outputEl = gd.closest('.output');\n",
       "if (outputEl) {{\n",
       "    x.observe(outputEl, {childList: true});\n",
       "}}\n",
       "\n",
       "                        })                };                });            </script>        </div>"
      ]
     },
     "metadata": {},
     "output_type": "display_data"
    }
   ],
   "source": [
    "# Visualization of Profits by Category sales\n",
    "import plotly.express as px\n",
    "fig = px.pie(data, names=\"Category\", values=\"Profit\",color_discrete_sequence=px.colors.diverging.Spectral)\n",
    "fig.update_layout( title={'text': 'Category Profits', 'x': 0.43, 'y':.96,'font_size':30},\n",
    "    width=700,\n",
    "    height=600)\n",
    "fig.show()\n"
   ]
  },
  {
   "cell_type": "raw",
   "id": "59582cc8-2144-4c16-8720-08684e6bd69a",
   "metadata": {},
   "source": [
    "Observation: The Pie chart shows the profits of Category.The highest Category with  highest Profits 28830 is 'Fruits and Veggies' in 16.6% in overall percentage.\n",
    "-> then highest profits in 'Food Grains'(28830.27), 'Beverages' (27178.39) with 15.6 and 14.7% .\n",
    "-> The average pprofits in 'Eggs,Meat anf Fish'(27103.19) and 'Snacks'(26314.72) with 14.6% and 14.2%.\n",
    "-> The lowest profits in 'Oil and MAsala'(22958.77) and Bakery(21871.38) with 12.4% and 11.8%."
   ]
  },
  {
   "cell_type": "code",
   "execution_count": 27,
   "id": "2feee120-2c6f-4138-8724-36e1c1432f4a",
   "metadata": {},
   "outputs": [
    {
     "data": {
      "image/png": "[encoded data removed]",
      "text/plain": [
       "<Figure size 640x480 with 1 Axes>"
      ]
     },
     "metadata": {},
     "output_type": "display_data"
    }
   ],
   "source": [
    "# Sales in overall years \n",
    "import matplotlib.pyplot as plt\n",
    "data.groupby(\"Year\")[\"Sales\"].sum().plot(kind=\"line\", marker=\"o\",color='green')\n",
    "plt.show()"
   ]
  },
  {
   "cell_type": "markdown",
   "id": "72302d41-69aa-4e9e-a157-f618dba2a908",
   "metadata": {},
   "source": [
    "Obseravtion: The Line Chart visualization Shows sales in each year. \n",
    "-> The Sales in 2015 is slow, then the sales decreases gradually in 2016. So the lowest slaes in 2016 year\n",
    "-> In 2016, the sales rapidly increased the sales. So the highjest sales in 2017 year.\n",
    "-> In 2017, the sales rapily decreased the sales and decresed in 2018 with less sales."
   ]
  },
  {
   "cell_type": "code",
   "execution_count": 33,
   "id": "ba477f1a-6bae-4a82-a100-e89495ee51b5",
   "metadata": {},
   "outputs": [
    {
     "data": {
      "image/png": "[encoded data removed]",
      "text/plain": [
       "<Figure size 800x500 with 1 Axes>"
      ]
     },
     "metadata": {},
     "output_type": "display_data"
    },
    {
     "data": {
      "image/png": "[encoded data removed]",
      "text/plain": [
       "<Figure size 800x500 with 1 Axes>"
      ]
     },
     "metadata": {},
     "output_type": "display_data"
    },
    {
     "data": {
      "image/png": "[encoded data removed]",
      "text/plain": [
       "<Figure size 800x500 with 1 Axes>"
      ]
     },
     "metadata": {},
     "output_type": "display_data"
    },
    {
     "data": {
      "image/png": "[encoded data removed]",
      "text/plain": [
       "<Figure size 800x500 with 1 Axes>"
      ]
     },
     "metadata": {},
     "output_type": "display_data"
    }
   ],
   "source": [
    "# Visualiztion of all months sales in all years in dataset\n",
    "import pandas as pd\n",
    "import matplotlib.pyplot as plt\n",
    "import seaborn as sns\n",
    "sales_per_month = data.groupby([\"Year\", \"Month\"])[\"Sales\"].sum().reset_index()\n",
    "month_order = ['Jan', 'Feb', 'Mar', 'Apr', 'May', 'Jun', 'Jul', 'Aug', 'Sep', 'Oct', 'Nov', 'Dec']\n",
    "# Sort month column correctly\n",
    "sales_per_month[\"Month\"] = pd.Categorical(sales_per_month[\"Month\"], categories=month_order, ordered=True)\n",
    "sales_per_month = sales_per_month.sort_values([\"Year\", \"Month\"])\n",
    "unique_years = sales_per_month[\"Year\"].unique()\n",
    "for year in unique_years:\n",
    "    yearly_data = sales_per_month[sales_per_month[\"Year\"] == year]\n",
    "    plt.figure(figsize=(8, 5))\n",
    "    sns.lineplot(data=yearly_data, x=\"Month\", y=\"Sales\",marker='s' ,color=\"orange\",linewidth=2)\n",
    "    plt.title(f\"Monthly Sales Trend - {year}\", fontsize=14)\n",
    "    plt.xlabel(\"Month\", fontsize=12)\n",
    "    plt.ylabel(\"Total Sales\", fontsize=12)\n",
    "    plt.xticks(rotation=45)\n",
    "    plt.grid(True)\n",
    "    plt.show()"
   ]
  },
  {
   "cell_type": "raw",
   "id": "371cc3b8-678e-4410-9347-330daac157f7",
   "metadata": {},
   "source": [
    "Observation: The line Chart shows the Sales in all months of 2015, 2016,2-17 and 2018.\n",
    "-> The sales changes in every month in all years."
   ]
  },
  {
   "cell_type": "code",
   "execution_count": 35,
   "id": "284270a6-fc5f-473b-9342-f6388405d213",
   "metadata": {},
   "outputs": [
    {
     "data": {
      "application/vnd.plotly.v1+json": {
       "config": {
        "plotlyServerURL": "https://plot.ly"
       },
       "data": [
        {
         "alignmentgroup": "True",
         "hovertemplate": "Region=%{x}<br>Sales=%{y}<br>Profit=%{marker.color}<extra></extra>",
         "legendgroup": "",
         "marker": {
          "color": [
           401.28,
           149.8,
           165.2,
           89.6,
           918.45,
           322.7,
           346.92,
           147.76,
           181.93,
           484.65,
           437.69,
           308.44,
           315.21,
           63.85,
           207.75,
           100.8,
           318.82,
           113.19,
           386.54,
           159.16,
           208.8,
           47.4,
           148.47,
           77.52,
           495,
           202.2,
           43.28,
           401.39,
           874.72,
           69.23,
           166.05,
           420,
           670.53,
           337.8,
           80.9,
           569.25,
           56.04,
           446.82,
           280.16,
           879.35,
           92.4,
           616.44,
           345.78,
           1039.95,
           731.72,
           355,
           509.4,
           610.08,
           43.56,
           415.47,
           153.34,
           553.44,
           99.19,
           181.83,
           60.8,
           611,
           271.17,
           194.88,
           421.12,
           678.72,
           271.32,
           289.46,
           184.2,
           661.58,
           200.31,
           766.08,
           383.04,
           510.4,
           77.64,
           554.4,
           357.84,
           1011.88,
           100.94,
           475,
           117.9,
           193.57,
           75,
           488.88,
           64.71,
           621.81,
           912.15,
           765.16,
           227.7,
           682.66,
           344.52,
           659.99,
           615.65,
           665.2,
           189.99,
           450.72,
           46.14,
           409.53,
           383.04,
           270.84,
           218.45,
           442.8,
           723.84,
           125.35,
           391.17,
           531,
           910.74,
           671.88,
           175.77,
           184.11,
           1035,
           78.75,
           108,
           176.88,
           155.68,
           271.17,
           505.58,
           111,
           581.85,
           69.24,
           242,
           287.1,
           157.59,
           186.77,
           90.3,
           74.1,
           174.02,
           201.19,
           188.32,
           187.59,
           390,
           71.12,
           870.24,
           336.18,
           597.78,
           126.07,
           416.13,
           105.6,
           140.8,
           315.02,
           664.44,
           514.8,
           674.28,
           329.46,
           484.44,
           424.32,
           381.04,
           223.47,
           293.7,
           252.45,
           624.78,
           573.87,
           187.68,
           292.5,
           184.32,
           734.45,
           1029.15,
           335.28,
           76.68,
           234.27,
           626.08,
           809.56,
           456.74,
           620.9,
           1040.16,
           148.7,
           192.51,
           280.06,
           341.36,
           121.28,
           605.64,
           422.5,
           343.57,
           491.4,
           176.25,
           60.75,
           237.36,
           564.8,
           150.29,
           420.92,
           471.69,
           848.39,
           546.75,
           223.52,
           55.12,
           343.72,
           433.35,
           171.8,
           783.72,
           236.98,
           195.5,
           97.16,
           792.4,
           138.21,
           564.2,
           472.89,
           334.88,
           623.21,
           414.12,
           432.6,
           340.75,
           191.14,
           380.43,
           338.18,
           527.28,
           170.5,
           243.32,
           484.2,
           404.1,
           295.68,
           185.94,
           139.86,
           646.36,
           360.81,
           153.58,
           504.92,
           207.06,
           423.54,
           270.47,
           527.67,
           81.6,
           177.06,
           433.25,
           97.45,
           876.16,
           485.3,
           795.4,
           638.37,
           274.17,
           910.8,
           563.68,
           173.88,
           295.2,
           240.8,
           282.92,
           149.04,
           43.02,
           444,
           247.8,
           276.9,
           552.15,
           773.37,
           247,
           216.3,
           518.35,
           124.6,
           423.28,
           214.8,
           78.45,
           646.8,
           326.8,
           369.3,
           288.6,
           59.18,
           482.36,
           959.85,
           235.84,
           127.44,
           636.84,
           62.85,
           170.91,
           617.28,
           990.97,
           476.19,
           290.4,
           359.38,
           63.9,
           216.75,
           150.88,
           275.4,
           420,
           256.74,
           139.2,
           425,
           180.84,
           612.56,
           160.44,
           282.88,
           781.76,
           137.64,
           493.74,
           66.96,
           284.2,
           137.92,
           286.47,
           520.3,
           454.72,
           203.55,
           433.01,
           138.96,
           599.43,
           168.3,
           738,
           429.44,
           298.62,
           244.65,
           497.6,
           418.32,
           237.32,
           263.19,
           547.36,
           184.8,
           527.8,
           630.08,
           994.84,
           304.81,
           96.6,
           421.29,
           683.76,
           292.6,
           297.92,
           404.95,
           383.36,
           586.95,
           200.6,
           196.14,
           189.84,
           797.61,
           641.19,
           406.64,
           660.6,
           775.54,
           174.13,
           89.84,
           410.02,
           328.64,
           602.14,
           363.01,
           141.12,
           228.96,
           914.32,
           406,
           226.8,
           82.6,
           316.6,
           245.44,
           490.59,
           747.77,
           164.25,
           608.7,
           442.08,
           210.14,
           415.72,
           106.11,
           416.99,
           234.39,
           560.01,
           502.8,
           215.08,
           640.01,
           297.12,
           165.44,
           356.16,
           629.12,
           684.16,
           68.46,
           684.76,
           187.05,
           680.14,
           62.2,
           289.77,
           593.76,
           74.7,
           328.72,
           435.42,
           528.31,
           56.2,
           655.68,
           125.4,
           333.72,
           459.67,
           622.72,
           196.35,
           658.53,
           555.45,
           362.25,
           116.96,
           339.6,
           216.45,
           78.54,
           72.4,
           295.23,
           522.75,
           172.53,
           179.48,
           417.2,
           464.12,
           224.51,
           378.36,
           337.44,
           314.64,
           265.65,
           462.21,
           314.24,
           702.26,
           114.1,
           596.44,
           995.85,
           269.55,
           382.4,
           354.35,
           753.58,
           195.12,
           71.17,
           177.14,
           318.99,
           148.96,
           73.85,
           98.98,
           314.64,
           361.12,
           198.12,
           63.28,
           182.02,
           899.13,
           66.4,
           505.23,
           753.6,
           256.76,
           458.56,
           965.78,
           937.2,
           393.76,
           167.67,
           290.22,
           88.77,
           305.28,
           470.09,
           501.72,
           54.72,
           162,
           113.04,
           214.97,
           226.24,
           374.33,
           96.33,
           355.42,
           233.24,
           258.31,
           264.96,
           517.56,
           122.46,
           792,
           258.3,
           444.96,
           216.6,
           74.4,
           547.2,
           34.3,
           313.12,
           217.58,
           347.38,
           231,
           848.4,
           104.25,
           367.95,
           637,
           152.4,
           860.65,
           93.5,
           821.78,
           206.7,
           664.02,
           647.64,
           699.19,
           206.21,
           101.4,
           216.3,
           167.86,
           484,
           519.96,
           412.02,
           139.2,
           168.84,
           208.08,
           216.96,
           80.32,
           658.59,
           514.02,
           208.2,
           359.55,
           790.4,
           251.37,
           255.6,
           633.04,
           146.76,
           403.92,
           949.08,
           195.17,
           188.28,
           491.92,
           777.2,
           649.44,
           478.8,
           572.95,
           870.48,
           843.48,
           74.34,
           526.03,
           327.95,
           247.14,
           415.48,
           545.22,
           53.5,
           818.16
          ],
          "coloraxis": "coloraxis",
          "pattern": {
           "shape": ""
          }
         },
         "name": "",
         "offsetgroup": "",
         "orientation": "v",
         "showlegend": false,
         "textposition": "auto",
         "type": "bar",
         "x": [
          "North",
          "South",
          "West",
          "South",
          "South",
          "West",
          "West",
          "West",
          "West",
          "West",
          "West",
          "West",
          "South",
          "West",
          "Central",
          "Central",
          "Central",
          "West",
          "West",
          "West",
          "West",
          "Central",
          "Central",
          "East",
          "West",
          "West",
          "West",
          "East",
          "East",
          "East",
          "East",
          "East",
          "East",
          "East",
          "Central",
          "Central",
          "Central",
          "Central",
          "Central",
          "Central",
          "Central",
          "Central",
          "West",
          "South",
          "Central",
          "Central",
          "Central",
          "East",
          "East",
          "Central",
          "Central",
          "Central",
          "Central",
          "East",
          "East",
          "East",
          "East",
          "East",
          "East",
          "East",
          "East",
          "East",
          "West",
          "West",
          "West",
          "West",
          "Central",
          "West",
          "West",
          "South",
          "East",
          "Central",
          "South",
          "South",
          "South",
          "Central",
          "Central",
          "Central",
          "Central",
          "South",
          "South",
          "West",
          "West",
          "South",
          "Central",
          "South",
          "Central",
          "Central",
          "Central",
          "West",
          "West",
          "West",
          "Central",
          "Central",
          "Central",
          "West",
          "East",
          "West",
          "Central",
          "Central",
          "Central",
          "Central",
          "Central",
          "West",
          "West",
          "West",
          "South",
          "South",
          "South",
          "Central",
          "East",
          "Central",
          "Central",
          "East",
          "East",
          "East",
          "East",
          "West",
          "South",
          "East",
          "East",
          "East",
          "East",
          "East",
          "Central",
          "Central",
          "West",
          "West",
          "West",
          "West",
          "East",
          "East",
          "East",
          "West",
          "West",
          "West",
          "West",
          "West",
          "West",
          "West",
          "East",
          "West",
          "West",
          "West",
          "Central",
          "West",
          "East",
          "Central",
          "Central",
          "Central",
          "Central",
          "West",
          "West",
          "West",
          "West",
          "West",
          "West",
          "West",
          "Central",
          "Central",
          "West",
          "East",
          "West",
          "West",
          "Central",
          "Central",
          "Central",
          "Central",
          "Central",
          "Central",
          "Central",
          "West",
          "West",
          "West",
          "Central",
          "Central",
          "Central",
          "East",
          "East",
          "East",
          "Central",
          "Central",
          "South",
          "South",
          "South",
          "East",
          "West",
          "Central",
          "Central",
          "East",
          "East",
          "East",
          "East",
          "East",
          "West",
          "East",
          "East",
          "East",
          "East",
          "East",
          "East",
          "West",
          "West",
          "Central",
          "South",
          "West",
          "Central",
          "Central",
          "Central",
          "Central",
          "Central",
          "Central",
          "East",
          "East",
          "East",
          "East",
          "East",
          "West",
          "West",
          "East",
          "East",
          "East",
          "East",
          "East",
          "East",
          "Central",
          "Central",
          "Central",
          "South",
          "South",
          "South",
          "South",
          "South",
          "South",
          "South",
          "South",
          "West",
          "Central",
          "Central",
          "Central",
          "Central",
          "Central",
          "Central",
          "Central",
          "Central",
          "Central",
          "Central",
          "Central",
          "Central",
          "West",
          "West",
          "West",
          "East",
          "East",
          "Central",
          "Central",
          "Central",
          "Central",
          "East",
          "East",
          "East",
          "Central",
          "Central",
          "Central",
          "Central",
          "West",
          "South",
          "East",
          "East",
          "East",
          "West",
          "West",
          "West",
          "West",
          "West",
          "West",
          "East",
          "East",
          "East",
          "East",
          "Central",
          "Central",
          "West",
          "West",
          "West",
          "West",
          "South",
          "South",
          "South",
          "East",
          "East",
          "East",
          "East",
          "West",
          "West",
          "West",
          "West",
          "West",
          "East",
          "East",
          "East",
          "East",
          "East",
          "Central",
          "East",
          "Central",
          "East",
          "East",
          "South",
          "West",
          "West",
          "West",
          "West",
          "East",
          "South",
          "South",
          "East",
          "East",
          "East",
          "East",
          "East",
          "East",
          "West",
          "West",
          "West",
          "South",
          "East",
          "East",
          "East",
          "East",
          "East",
          "East",
          "East",
          "East",
          "West",
          "West",
          "West",
          "West",
          "West",
          "West",
          "East",
          "East",
          "East",
          "East",
          "Central",
          "West",
          "East",
          "East",
          "East",
          "East",
          "East",
          "East",
          "East",
          "East",
          "East",
          "East",
          "East",
          "East",
          "South",
          "South",
          "South",
          "East",
          "East",
          "East",
          "East",
          "West",
          "East",
          "East",
          "East",
          "East",
          "Central",
          "Central",
          "West",
          "West",
          "West",
          "West",
          "Central",
          "East",
          "Central",
          "Central",
          "Central",
          "West",
          "West",
          "Central",
          "South",
          "South",
          "East",
          "East",
          "East",
          "East",
          "East",
          "West",
          "West",
          "Central",
          "West",
          "East",
          "East",
          "Central",
          "Central",
          "Central",
          "Central",
          "Central",
          "South",
          "South",
          "East",
          "West",
          "West",
          "West",
          "West",
          "West",
          "West",
          "West",
          "West",
          "West",
          "West",
          "West",
          "West",
          "West",
          "South",
          "West",
          "West",
          "West",
          "East",
          "East",
          "South",
          "Central",
          "Central",
          "East",
          "Central",
          "South",
          "South",
          "South",
          "South",
          "East",
          "South",
          "South",
          "Central",
          "Central",
          "Central",
          "East",
          "Central",
          "Central",
          "Central",
          "Central",
          "Central",
          "Central",
          "Central",
          "East",
          "East",
          "East",
          "East",
          "East",
          "East",
          "East",
          "East",
          "Central",
          "West",
          "Central",
          "Central",
          "West",
          "West",
          "West",
          "West",
          "West",
          "West",
          "West",
          "West",
          "Central",
          "Central",
          "Central",
          "East",
          "West",
          "West",
          "West",
          "West",
          "West",
          "West",
          "West",
          "East",
          "East",
          "East",
          "West",
          "East",
          "East",
          "West",
          "West",
          "West",
          "Central",
          "Central",
          "Central",
          "Central",
          "East",
          "East",
          "West",
          "South",
          "South",
          "West",
          "West",
          "West"
         ],
         "xaxis": "x",
         "y": [
          1254,
          749,
          2360,
          896,
          2355,
          2305,
          826,
          1847,
          791,
          1795,
          1903,
          701,
          1659,
          1277,
          831,
          1440,
          1678,
          1617,
          1757,
          692,
          522,
          948,
          707,
          969,
          1100,
          2022,
          541,
          979,
          1988,
          989,
          1845,
          1400,
          2163,
          1689,
          809,
          1265,
          934,
          1354,
          1751,
          2045,
          660,
          1868,
          1017,
          2311,
          1663,
          1420,
          1415,
          1488,
          726,
          1259,
          902,
          2306,
          1417,
          627,
          760,
          2350,
          1179,
          1624,
          1316,
          2121,
          1428,
          706,
          921,
          1741,
          607,
          1824,
          1368,
          1160,
          1294,
          1232,
          994,
          2468,
          721,
          2375,
          1965,
          1489,
          1250,
          1358,
          719,
          2303,
          2027,
          1739,
          990,
          2354,
          1044,
          2129,
          1759,
          1663,
          2111,
          1878,
          769,
          1241,
          2128,
          2257,
          1285,
          1230,
          1856,
          545,
          2301,
          1475,
          2118,
          1527,
          567,
          969,
          2300,
          1575,
          540,
          536,
          556,
          1179,
          1487,
          2220,
          2155,
          1154,
          2420,
          1305,
          927,
          983,
          903,
          1235,
          1243,
          649,
          2354,
          1443,
          975,
          889,
          2352,
          1293,
          1458,
          1801,
          1261,
          2112,
          640,
          1658,
          2373,
          1430,
          1873,
          867,
          1101,
          1088,
          866,
          2483,
          1335,
          765,
          2403,
          1551,
          1564,
          1125,
          768,
          1985,
          2287,
          1016,
          852,
          1233,
          2236,
          2188,
          1114,
          1774,
          2364,
          1487,
          713,
          737,
          1004,
          1516,
          1442,
          1690,
          2021,
          2340,
          705,
          1215,
          552,
          1412,
          791,
          2476,
          1747,
          1973,
          2025,
          1016,
          689,
          1322,
          1605,
          1718,
          2177,
          578,
          782,
          1388,
          2264,
          813,
          2015,
          1433,
          2093,
          2149,
          1972,
          2060,
          1175,
          1006,
          1409,
          914,
          1352,
          682,
          1738,
          2421,
          2245,
          896,
          1033,
          1998,
          1469,
          1899,
          2194,
          1942,
          609,
          2353,
          1591,
          1353,
          1020,
          1362,
          1733,
          1949,
          2368,
          2110,
          1940,
          1557,
          1443,
          2024,
          2168,
          621,
          1230,
          560,
          1286,
          1242,
          717,
          1480,
          826,
          1846,
          2045,
          1983,
          650,
          2163,
          1481,
          2492,
          962,
          1432,
          523,
          1540,
          817,
          2462,
          962,
          538,
          1556,
          2133,
          1474,
          531,
          1769,
          1257,
          1899,
          1929,
          2417,
          1443,
          660,
          2114,
          1278,
          867,
          943,
          1836,
          1200,
          1167,
          696,
          2500,
          1507,
          1612,
          764,
          884,
          2443,
          1147,
          1899,
          744,
          812,
          862,
          1061,
          2365,
          1421,
          1357,
          1007,
          1544,
          1537,
          1530,
          2460,
          976,
          1106,
          1165,
          1244,
          1992,
          1396,
          849,
          2488,
          840,
          1820,
          1969,
          2261,
          1793,
          644,
          1359,
          1554,
          2090,
          931,
          1157,
          2396,
          1677,
          590,
          1401,
          678,
          2417,
          2211,
          2392,
          1835,
          2281,
          1583,
          1123,
          1079,
          1027,
          1771,
          1171,
          672,
          848,
          2078,
          1400,
          945,
          590,
          1583,
          1534,
          2133,
          2021,
          1825,
          2029,
          1228,
          1501,
          1094,
          1179,
          1127,
          601,
          1697,
          2095,
          1132,
          1561,
          1238,
          2068,
          1113,
          1966,
          2138,
          978,
          2014,
          645,
          2194,
          1244,
          743,
          2474,
          1494,
          1174,
          1062,
          2297,
          562,
          2049,
          570,
          1236,
          1069,
          1946,
          595,
          2439,
          2415,
          1725,
          688,
          1698,
          1665,
          1309,
          905,
          2271,
          2091,
          1917,
          641,
          1192,
          1132,
          1727,
          1051,
          2109,
          1311,
          759,
          2201,
          1964,
          1898,
          2282,
          2294,
          2213,
          1797,
          1912,
          1865,
          1838,
          1626,
          647,
          1042,
          1519,
          532,
          1477,
          707,
          1748,
          2257,
          762,
          904,
          958,
          2193,
          830,
          1531,
          2355,
          917,
          1433,
          2246,
          2130,
          2461,
          1863,
          1382,
          807,
          1272,
          1621,
          1356,
          684,
          540,
          1256,
          581,
          707,
          913,
          507,
          1367,
          833,
          1987,
          1152,
          1362,
          942,
          2200,
          861,
          1648,
          1805,
          620,
          1216,
          686,
          1648,
          506,
          1579,
          550,
          2020,
          695,
          2453,
          1820,
          508,
          2459,
          850,
          2417,
          795,
          2142,
          1542,
          2411,
          1213,
          507,
          618,
          1199,
          2200,
          1238,
          1962,
          580,
          2412,
          1224,
          1356,
          502,
          2271,
          1977,
          1388,
          2115,
          1976,
          1323,
          639,
          1544,
          1223,
          1224,
          2157,
          673,
          2092,
          1892,
          1943,
          1968,
          1596,
          1637,
          2232,
          1917,
          531,
          1283,
          937,
          1373,
          1598,
          1398,
          1070,
          1948
         ],
         "yaxis": "y"
        }
       ],
       "layout": {
        "barmode": "relative",
        "coloraxis": {
         "colorbar": {
          "title": {
           "text": "Profit"
          }
         },
         "colorscale": [
          [
           0,
           "#0d0887"
          ],
          [
           0.1111111111111111,
           "#46039f"
          ],
          [
           0.2222222222222222,
           "#7201a8"
          ],
          [
           0.3333333333333333,
           "#9c179e"
          ],
          [
           0.4444444444444444,
           "#bd3786"
          ],
          [
           0.5555555555555556,
           "#d8576b"
          ],
          [
           0.6666666666666666,
           "#ed7953"
          ],
          [
           0.7777777777777778,
           "#fb9f3a"
          ],
          [
           0.8888888888888888,
           "#fdca26"
          ],
          [
           1,
           "#f0f921"
          ]
         ]
        },
        "height": 700,
        "legend": {
         "tracegroupgap": 0
        },
        "margin": {
         "t": 60
        },
        "template": {
         "data": {
          "bar": [
           {
            "error_x": {
             "color": "#2a3f5f"
            },
            "error_y": {
             "color": "#2a3f5f"
            },
            "marker": {
             "line": {
              "color": "#E5ECF6",
              "width": 0.5
             },
             "pattern": {
              "fillmode": "overlay",
              "size": 10,
              "solidity": 0.2
             }
            },
            "type": "bar"
           }
          ],
          "barpolar": [
           {
            "marker": {
             "line": {
              "color": "#E5ECF6",
              "width": 0.5
             },
             "pattern": {
              "fillmode": "overlay",
              "size": 10,
              "solidity": 0.2
             }
            },
            "type": "barpolar"
           }
          ],
          "carpet": [
           {
            "aaxis": {
             "endlinecolor": "#2a3f5f",
             "gridcolor": "white",
             "linecolor": "white",
             "minorgridcolor": "white",
             "startlinecolor": "#2a3f5f"
            },
            "baxis": {
             "endlinecolor": "#2a3f5f",
             "gridcolor": "white",
             "linecolor": "white",
             "minorgridcolor": "white",
             "startlinecolor": "#2a3f5f"
            },
            "type": "carpet"
           }
          ],
          "choropleth": [
           {
            "colorbar": {
             "outlinewidth": 0,
             "ticks": ""
            },
            "type": "choropleth"
           }
          ],
          "contour": [
           {
            "colorbar": {
             "outlinewidth": 0,
             "ticks": ""
            },
            "colorscale": [
             [
              0,
              "#0d0887"
             ],
             [
              0.1111111111111111,
              "#46039f"
             ],
             [
              0.2222222222222222,
              "#7201a8"
             ],
             [
              0.3333333333333333,
              "#9c179e"
             ],
             [
              0.4444444444444444,
              "#bd3786"
             ],
             [
              0.5555555555555556,
              "#d8576b"
             ],
             [
              0.6666666666666666,
              "#ed7953"
             ],
             [
              0.7777777777777778,
              "#fb9f3a"
             ],
             [
              0.8888888888888888,
              "#fdca26"
             ],
             [
              1,
              "#f0f921"
             ]
            ],
            "type": "contour"
           }
          ],
          "contourcarpet": [
           {
            "colorbar": {
             "outlinewidth": 0,
             "ticks": ""
            },
            "type": "contourcarpet"
           }
          ],
          "heatmap": [
           {
            "colorbar": {
             "outlinewidth": 0,
             "ticks": ""
            },
            "colorscale": [
             [
              0,
              "#0d0887"
             ],
             [
              0.1111111111111111,
              "#46039f"
             ],
             [
              0.2222222222222222,
              "#7201a8"
             ],
             [
              0.3333333333333333,
              "#9c179e"
             ],
             [
              0.4444444444444444,
              "#bd3786"
             ],
             [
              0.5555555555555556,
              "#d8576b"
             ],
             [
              0.6666666666666666,
              "#ed7953"
             ],
             [
              0.7777777777777778,
              "#fb9f3a"
             ],
             [
              0.8888888888888888,
              "#fdca26"
             ],
             [
              1,
              "#f0f921"
             ]
            ],
            "type": "heatmap"
           }
          ],
          "heatmapgl": [
           {
            "colorbar": {
             "outlinewidth": 0,
             "ticks": ""
            },
            "colorscale": [
             [
              0,
              "#0d0887"
             ],
             [
              0.1111111111111111,
              "#46039f"
             ],
             [
              0.2222222222222222,
              "#7201a8"
             ],
             [
              0.3333333333333333,
              "#9c179e"
             ],
             [
              0.4444444444444444,
              "#bd3786"
             ],
             [
              0.5555555555555556,
              "#d8576b"
             ],
             [
              0.6666666666666666,
              "#ed7953"
             ],
             [
              0.7777777777777778,
              "#fb9f3a"
             ],
             [
              0.8888888888888888,
              "#fdca26"
             ],
             [
              1,
              "#f0f921"
             ]
            ],
            "type": "heatmapgl"
           }
          ],
          "histogram": [
           {
            "marker": {
             "pattern": {
              "fillmode": "overlay",
              "size": 10,
              "solidity": 0.2
             }
            },
            "type": "histogram"
           }
          ],
          "histogram2d": [
           {
            "colorbar": {
             "outlinewidth": 0,
             "ticks": ""
            },
            "colorscale": [
             [
              0,
              "#0d0887"
             ],
             [
              0.1111111111111111,
              "#46039f"
             ],
             [
              0.2222222222222222,
              "#7201a8"
             ],
             [
              0.3333333333333333,
              "#9c179e"
             ],
             [
              0.4444444444444444,
              "#bd3786"
             ],
             [
              0.5555555555555556,
              "#d8576b"
             ],
             [
              0.6666666666666666,
              "#ed7953"
             ],
             [
              0.7777777777777778,
              "#fb9f3a"
             ],
             [
              0.8888888888888888,
              "#fdca26"
             ],
             [
              1,
              "#f0f921"
             ]
            ],
            "type": "histogram2d"
           }
          ],
          "histogram2dcontour": [
           {
            "colorbar": {
             "outlinewidth": 0,
             "ticks": ""
            },
            "colorscale": [
             [
              0,
              "#0d0887"
             ],
             [
              0.1111111111111111,
              "#46039f"
             ],
             [
              0.2222222222222222,
              "#7201a8"
             ],
             [
              0.3333333333333333,
              "#9c179e"
             ],
             [
              0.4444444444444444,
              "#bd3786"
             ],
             [
              0.5555555555555556,
              "#d8576b"
             ],
             [
              0.6666666666666666,
              "#ed7953"
             ],
             [
              0.7777777777777778,
              "#fb9f3a"
             ],
             [
              0.8888888888888888,
              "#fdca26"
             ],
             [
              1,
              "#f0f921"
             ]
            ],
            "type": "histogram2dcontour"
           }
          ],
          "mesh3d": [
           {
            "colorbar": {
             "outlinewidth": 0,
             "ticks": ""
            },
            "type": "mesh3d"
           }
          ],
          "parcoords": [
           {
            "line": {
             "colorbar": {
              "outlinewidth": 0,
              "ticks": ""
             }
            },
            "type": "parcoords"
           }
          ],
          "pie": [
           {
            "automargin": true,
            "type": "pie"
           }
          ],
          "scatter": [
           {
            "fillpattern": {
             "fillmode": "overlay",
             "size": 10,
             "solidity": 0.2
            },
            "type": "scatter"
           }
          ],
          "scatter3d": [
           {
            "line": {
             "colorbar": {
              "outlinewidth": 0,
              "ticks": ""
             }
            },
            "marker": {
             "colorbar": {
              "outlinewidth": 0,
              "ticks": ""
             }
            },
            "type": "scatter3d"
           }
          ],
          "scattercarpet": [
           {
            "marker": {
             "colorbar": {
              "outlinewidth": 0,
              "ticks": ""
             }
            },
            "type": "scattercarpet"
           }
          ],
          "scattergeo": [
           {
            "marker": {
             "colorbar": {
              "outlinewidth": 0,
              "ticks": ""
             }
            },
            "type": "scattergeo"
           }
          ],
          "scattergl": [
           {
            "marker": {
             "colorbar": {
              "outlinewidth": 0,
              "ticks": ""
             }
            },
            "type": "scattergl"
           }
          ],
          "scattermapbox": [
           {
            "marker": {
             "colorbar": {
              "outlinewidth": 0,
              "ticks": ""
             }
            },
            "type": "scattermapbox"
           }
          ],
          "scatterpolar": [
           {
            "marker": {
             "colorbar": {
              "outlinewidth": 0,
              "ticks": ""
             }
            },
            "type": "scatterpolar"
           }
          ],
          "scatterpolargl": [
           {
            "marker": {
             "colorbar": {
              "outlinewidth": 0,
              "ticks": ""
             }
            },
            "type": "scatterpolargl"
           }
          ],
          "scatterternary": [
           {
            "marker": {
             "colorbar": {
              "outlinewidth": 0,
              "ticks": ""
             }
            },
            "type": "scatterternary"
           }
          ],
          "surface": [
           {
            "colorbar": {
             "outlinewidth": 0,
             "ticks": ""
            },
            "colorscale": [
             [
              0,
              "#0d0887"
             ],
             [
              0.1111111111111111,
              "#46039f"
             ],
             [
              0.2222222222222222,
              "#7201a8"
             ],
             [
              0.3333333333333333,
              "#9c179e"
             ],
             [
              0.4444444444444444,
              "#bd3786"
             ],
             [
              0.5555555555555556,
              "#d8576b"
             ],
             [
              0.6666666666666666,
              "#ed7953"
             ],
             [
              0.7777777777777778,
              "#fb9f3a"
             ],
             [
              0.8888888888888888,
              "#fdca26"
             ],
             [
              1,
              "#f0f921"
             ]
            ],
            "type": "surface"
           }
          ],
          "table": [
           {
            "cells": {
             "fill": {
              "color": "#EBF0F8"
             },
             "line": {
              "color": "white"
             }
            },
            "header": {
             "fill": {
              "color": "#C8D4E3"
             },
             "line": {
              "color": "white"
             }
            },
            "type": "table"
           }
          ]
         },
         "layout": {
          "annotationdefaults": {
           "arrowcolor": "#2a3f5f",
           "arrowhead": 0,
           "arrowwidth": 1
          },
          "autotypenumbers": "strict",
          "coloraxis": {
           "colorbar": {
            "outlinewidth": 0,
            "ticks": ""
           }
          },
          "colorscale": {
           "diverging": [
            [
             0,
             "#8e0152"
            ],
            [
             0.1,
             "#c51b7d"
            ],
            [
             0.2,
             "#de77ae"
            ],
            [
             0.3,
             "#f1b6da"
            ],
            [
             0.4,
             "#fde0ef"
            ],
            [
             0.5,
             "#f7f7f7"
            ],
            [
             0.6,
             "#e6f5d0"
            ],
            [
             0.7,
             "#b8e186"
            ],
            [
             0.8,
             "#7fbc41"
            ],
            [
             0.9,
             "#4d9221"
            ],
            [
             1,
             "#276419"
            ]
           ],
           "sequential": [
            [
             0,
             "#0d0887"
            ],
            [
             0.1111111111111111,
             "#46039f"
            ],
            [
             0.2222222222222222,
             "#7201a8"
            ],
            [
             0.3333333333333333,
             "#9c179e"
            ],
            [
             0.4444444444444444,
             "#bd3786"
            ],
            [
             0.5555555555555556,
             "#d8576b"
            ],
            [
             0.6666666666666666,
             "#ed7953"
            ],
            [
             0.7777777777777778,
             "#fb9f3a"
            ],
            [
             0.8888888888888888,
             "#fdca26"
            ],
            [
             1,
             "#f0f921"
            ]
           ],
           "sequentialminus": [
            [
             0,
             "#0d0887"
            ],
            [
             0.1111111111111111,
             "#46039f"
            ],
            [
             0.2222222222222222,
             "#7201a8"
            ],
            [
             0.3333333333333333,
             "#9c179e"
            ],
            [
             0.4444444444444444,
             "#bd3786"
            ],
            [
             0.5555555555555556,
             "#d8576b"
            ],
            [
             0.6666666666666666,
             "#ed7953"
            ],
            [
             0.7777777777777778,
             "#fb9f3a"
            ],
            [
             0.8888888888888888,
             "#fdca26"
            ],
            [
             1,
             "#f0f921"
            ]
           ]
          },
          "colorway": [
           "#636efa",
           "#EF553B",
           "#00cc96",
           "#ab63fa",
           "#FFA15A",
           "#19d3f3",
           "#FF6692",
           "#B6E880",
           "#FF97FF",
           "#FECB52"
          ],
          "font": {
           "color": "#2a3f5f"
          },
          "geo": {
           "bgcolor": "white",
           "lakecolor": "white",
           "landcolor": "#E5ECF6",
           "showlakes": true,
           "showland": true,
           "subunitcolor": "white"
          },
          "hoverlabel": {
           "align": "left"
          },
          "hovermode": "closest",
          "mapbox": {
           "style": "light"
          },
          "paper_bgcolor": "white",
          "plot_bgcolor": "#E5ECF6",
          "polar": {
           "angularaxis": {
            "gridcolor": "white",
            "linecolor": "white",
            "ticks": ""
           },
           "bgcolor": "#E5ECF6",
           "radialaxis": {
            "gridcolor": "white",
            "linecolor": "white",
            "ticks": ""
           }
          },
          "scene": {
           "xaxis": {
            "backgroundcolor": "#E5ECF6",
            "gridcolor": "white",
            "gridwidth": 2,
            "linecolor": "white",
            "showbackground": true,
            "ticks": "",
            "zerolinecolor": "white"
           },
           "yaxis": {
            "backgroundcolor": "#E5ECF6",
            "gridcolor": "white",
            "gridwidth": 2,
            "linecolor": "white",
            "showbackground": true,
            "ticks": "",
            "zerolinecolor": "white"
           },
           "zaxis": {
            "backgroundcolor": "#E5ECF6",
            "gridcolor": "white",
            "gridwidth": 2,
            "linecolor": "white",
            "showbackground": true,
            "ticks": "",
            "zerolinecolor": "white"
           }
          },
          "shapedefaults": {
           "line": {
            "color": "#2a3f5f"
           }
          },
          "ternary": {
           "aaxis": {
            "gridcolor": "white",
            "linecolor": "white",
            "ticks": ""
           },
           "baxis": {
            "gridcolor": "white",
            "linecolor": "white",
            "ticks": ""
           },
           "bgcolor": "#E5ECF6",
           "caxis": {
            "gridcolor": "white",
            "linecolor": "white",
            "ticks": ""
           }
          },
          "title": {
           "x": 0.05
          },
          "xaxis": {
           "automargin": true,
           "gridcolor": "white",
           "linecolor": "white",
           "ticks": "",
           "title": {
            "standoff": 15
           },
           "zerolinecolor": "white",
           "zerolinewidth": 2
          },
          "yaxis": {
           "automargin": true,
           "gridcolor": "white",
           "linecolor": "white",
           "ticks": "",
           "title": {
            "standoff": 15
           },
           "zerolinecolor": "white",
           "zerolinewidth": 2
          }
         }
        },
        "title": {
         "font": {
          "size": 25
         },
         "text": "Sales",
         "x": 0.4,
         "y": 1
        },
        "width": 1100,
        "xaxis": {
         "anchor": "y",
         "autorange": true,
         "domain": [
          0,
          1
         ],
         "range": [
          -0.5,
          4.5
         ],
         "title": {
          "text": "Region"
         },
         "type": "category"
        },
        "yaxis": {
         "anchor": "x",
         "autorange": true,
         "domain": [
          0,
          1
         ],
         "range": [
          0,
          244387.36842105264
         ],
         "title": {
          "text": "Sales"
         },
         "type": "linear"
        }
       }
      },
      "image/png": "[encoded data removed]",
      "text/html": [
       "<div>                            <div id=\"8c730e1f-1bff-48db-baad-ac9169f4aecb\" class=\"plotly-graph-div\" style=\"height:700px; width:1100px;\"></div>            <script type=\"text/javascript\">                require([\"plotly\"], function(Plotly) {                    window.PLOTLYENV=window.PLOTLYENV || {};                                    if (document.getElementById(\"8c730e1f-1bff-48db-baad-ac9169f4aecb\")) {                    Plotly.newPlot(                        \"8c730e1f-1bff-48db-baad-ac9169f4aecb\",                        [{\"alignmentgroup\":\"True\",\"hovertemplate\":\"Region=%{x}\\u003cbr\\u003eSales=%{y}\\u003cbr\\u003eProfit=%{marker.color}\\u003cextra\\u003e\\u003c\\u002fextra\\u003e\",\"legendgroup\":\"\",\"marker\":{\"color\":[401.28,149.8,165.2,89.6,918.45,322.7,346.92,147.76,181.93,484.65,437.69,308.44,315.21,63.85,207.75,100.8,318.82,113.19,386.54,159.16,208.8,47.4,148.47,77.52,495.0,202.2,43.28,401.39,874.72,69.23,166.05,420.0,670.53,337.8,80.9,569.25,56.04,446.82,280.16,879.35,92.4,616.44,345.78,1039.95,731.72,355.0,509.4,610.08,43.56,415.47,153.34,553.44,99.19,181.83,60.8,611.0,271.17,194.88,421.12,678.72,271.32,289.46,184.2,661.58,200.31,766.08,383.04,510.4,77.64,554.4,357.84,1011.88,100.94,475.0,117.9,193.57,75.0,488.88,64.71,621.81,912.15,765.16,227.7,682.66,344.52,659.99,615.65,665.2,189.99,450.72,46.14,409.53,383.04,270.84,218.45,442.8,723.84,125.35,391.17,531.0,910.74,671.88,175.77,184.11,1035.0,78.75,108.0,176.88,155.68,271.17,505.58,111.0,581.85,69.24,242.0,287.1,157.59,186.77,90.3,74.1,174.02,201.19,188.32,187.59,390.0,71.12,870.24,336.18,597.78,126.07,416.13,105.6,140.8,315.02,664.44,514.8,674.28,329.46,484.44,424.32,381.04,223.47,293.7,252.45,624.78,573.87,187.68,292.5,184.32,734.45,1029.15,335.28,76.68,234.27,626.08,809.56,456.74,620.9,1040.16,148.7,192.51,280.06,341.36,121.28,605.64,422.5,343.57,491.4,176.25,60.75,237.36,564.8,150.29,420.92,471.69,848.39,546.75,223.52,55.12,343.72,433.35,171.8,783.72,236.98,195.5,97.16,792.4,138.21,564.2,472.89,334.88,623.21,414.12,432.6,340.75,191.14,380.43,338.18,527.28,170.5,243.32,484.2,404.1,295.68,185.94,139.86,646.36,360.81,153.58,504.92,207.06,423.54,270.47,527.67,81.6,177.06,433.25,97.45,876.16,485.3,795.4,638.37,274.17,910.8,563.68,173.88,295.2,240.8,282.92,149.04,43.02,444.0,247.8,276.9,552.15,773.37,247.0,216.3,518.35,124.6,423.28,214.8,78.45,646.8,326.8,369.3,288.6,59.18,482.36,959.85,235.84,127.44,636.84,62.85,170.91,617.28,990.97,476.19,290.4,359.38,63.9,216.75,150.88,275.4,420.0,256.74,139.2,425.0,180.84,612.56,160.44,282.88,781.76,137.64,493.74,66.96,284.2,137.92,286.47,520.3,454.72,203.55,433.01,138.96,599.43,168.3,738.0,429.44,298.62,244.65,497.6,418.32,237.32,263.19,547.36,184.8,527.8,630.08,994.84,304.81,96.6,421.29,683.76,292.6,297.92,404.95,383.36,586.95,200.6,196.14,189.84,797.61,641.19,406.64,660.6,775.54,174.13,89.84,410.02,328.64,602.14,363.01,141.12,228.96,914.32,406.0,226.8,82.6,316.6,245.44,490.59,747.77,164.25,608.7,442.08,210.14,415.72,106.11,416.99,234.39,560.01,502.8,215.08,640.01,297.12,165.44,356.16,629.12,684.16,68.46,684.76,187.05,680.14,62.2,289.77,593.76,74.7,328.72,435.42,528.31,56.2,655.68,125.4,333.72,459.67,622.72,196.35,658.53,555.45,362.25,116.96,339.6,216.45,78.54,72.4,295.23,522.75,172.53,179.48,417.2,464.12,224.51,378.36,337.44,314.64,265.65,462.21,314.24,702.26,114.1,596.44,995.85,269.55,382.4,354.35,753.58,195.12,71.17,177.14,318.99,148.96,73.85,98.98,314.64,361.12,198.12,63.28,182.02,899.13,66.4,505.23,753.6,256.76,458.56,965.78,937.2,393.76,167.67,290.22,88.77,305.28,470.09,501.72,54.72,162.0,113.04,214.97,226.24,374.33,96.33,355.42,233.24,258.31,264.96,517.56,122.46,792.0,258.3,444.96,216.6,74.4,547.2,34.3,313.12,217.58,347.38,231.0,848.4,104.25,367.95,637.0,152.4,860.65,93.5,821.78,206.7,664.02,647.64,699.19,206.21,101.4,216.3,167.86,484.0,519.96,412.02,139.2,168.84,208.08,216.96,80.32,658.59,514.02,208.2,359.55,790.4,251.37,255.6,633.04,146.76,403.92,949.08,195.17,188.28,491.92,777.2,649.44,478.8,572.95,870.48,843.48,74.34,526.03,327.95,247.14,415.48,545.22,53.5,818.16],\"coloraxis\":\"coloraxis\",\"pattern\":{\"shape\":\"\"}},\"name\":\"\",\"offsetgroup\":\"\",\"orientation\":\"v\",\"showlegend\":false,\"textposition\":\"auto\",\"x\":[\"North\",\"South\",\"West\",\"South\",\"South\",\"West\",\"West\",\"West\",\"West\",\"West\",\"West\",\"West\",\"South\",\"West\",\"Central\",\"Central\",\"Central\",\"West\",\"West\",\"West\",\"West\",\"Central\",\"Central\",\"East\",\"West\",\"West\",\"West\",\"East\",\"East\",\"East\",\"East\",\"East\",\"East\",\"East\",\"Central\",\"Central\",\"Central\",\"Central\",\"Central\",\"Central\",\"Central\",\"Central\",\"West\",\"South\",\"Central\",\"Central\",\"Central\",\"East\",\"East\",\"Central\",\"Central\",\"Central\",\"Central\",\"East\",\"East\",\"East\",\"East\",\"East\",\"East\",\"East\",\"East\",\"East\",\"West\",\"West\",\"West\",\"West\",\"Central\",\"West\",\"West\",\"South\",\"East\",\"Central\",\"South\",\"South\",\"South\",\"Central\",\"Central\",\"Central\",\"Central\",\"South\",\"South\",\"West\",\"West\",\"South\",\"Central\",\"South\",\"Central\",\"Central\",\"Central\",\"West\",\"West\",\"West\",\"Central\",\"Central\",\"Central\",\"West\",\"East\",\"West\",\"Central\",\"Central\",\"Central\",\"Central\",\"Central\",\"West\",\"West\",\"West\",\"South\",\"South\",\"South\",\"Central\",\"East\",\"Central\",\"Central\",\"East\",\"East\",\"East\",\"East\",\"West\",\"South\",\"East\",\"East\",\"East\",\"East\",\"East\",\"Central\",\"Central\",\"West\",\"West\",\"West\",\"West\",\"East\",\"East\",\"East\",\"West\",\"West\",\"West\",\"West\",\"West\",\"West\",\"West\",\"East\",\"West\",\"West\",\"West\",\"Central\",\"West\",\"East\",\"Central\",\"Central\",\"Central\",\"Central\",\"West\",\"West\",\"West\",\"West\",\"West\",\"West\",\"West\",\"Central\",\"Central\",\"West\",\"East\",\"West\",\"West\",\"Central\",\"Central\",\"Central\",\"Central\",\"Central\",\"Central\",\"Central\",\"West\",\"West\",\"West\",\"Central\",\"Central\",\"Central\",\"East\",\"East\",\"East\",\"Central\",\"Central\",\"South\",\"South\",\"South\",\"East\",\"West\",\"Central\",\"Central\",\"East\",\"East\",\"East\",\"East\",\"East\",\"West\",\"East\",\"East\",\"East\",\"East\",\"East\",\"East\",\"West\",\"West\",\"Central\",\"South\",\"West\",\"Central\",\"Central\",\"Central\",\"Central\",\"Central\",\"Central\",\"East\",\"East\",\"East\",\"East\",\"East\",\"West\",\"West\",\"East\",\"East\",\"East\",\"East\",\"East\",\"East\",\"Central\",\"Central\",\"Central\",\"South\",\"South\",\"South\",\"South\",\"South\",\"South\",\"South\",\"South\",\"West\",\"Central\",\"Central\",\"Central\",\"Central\",\"Central\",\"Central\",\"Central\",\"Central\",\"Central\",\"Central\",\"Central\",\"Central\",\"West\",\"West\",\"West\",\"East\",\"East\",\"Central\",\"Central\",\"Central\",\"Central\",\"East\",\"East\",\"East\",\"Central\",\"Central\",\"Central\",\"Central\",\"West\",\"South\",\"East\",\"East\",\"East\",\"West\",\"West\",\"West\",\"West\",\"West\",\"West\",\"East\",\"East\",\"East\",\"East\",\"Central\",\"Central\",\"West\",\"West\",\"West\",\"West\",\"South\",\"South\",\"South\",\"East\",\"East\",\"East\",\"East\",\"West\",\"West\",\"West\",\"West\",\"West\",\"East\",\"East\",\"East\",\"East\",\"East\",\"Central\",\"East\",\"Central\",\"East\",\"East\",\"South\",\"West\",\"West\",\"West\",\"West\",\"East\",\"South\",\"South\",\"East\",\"East\",\"East\",\"East\",\"East\",\"East\",\"West\",\"West\",\"West\",\"South\",\"East\",\"East\",\"East\",\"East\",\"East\",\"East\",\"East\",\"East\",\"West\",\"West\",\"West\",\"West\",\"West\",\"West\",\"East\",\"East\",\"East\",\"East\",\"Central\",\"West\",\"East\",\"East\",\"East\",\"East\",\"East\",\"East\",\"East\",\"East\",\"East\",\"East\",\"East\",\"East\",\"South\",\"South\",\"South\",\"East\",\"East\",\"East\",\"East\",\"West\",\"East\",\"East\",\"East\",\"East\",\"Central\",\"Central\",\"West\",\"West\",\"West\",\"West\",\"Central\",\"East\",\"Central\",\"Central\",\"Central\",\"West\",\"West\",\"Central\",\"South\",\"South\",\"East\",\"East\",\"East\",\"East\",\"East\",\"West\",\"West\",\"Central\",\"West\",\"East\",\"East\",\"Central\",\"Central\",\"Central\",\"Central\",\"Central\",\"South\",\"South\",\"East\",\"West\",\"West\",\"West\",\"West\",\"West\",\"West\",\"West\",\"West\",\"West\",\"West\",\"West\",\"West\",\"West\",\"South\",\"West\",\"West\",\"West\",\"East\",\"East\",\"South\",\"Central\",\"Central\",\"East\",\"Central\",\"South\",\"South\",\"South\",\"South\",\"East\",\"South\",\"South\",\"Central\",\"Central\",\"Central\",\"East\",\"Central\",\"Central\",\"Central\",\"Central\",\"Central\",\"Central\",\"Central\",\"East\",\"East\",\"East\",\"East\",\"East\",\"East\",\"East\",\"East\",\"Central\",\"West\",\"Central\",\"Central\",\"West\",\"West\",\"West\",\"West\",\"West\",\"West\",\"West\",\"West\",\"Central\",\"Central\",\"Central\",\"East\",\"West\",\"West\",\"West\",\"West\",\"West\",\"West\",\"West\",\"East\",\"East\",\"East\",\"West\",\"East\",\"East\",\"West\",\"West\",\"West\",\"Central\",\"Central\",\"Central\",\"Central\",\"East\",\"East\",\"West\",\"South\",\"South\",\"West\",\"West\",\"West\"],\"xaxis\":\"x\",\"y\":[1254,749,2360,896,2355,2305,826,1847,791,1795,1903,701,1659,1277,831,1440,1678,1617,1757,692,522,948,707,969,1100,2022,541,979,1988,989,1845,1400,2163,1689,809,1265,934,1354,1751,2045,660,1868,1017,2311,1663,1420,1415,1488,726,1259,902,2306,1417,627,760,2350,1179,1624,1316,2121,1428,706,921,1741,607,1824,1368,1160,1294,1232,994,2468,721,2375,1965,1489,1250,1358,719,2303,2027,1739,990,2354,1044,2129,1759,1663,2111,1878,769,1241,2128,2257,1285,1230,1856,545,2301,1475,2118,1527,567,969,2300,1575,540,536,556,1179,1487,2220,2155,1154,2420,1305,927,983,903,1235,1243,649,2354,1443,975,889,2352,1293,1458,1801,1261,2112,640,1658,2373,1430,1873,867,1101,1088,866,2483,1335,765,2403,1551,1564,1125,768,1985,2287,1016,852,1233,2236,2188,1114,1774,2364,1487,713,737,1004,1516,1442,1690,2021,2340,705,1215,552,1412,791,2476,1747,1973,2025,1016,689,1322,1605,1718,2177,578,782,1388,2264,813,2015,1433,2093,2149,1972,2060,1175,1006,1409,914,1352,682,1738,2421,2245,896,1033,1998,1469,1899,2194,1942,609,2353,1591,1353,1020,1362,1733,1949,2368,2110,1940,1557,1443,2024,2168,621,1230,560,1286,1242,717,1480,826,1846,2045,1983,650,2163,1481,2492,962,1432,523,1540,817,2462,962,538,1556,2133,1474,531,1769,1257,1899,1929,2417,1443,660,2114,1278,867,943,1836,1200,1167,696,2500,1507,1612,764,884,2443,1147,1899,744,812,862,1061,2365,1421,1357,1007,1544,1537,1530,2460,976,1106,1165,1244,1992,1396,849,2488,840,1820,1969,2261,1793,644,1359,1554,2090,931,1157,2396,1677,590,1401,678,2417,2211,2392,1835,2281,1583,1123,1079,1027,1771,1171,672,848,2078,1400,945,590,1583,1534,2133,2021,1825,2029,1228,1501,1094,1179,1127,601,1697,2095,1132,1561,1238,2068,1113,1966,2138,978,2014,645,2194,1244,743,2474,1494,1174,1062,2297,562,2049,570,1236,1069,1946,595,2439,2415,1725,688,1698,1665,1309,905,2271,2091,1917,641,1192,1132,1727,1051,2109,1311,759,2201,1964,1898,2282,2294,2213,1797,1912,1865,1838,1626,647,1042,1519,532,1477,707,1748,2257,762,904,958,2193,830,1531,2355,917,1433,2246,2130,2461,1863,1382,807,1272,1621,1356,684,540,1256,581,707,913,507,1367,833,1987,1152,1362,942,2200,861,1648,1805,620,1216,686,1648,506,1579,550,2020,695,2453,1820,508,2459,850,2417,795,2142,1542,2411,1213,507,618,1199,2200,1238,1962,580,2412,1224,1356,502,2271,1977,1388,2115,1976,1323,639,1544,1223,1224,2157,673,2092,1892,1943,1968,1596,1637,2232,1917,531,1283,937,1373,1598,1398,1070,1948],\"yaxis\":\"y\",\"type\":\"bar\"}],                        {\"template\":{\"data\":{\"histogram2dcontour\":[{\"type\":\"histogram2dcontour\",\"colorbar\":{\"outlinewidth\":0,\"ticks\":\"\"},\"colorscale\":[[0.0,\"#0d0887\"],[0.1111111111111111,\"#46039f\"],[0.2222222222222222,\"#7201a8\"],[0.3333333333333333,\"#9c179e\"],[0.4444444444444444,\"#bd3786\"],[0.5555555555555556,\"#d8576b\"],[0.6666666666666666,\"#ed7953\"],[0.7777777777777778,\"#fb9f3a\"],[0.8888888888888888,\"#fdca26\"],[1.0,\"#f0f921\"]]}],\"choropleth\":[{\"type\":\"choropleth\",\"colorbar\":{\"outlinewidth\":0,\"ticks\":\"\"}}],\"histogram2d\":[{\"type\":\"histogram2d\",\"colorbar\":{\"outlinewidth\":0,\"ticks\":\"\"},\"colorscale\":[[0.0,\"#0d0887\"],[0.1111111111111111,\"#46039f\"],[0.2222222222222222,\"#7201a8\"],[0.3333333333333333,\"#9c179e\"],[0.4444444444444444,\"#bd3786\"],[0.5555555555555556,\"#d8576b\"],[0.6666666666666666,\"#ed7953\"],[0.7777777777777778,\"#fb9f3a\"],[0.8888888888888888,\"#fdca26\"],[1.0,\"#f0f921\"]]}],\"heatmap\":[{\"type\":\"heatmap\",\"colorbar\":{\"outlinewidth\":0,\"ticks\":\"\"},\"colorscale\":[[0.0,\"#0d0887\"],[0.1111111111111111,\"#46039f\"],[0.2222222222222222,\"#7201a8\"],[0.3333333333333333,\"#9c179e\"],[0.4444444444444444,\"#bd3786\"],[0.5555555555555556,\"#d8576b\"],[0.6666666666666666,\"#ed7953\"],[0.7777777777777778,\"#fb9f3a\"],[0.8888888888888888,\"#fdca26\"],[1.0,\"#f0f921\"]]}],\"heatmapgl\":[{\"type\":\"heatmapgl\",\"colorbar\":{\"outlinewidth\":0,\"ticks\":\"\"},\"colorscale\":[[0.0,\"#0d0887\"],[0.1111111111111111,\"#46039f\"],[0.2222222222222222,\"#7201a8\"],[0.3333333333333333,\"#9c179e\"],[0.4444444444444444,\"#bd3786\"],[0.5555555555555556,\"#d8576b\"],[0.6666666666666666,\"#ed7953\"],[0.7777777777777778,\"#fb9f3a\"],[0.8888888888888888,\"#fdca26\"],[1.0,\"#f0f921\"]]}],\"contourcarpet\":[{\"type\":\"contourcarpet\",\"colorbar\":{\"outlinewidth\":0,\"ticks\":\"\"}}],\"contour\":[{\"type\":\"contour\",\"colorbar\":{\"outlinewidth\":0,\"ticks\":\"\"},\"colorscale\":[[0.0,\"#0d0887\"],[0.1111111111111111,\"#46039f\"],[0.2222222222222222,\"#7201a8\"],[0.3333333333333333,\"#9c179e\"],[0.4444444444444444,\"#bd3786\"],[0.5555555555555556,\"#d8576b\"],[0.6666666666666666,\"#ed7953\"],[0.7777777777777778,\"#fb9f3a\"],[0.8888888888888888,\"#fdca26\"],[1.0,\"#f0f921\"]]}],\"surface\":[{\"type\":\"surface\",\"colorbar\":{\"outlinewidth\":0,\"ticks\":\"\"},\"colorscale\":[[0.0,\"#0d0887\"],[0.1111111111111111,\"#46039f\"],[0.2222222222222222,\"#7201a8\"],[0.3333333333333333,\"#9c179e\"],[0.4444444444444444,\"#bd3786\"],[0.5555555555555556,\"#d8576b\"],[0.6666666666666666,\"#ed7953\"],[0.7777777777777778,\"#fb9f3a\"],[0.8888888888888888,\"#fdca26\"],[1.0,\"#f0f921\"]]}],\"mesh3d\":[{\"type\":\"mesh3d\",\"colorbar\":{\"outlinewidth\":0,\"ticks\":\"\"}}],\"scatter\":[{\"fillpattern\":{\"fillmode\":\"overlay\",\"size\":10,\"solidity\":0.2},\"type\":\"scatter\"}],\"parcoords\":[{\"type\":\"parcoords\",\"line\":{\"colorbar\":{\"outlinewidth\":0,\"ticks\":\"\"}}}],\"scatterpolargl\":[{\"type\":\"scatterpolargl\",\"marker\":{\"colorbar\":{\"outlinewidth\":0,\"ticks\":\"\"}}}],\"bar\":[{\"error_x\":{\"color\":\"#2a3f5f\"},\"error_y\":{\"color\":\"#2a3f5f\"},\"marker\":{\"line\":{\"color\":\"#E5ECF6\",\"width\":0.5},\"pattern\":{\"fillmode\":\"overlay\",\"size\":10,\"solidity\":0.2}},\"type\":\"bar\"}],\"scattergeo\":[{\"type\":\"scattergeo\",\"marker\":{\"colorbar\":{\"outlinewidth\":0,\"ticks\":\"\"}}}],\"scatterpolar\":[{\"type\":\"scatterpolar\",\"marker\":{\"colorbar\":{\"outlinewidth\":0,\"ticks\":\"\"}}}],\"histogram\":[{\"marker\":{\"pattern\":{\"fillmode\":\"overlay\",\"size\":10,\"solidity\":0.2}},\"type\":\"histogram\"}],\"scattergl\":[{\"type\":\"scattergl\",\"marker\":{\"colorbar\":{\"outlinewidth\":0,\"ticks\":\"\"}}}],\"scatter3d\":[{\"type\":\"scatter3d\",\"line\":{\"colorbar\":{\"outlinewidth\":0,\"ticks\":\"\"}},\"marker\":{\"colorbar\":{\"outlinewidth\":0,\"ticks\":\"\"}}}],\"scattermapbox\":[{\"type\":\"scattermapbox\",\"marker\":{\"colorbar\":{\"outlinewidth\":0,\"ticks\":\"\"}}}],\"scatterternary\":[{\"type\":\"scatterternary\",\"marker\":{\"colorbar\":{\"outlinewidth\":0,\"ticks\":\"\"}}}],\"scattercarpet\":[{\"type\":\"scattercarpet\",\"marker\":{\"colorbar\":{\"outlinewidth\":0,\"ticks\":\"\"}}}],\"carpet\":[{\"aaxis\":{\"endlinecolor\":\"#2a3f5f\",\"gridcolor\":\"white\",\"linecolor\":\"white\",\"minorgridcolor\":\"white\",\"startlinecolor\":\"#2a3f5f\"},\"baxis\":{\"endlinecolor\":\"#2a3f5f\",\"gridcolor\":\"white\",\"linecolor\":\"white\",\"minorgridcolor\":\"white\",\"startlinecolor\":\"#2a3f5f\"},\"type\":\"carpet\"}],\"table\":[{\"cells\":{\"fill\":{\"color\":\"#EBF0F8\"},\"line\":{\"color\":\"white\"}},\"header\":{\"fill\":{\"color\":\"#C8D4E3\"},\"line\":{\"color\":\"white\"}},\"type\":\"table\"}],\"barpolar\":[{\"marker\":{\"line\":{\"color\":\"#E5ECF6\",\"width\":0.5},\"pattern\":{\"fillmode\":\"overlay\",\"size\":10,\"solidity\":0.2}},\"type\":\"barpolar\"}],\"pie\":[{\"automargin\":true,\"type\":\"pie\"}]},\"layout\":{\"autotypenumbers\":\"strict\",\"colorway\":[\"#636efa\",\"#EF553B\",\"#00cc96\",\"#ab63fa\",\"#FFA15A\",\"#19d3f3\",\"#FF6692\",\"#B6E880\",\"#FF97FF\",\"#FECB52\"],\"font\":{\"color\":\"#2a3f5f\"},\"hovermode\":\"closest\",\"hoverlabel\":{\"align\":\"left\"},\"paper_bgcolor\":\"white\",\"plot_bgcolor\":\"#E5ECF6\",\"polar\":{\"bgcolor\":\"#E5ECF6\",\"angularaxis\":{\"gridcolor\":\"white\",\"linecolor\":\"white\",\"ticks\":\"\"},\"radialaxis\":{\"gridcolor\":\"white\",\"linecolor\":\"white\",\"ticks\":\"\"}},\"ternary\":{\"bgcolor\":\"#E5ECF6\",\"aaxis\":{\"gridcolor\":\"white\",\"linecolor\":\"white\",\"ticks\":\"\"},\"baxis\":{\"gridcolor\":\"white\",\"linecolor\":\"white\",\"ticks\":\"\"},\"caxis\":{\"gridcolor\":\"white\",\"linecolor\":\"white\",\"ticks\":\"\"}},\"coloraxis\":{\"colorbar\":{\"outlinewidth\":0,\"ticks\":\"\"}},\"colorscale\":{\"sequential\":[[0.0,\"#0d0887\"],[0.1111111111111111,\"#46039f\"],[0.2222222222222222,\"#7201a8\"],[0.3333333333333333,\"#9c179e\"],[0.4444444444444444,\"#bd3786\"],[0.5555555555555556,\"#d8576b\"],[0.6666666666666666,\"#ed7953\"],[0.7777777777777778,\"#fb9f3a\"],[0.8888888888888888,\"#fdca26\"],[1.0,\"#f0f921\"]],\"sequentialminus\":[[0.0,\"#0d0887\"],[0.1111111111111111,\"#46039f\"],[0.2222222222222222,\"#7201a8\"],[0.3333333333333333,\"#9c179e\"],[0.4444444444444444,\"#bd3786\"],[0.5555555555555556,\"#d8576b\"],[0.6666666666666666,\"#ed7953\"],[0.7777777777777778,\"#fb9f3a\"],[0.8888888888888888,\"#fdca26\"],[1.0,\"#f0f921\"]],\"diverging\":[[0,\"#8e0152\"],[0.1,\"#c51b7d\"],[0.2,\"#de77ae\"],[0.3,\"#f1b6da\"],[0.4,\"#fde0ef\"],[0.5,\"#f7f7f7\"],[0.6,\"#e6f5d0\"],[0.7,\"#b8e186\"],[0.8,\"#7fbc41\"],[0.9,\"#4d9221\"],[1,\"#276419\"]]},\"xaxis\":{\"gridcolor\":\"white\",\"linecolor\":\"white\",\"ticks\":\"\",\"title\":{\"standoff\":15},\"zerolinecolor\":\"white\",\"automargin\":true,\"zerolinewidth\":2},\"yaxis\":{\"gridcolor\":\"white\",\"linecolor\":\"white\",\"ticks\":\"\",\"title\":{\"standoff\":15},\"zerolinecolor\":\"white\",\"automargin\":true,\"zerolinewidth\":2},\"scene\":{\"xaxis\":{\"backgroundcolor\":\"#E5ECF6\",\"gridcolor\":\"white\",\"linecolor\":\"white\",\"showbackground\":true,\"ticks\":\"\",\"zerolinecolor\":\"white\",\"gridwidth\":2},\"yaxis\":{\"backgroundcolor\":\"#E5ECF6\",\"gridcolor\":\"white\",\"linecolor\":\"white\",\"showbackground\":true,\"ticks\":\"\",\"zerolinecolor\":\"white\",\"gridwidth\":2},\"zaxis\":{\"backgroundcolor\":\"#E5ECF6\",\"gridcolor\":\"white\",\"linecolor\":\"white\",\"showbackground\":true,\"ticks\":\"\",\"zerolinecolor\":\"white\",\"gridwidth\":2}},\"shapedefaults\":{\"line\":{\"color\":\"#2a3f5f\"}},\"annotationdefaults\":{\"arrowcolor\":\"#2a3f5f\",\"arrowhead\":0,\"arrowwidth\":1},\"geo\":{\"bgcolor\":\"white\",\"landcolor\":\"#E5ECF6\",\"subunitcolor\":\"white\",\"showland\":true,\"showlakes\":true,\"lakecolor\":\"white\"},\"title\":{\"x\":0.05},\"mapbox\":{\"style\":\"light\"}}},\"xaxis\":{\"anchor\":\"y\",\"domain\":[0.0,1.0],\"title\":{\"text\":\"Region\"}},\"yaxis\":{\"anchor\":\"x\",\"domain\":[0.0,1.0],\"title\":{\"text\":\"Sales\"}},\"coloraxis\":{\"colorbar\":{\"title\":{\"text\":\"Profit\"}},\"colorscale\":[[0.0,\"#0d0887\"],[0.1111111111111111,\"#46039f\"],[0.2222222222222222,\"#7201a8\"],[0.3333333333333333,\"#9c179e\"],[0.4444444444444444,\"#bd3786\"],[0.5555555555555556,\"#d8576b\"],[0.6666666666666666,\"#ed7953\"],[0.7777777777777778,\"#fb9f3a\"],[0.8888888888888888,\"#fdca26\"],[1.0,\"#f0f921\"]]},\"legend\":{\"tracegroupgap\":0},\"margin\":{\"t\":60},\"barmode\":\"relative\",\"title\":{\"font\":{\"size\":25},\"text\":\"Sales\",\"x\":0.4,\"y\":1.0},\"width\":1100,\"height\":700},                        {\"responsive\": true}                    ).then(function(){\n",
       "                            \n",
       "var gd = document.getElementById('8c730e1f-1bff-48db-baad-ac9169f4aecb');\n",
       "var x = new MutationObserver(function (mutations, observer) {{\n",
       "        var display = window.getComputedStyle(gd).display;\n",
       "        if (!display || display === 'none') {{\n",
       "            console.log([gd, 'removed!']);\n",
       "            Plotly.purge(gd);\n",
       "            observer.disconnect();\n",
       "        }}\n",
       "}});\n",
       "\n",
       "// Listen for the removal of the full notebook cells\n",
       "var notebookContainer = gd.closest('#notebook-container');\n",
       "if (notebookContainer) {{\n",
       "    x.observe(notebookContainer, {childList: true});\n",
       "}}\n",
       "\n",
       "// Listen for the clearing of the current output cell\n",
       "var outputEl = gd.closest('.output');\n",
       "if (outputEl) {{\n",
       "    x.observe(outputEl, {childList: true});\n",
       "}}\n",
       "\n",
       "                        })                };                });            </script>        </div>"
      ]
     },
     "metadata": {},
     "output_type": "display_data"
    }
   ],
   "source": [
    "# Bar chart visualization of region profits\n",
    "import plotly.express as px\n",
    "fig = px.bar(data, x=\"Region\", y=\"Sales\", color=\"Profit\")\n",
    "fig.update_layout( title={'text': 'Sales', 'x': 0.4, 'y':1.0,'font_size':25},\n",
    "    width=1100,\n",
    "    height=700)\n",
    "fig.show()\n"
   ]
  },
  {
   "cell_type": "raw",
   "id": "f1c78ed8-b8ab-4958-bb05-52416c225f26",
   "metadata": {},
   "source": [
    "Observation: The visualization shows the sales profits in each 'Region'.\n",
    "-> The highest sales in 'East' region, then highest sales in 'West' region.\n",
    "-> The average sales in 'Central' region and low sales in 'South' region.\n",
    "-> The lowest sales in 'North' region only with 401.28 profit."
   ]
  },
  {
   "cell_type": "code",
   "execution_count": 121,
   "id": "6778f542-f083-4d96-8d61-c73347f5ce51",
   "metadata": {},
   "outputs": [
    {
     "data": {
      "image/png": "[encoded data removed]",
      "text/plain": [
       "<Figure size 640x480 with 1 Axes>"
      ]
     },
     "metadata": {},
     "output_type": "display_data"
    }
   ],
   "source": [
    "# Visualization of Discount vs Profit\n",
    "plt.scatter(data['Discount'], data[\"Profit\"], alpha=0.5, color = \"purple\")\n",
    "plt.title(\"Discount vs. Profit\")\n",
    "plt.xlabel(\"Discount\")\n",
    "plt.ylabel(\"Profit\")\n",
    "plt.show()"
   ]
  },
  {
   "cell_type": "raw",
   "id": "843a81cf-0d0e-436e-8600-bebac87da681",
   "metadata": {},
   "source": [
    "Observation: The scatter visualization shows the Discount vs Profit. The discount in percentage and profit in money"
   ]
  },
  {
   "cell_type": "code",
   "execution_count": 11,
   "id": "fc4a9002-2690-4e93-94c8-bde020ece64d",
   "metadata": {},
   "outputs": [
    {
     "name": "stdout",
     "output_type": "stream",
     "text": [
      "   Order ID\n",
      "0         0\n",
      "1       111\n",
      "2       222\n",
      "3       333\n",
      "4       444\n",
      "   Order Date\n",
      "0         131\n",
      "1         131\n",
      "2         104\n",
      "3          69\n",
      "4          69\n",
      "   Region\n",
      "0       2\n",
      "1       3\n",
      "2       4\n",
      "3       3\n",
      "4       3\n",
      "   City\n",
      "0    21\n",
      "1     8\n",
      "2    13\n",
      "3     4\n",
      "4    12\n",
      "   Customer Name\n",
      "0             12\n",
      "1             37\n",
      "2             14\n",
      "3             15\n",
      "4             28\n",
      "   Category\n",
      "0         5\n",
      "1         1\n",
      "2         3\n",
      "3         4\n",
      "4         3\n",
      "   Sub Category\n",
      "0            14\n",
      "1            13\n",
      "2             0\n",
      "3            12\n",
      "4            18\n",
      "   Month\n",
      "0      9\n",
      "1      9\n",
      "2      6\n",
      "3     10\n",
      "4     10\n"
     ]
    }
   ],
   "source": [
    "# Convert the Categorical into Numerical values\n",
    "from sklearn.preprocessing import LabelEncoder\n",
    "encoding=['Order ID', 'Order Date', 'Region', 'City', 'Customer Name', 'Category', 'Sub Category','Month']\n",
    "le=LabelEncoder()\n",
    "for col in encoding:\n",
    "    data[f'{col}']=le.fit_transform(data[col])\n",
    "    print(data[[f\"{col}\"]].head(5))"
   ]
  },
  {
   "cell_type": "raw",
   "id": "ef180822-c512-4114-8250-69e730c1a42f",
   "metadata": {},
   "source": [
    "Observation: The Label Encoder converts the Categorical features into Numerical features for easy understanding by the model and for visualization."
   ]
  },
  {
   "cell_type": "code",
   "execution_count": 13,
   "id": "1afc05a5-0acf-4660-b5ca-a45b3b9d92e5",
   "metadata": {},
   "outputs": [
    {
     "data": {
      "image/png": "[encoded data removed]",
      "text/plain": [
       "<Figure size 1000x600 with 1 Axes>"
      ]
     },
     "metadata": {},
     "output_type": "display_data"
    }
   ],
   "source": [
    "# Feature Importance of Sales\n",
    "from sklearn.ensemble import RandomForestClassifier\n",
    "import matplotlib.pyplot as plt\n",
    "import seaborn as sns\n",
    "x=data.drop(columns=['Sales'])\n",
    "y=data['Sales']\n",
    "rf=RandomForestClassifier()\n",
    "rf.fit(x,y)\n",
    "feature_importance=pd.DataFrame(rf.feature_importances_,index=x.columns,columns=['Importance']).sort_values(by='Importance',ascending=False)\n",
    "plt.figure(figsize=(10,6))\n",
    "sns.barplot(y=feature_importance.index,x=feature_importance['Importance'])\n",
    "plt.title('Feature Importance')\n",
    "plt.xlabel('Features')\n",
    "plt.ylabel('Importance')\n",
    "plt.show()"
   ]
  },
  {
   "cell_type": "raw",
   "id": "ead837d7-8849-4dbb-b038-e3ed21646261",
   "metadata": {},
   "source": [
    "Obseravtion: The horizontal bar chart shows the feature importance of sales.\n",
    "-> The highest important feature is 'Profit', then 'Order ID'.\n",
    "-> The lowest feature importance is 'Year'.\n",
    "-> The feature importance is useful for better model prediction . "
   ]
  },
  {
   "cell_type": "code",
   "execution_count": 258,
   "id": "d6753082-54f3-424d-ad52-881450970b55",
   "metadata": {},
   "outputs": [
    {
     "data": {
      "text/html": [
       "<div>\n",
       "<style scoped>\n",
       "    .dataframe tbody tr th:only-of-type {\n",
       "        vertical-align: middle;\n",
       "    }\n",
       "\n",
       "    .dataframe tbody tr th {\n",
       "        vertical-align: top;\n",
       "    }\n",
       "\n",
       "    .dataframe thead th {\n",
       "        text-align: right;\n",
       "    }\n",
       "</style>\n",
       "<table border=\"1\" class=\"dataframe\">\n",
       "  <thead>\n",
       "    <tr style=\"text-align: right;\">\n",
       "      <th></th>\n",
       "      <th>Order ID</th>\n",
       "      <th>Order Date</th>\n",
       "      <th>Region</th>\n",
       "      <th>City</th>\n",
       "      <th>Customer Name</th>\n",
       "      <th>Category</th>\n",
       "      <th>Sub Category</th>\n",
       "      <th>quantity</th>\n",
       "      <th>Sales</th>\n",
       "      <th>Discount</th>\n",
       "      <th>Profit</th>\n",
       "      <th>Month</th>\n",
       "      <th>Year</th>\n",
       "      <th>Profit_Margin</th>\n",
       "    </tr>\n",
       "  </thead>\n",
       "  <tbody>\n",
       "    <tr>\n",
       "      <th>0</th>\n",
       "      <td>0</td>\n",
       "      <td>131</td>\n",
       "      <td>2</td>\n",
       "      <td>21</td>\n",
       "      <td>12</td>\n",
       "      <td>5</td>\n",
       "      <td>14</td>\n",
       "      <td>5</td>\n",
       "      <td>1254</td>\n",
       "      <td>0.12</td>\n",
       "      <td>401.28</td>\n",
       "      <td>11</td>\n",
       "      <td>2017</td>\n",
       "      <td>0.32</td>\n",
       "    </tr>\n",
       "  </tbody>\n",
       "</table>\n",
       "</div>"
      ],
      "text/plain": [
       "   Order ID  Order Date  Region  City  Customer Name  Category  Sub Category  \\\n",
       "0         0         131       2    21             12         5            14   \n",
       "\n",
       "   quantity  Sales  Discount  Profit  Month  Year  Profit_Margin  \n",
       "0         5   1254      0.12  401.28     11  2017           0.32  "
      ]
     },
     "execution_count": 258,
     "metadata": {},
     "output_type": "execute_result"
    }
   ],
   "source": [
    "data.head(1)"
   ]
  },
  {
   "cell_type": "code",
   "execution_count": 63,
   "id": "4c954d0a-7c8d-44df-bb21-6df49b2d5937",
   "metadata": {},
   "outputs": [
    {
     "name": "stdout",
     "output_type": "stream",
     "text": [
      "Random Forest:\n",
      "Mean Absolute Error:  5.477859957606217\n",
      "Mean Sqaured Error:  45.73248162880495\n",
      "Root Mean Squared Error: 6.762579509980267\n",
      "R2: 0.999868224472274\n"
     ]
    }
   ],
   "source": [
    "# Selecting model and Model Prediction\n",
    "from sklearn.model_selection import train_test_split\n",
    "from sklearn.preprocessing import StandardScaler\n",
    "from sklearn.ensemble import RandomForestRegressor\n",
    "from sklearn.metrics import mean_absolute_error,mean_squared_error,r2_score\n",
    "X = data.drop(columns=['Profit','Discount','Region','Order ID'])\n",
    "y = data[\"Sales\"]\n",
    "scaler=StandardScaler()\n",
    "X_scaled=scaler.fit_transform(X)\n",
    "X_train, X_test, y_train, y_test = train_test_split(X_scaled, y, test_size=0.1, random_state=72)\n",
    "\n",
    "model = RandomForestRegressor(n_estimators=100,max_depth=5,min_samples_split= 10,min_samples_leaf= 2, random_state=42)\n",
    "model.fit(X_train, y_train)\n",
    "y_pred = model.predict(X_test)\n",
    "\n",
    "mae_rf = mean_absolute_error(y_test, y_pred)\n",
    "mse_rf = mean_squared_error(y_test, y_pred)\n",
    "r2_rf= r2_score(y_test, y_pred)\n",
    "print('Random Forest:')\n",
    "print('Mean Absolute Error: ',mae_rf)\n",
    "print('Mean Sqaured Error: ',mse_rf)\n",
    "rmse_rf = np.sqrt(mse_rf)  \n",
    "print(\"Root Mean Squared Error:\", rmse_rf)\n",
    "print( \"R2:\",r2_rf)\n",
    "\n"
   ]
  },
  {
   "cell_type": "code",
   "execution_count": null,
   "id": "17ade31b-f330-4a9b-867e-631747ebc76a",
   "metadata": {},
   "outputs": [],
   "source": [
    "Observation: Random Forest is an ensemble learning method that builds multiple decision trees and combines their predictions to improve accuracy and reduce overfitting.\n",
    "-> Predicting monthly or yearly sales trends.\n",
    "-> Forecasting sales based on product categories, discounts, regions, etc.\n",
    "-> Random forest gives the good r2 score, Mean Absolute Error, Mean Sqaured Error, Root Mean Squared Error."
   ]
  },
  {
   "cell_type": "code",
   "execution_count": 65,
   "id": "e3bd4dcb-a1e2-4d03-85bc-8b87e87828c3",
   "metadata": {},
   "outputs": [
    {
     "name": "stdout",
     "output_type": "stream",
     "text": [
      "XGBoost:\n",
      "Mean Absolute Error:  3.945491943359375\n",
      "Mean Sqaured Error:  39.639440348669886\n",
      "Root Mean Squared Error: 6.295986050546006\n",
      "XGBoost - R²: 0.9998857812219091\n"
     ]
    }
   ],
   "source": [
    "from xgboost import XGBRegressor\n",
    "\n",
    "xgb_model = XGBRegressor(n_estimators=200, learning_rate=0.05, max_depth=4, random_state=42)\n",
    "xgb_model.fit(X_train, y_train)\n",
    "y_pred_xgb = xgb_model.predict(X_test)\n",
    "\n",
    "mae_xgb = mean_absolute_error(y_test, y_pred_xgb)\n",
    "mse_xgb = mean_squared_error(y_test, y_pred_xgb)\n",
    "r2_xgb = r2_score(y_test, y_pred_xgb)\n",
    "\n",
    "print(\"XGBoost:\")\n",
    "print('Mean Absolute Error: ',mae_xgb)\n",
    "print('Mean Sqaured Error: ',mse_xgb)\n",
    "rmse_xgb = np.sqrt(mse_xgb)  # RMSE\n",
    "print(\"Root Mean Squared Error:\", rmse_xgb)\n",
    "print(\"XGBoost - R²:\", r2_xgb)"
   ]
  },
  {
   "cell_type": "raw",
   "id": "dcf195cd-0886-4bd8-871f-7a55b0514809",
   "metadata": {},
   "source": [
    "Observation: XGBoost (Extreme Gradient Boosting) is a boosting algorithm that builds trees sequentially, correcting errors from previous trees. It’s known for speed and high accuracy.\n",
    "-> Predicting seasonal demand for products and Forecasting sales trends during promotions or discounts.\n",
    "-> XGBoost gives the better r2 score, Mean Absolute Error, Mean Sqaured Error, Root Mean Squared Error than Random Forest Regressor."
   ]
  },
  {
   "cell_type": "code",
   "execution_count": 39,
   "id": "b03ae241-a7f7-467b-a48d-4c6dfc43a606",
   "metadata": {},
   "outputs": [
    {
     "name": "stdout",
     "output_type": "stream",
     "text": [
      "Random Forest Regression Cross-Validation Score: 0.9998\n",
      "XGB Regressor Cross-Validation Score: 0.9992\n",
      "Random Forest Regression Accuracy: 0.9999\n",
      "XGB Regressor r2: 0.9993\n",
      "Random Forest MAE: 4.8167, RMSE: 6.8353\n",
      "XGBoost MAE: 11.5670, RMSE: 15.1392\n"
     ]
    }
   ],
   "source": [
    "from sklearn.model_selection import train_test_split, cross_val_score\n",
    "from sklearn.ensemble import RandomForestRegressor\n",
    "from xgboost import XGBRegressor\n",
    "from sklearn.metrics import mean_absolute_error, mean_squared_error\n",
    "import numpy as np\n",
    "\n",
    "X=data.drop(columns=['Profit','Discount','Region'])\n",
    "y=data['Sales']\n",
    "# Split dataset into training and test sets\n",
    "X_train, X_test, y_train, y_test = train_test_split(X, y, test_size=0.3, random_state=42)\n",
    "\n",
    "\n",
    "# Initialize models\n",
    "rf_reg = RandomForestRegressor(random_state=42)\n",
    "xgb = XGBRegressor(random_state=42)\n",
    "\n",
    "# Cross-validation to compare performance\n",
    "rf_reg_cv = cross_val_score(rf_reg, X_train, y_train, cv=5)\n",
    "xgb_cv = cross_val_score(xgb, X_train, y_train, cv=5)\n",
    "\n",
    "# Print cross-validation scores\n",
    "print(f\"Random Forest Regression Cross-Validation Score: {rf_reg_cv.mean():.4f}\")\n",
    "print(f\"XGB Regressor Cross-Validation Score: {xgb_cv.mean():.4f}\")\n",
    "\n",
    "# Train and test models\n",
    "rf_reg.fit(X_train, y_train)\n",
    "xgb.fit(X_train, y_train)\n",
    "# Model Prediction\n",
    "y_pred_rf = rf_reg.predict(X_test)\n",
    "y_pred_xgb = xgb.predict(X_test)\n",
    "\n",
    "rf_reg_accuracy = rf_reg.score(X_test, y_test)\n",
    "xgb_accuracy = xgb.score(X_test, y_test)\n",
    "mae_rf = mean_absolute_error(y_test, y_pred_rf)\n",
    "rmse_rf = np.sqrt(mean_squared_error(y_test, y_pred_rf))\n",
    "\n",
    "mae_xgb = mean_absolute_error(y_test, y_pred_xgb)\n",
    "rmse_xgb = np.sqrt(mean_squared_error(y_test, y_pred_xgb))\n",
    "\n",
    "print(f\"Random Forest Regression Accuracy: {rf_reg_accuracy:.4f}\")\n",
    "print(f\"XGB Regressor r2: {xgb_accuracy:.4f}\")\n",
    "print(f\"Random Forest MAE: {mae_rf:.4f}, RMSE: {rmse_rf:.4f}\")\n",
    "print(f\"XGBoost MAE: {mae_xgb:.4f}, RMSE: {rmse_xgb:.4f}\")\n"
   ]
  },
  {
   "cell_type": "code",
   "execution_count": 6,
   "id": "429c499f-df77-434c-aef4-56c8fdd0af3f",
   "metadata": {},
   "outputs": [
    {
     "data": {
      "text/html": [
       "<div>\n",
       "<style scoped>\n",
       "    .dataframe tbody tr th:only-of-type {\n",
       "        vertical-align: middle;\n",
       "    }\n",
       "\n",
       "    .dataframe tbody tr th {\n",
       "        vertical-align: top;\n",
       "    }\n",
       "\n",
       "    .dataframe thead th {\n",
       "        text-align: right;\n",
       "    }\n",
       "</style>\n",
       "<table border=\"1\" class=\"dataframe\">\n",
       "  <thead>\n",
       "    <tr style=\"text-align: right;\">\n",
       "      <th></th>\n",
       "      <th>Order ID</th>\n",
       "      <th>Order Date</th>\n",
       "      <th>Region</th>\n",
       "      <th>City</th>\n",
       "      <th>Customer Name</th>\n",
       "      <th>Category</th>\n",
       "      <th>Sub Category</th>\n",
       "      <th>quantity</th>\n",
       "      <th>Sales</th>\n",
       "      <th>Discount</th>\n",
       "      <th>Profit</th>\n",
       "      <th>Month</th>\n",
       "      <th>Year</th>\n",
       "      <th>Profit_Margin</th>\n",
       "    </tr>\n",
       "  </thead>\n",
       "  <tbody>\n",
       "    <tr>\n",
       "      <th>0</th>\n",
       "      <td>OD1</td>\n",
       "      <td>2017-11-08</td>\n",
       "      <td>North</td>\n",
       "      <td>Vellore</td>\n",
       "      <td>Harish</td>\n",
       "      <td>Oil &amp; Masala</td>\n",
       "      <td>Masalas</td>\n",
       "      <td>5</td>\n",
       "      <td>1254</td>\n",
       "      <td>0.12</td>\n",
       "      <td>401.28</td>\n",
       "      <td>Nov</td>\n",
       "      <td>2017</td>\n",
       "      <td>0.32</td>\n",
       "    </tr>\n",
       "  </tbody>\n",
       "</table>\n",
       "</div>"
      ],
      "text/plain": [
       "  Order ID Order Date Region     City Customer Name      Category  \\\n",
       "0      OD1 2017-11-08  North  Vellore        Harish  Oil & Masala   \n",
       "\n",
       "  Sub Category  quantity  Sales  Discount  Profit Month  Year  Profit_Margin  \n",
       "0      Masalas         5   1254      0.12  401.28   Nov  2017           0.32  "
      ]
     },
     "execution_count": 6,
     "metadata": {},
     "output_type": "execute_result"
    }
   ],
   "source": [
    "data.head(1)"
   ]
  },
  {
   "cell_type": "code",
   "execution_count": 111,
   "id": "9398b311-5f3d-448d-accd-5ace66c313bc",
   "metadata": {},
   "outputs": [
    {
     "name": "stdout",
     "output_type": "stream",
     "text": [
      "Training Features: Index(['Order Date', 'City', 'Customer Name', 'Category', 'Sub Category',\n",
      "       'quantity', 'Sales', 'Month', 'Year', 'Profit_Margin'],\n",
      "      dtype='object')\n",
      "Future Data Features: Index(['Month', 'Year', 'Category', 'Sub Category', 'City', 'Customer Name',\n",
      "       'Profit_Margin', 'Order Date', 'quantity', 'Sales'],\n",
      "      dtype='object')\n",
      "    Year  Month  Predicted Sales\n",
      "0   2025      1      1466.052124\n",
      "1   2025      2      1466.052124\n",
      "2   2025      3      1466.052124\n",
      "3   2025      4      1466.052124\n",
      "4   2025      5      1466.052124\n",
      "5   2025      6      1466.083740\n",
      "6   2025      7      1466.083740\n",
      "7   2025      8      1466.083740\n",
      "8   2025      9      1466.083740\n",
      "9   2025     10      1466.083740\n",
      "10  2025     11      1466.083740\n",
      "11  2025     12      1466.083740\n"
     ]
    },
    {
     "data": {
      "image/png": "[encoded data removed]",
      "text/plain": [
       "<Figure size 1000x500 with 1 Axes>"
      ]
     },
     "metadata": {},
     "output_type": "display_data"
    }
   ],
   "source": [
    "import pandas as pd\n",
    "import numpy as np\n",
    "import matplotlib.pyplot as plt\n",
    "\n",
    "# Create future time periods (Example: Next 12 months for 2025)\n",
    "future_months = list(range(1, 13))  # January to December\n",
    "future_years = [2025] * 12  # Predicting for 2025\n",
    "\n",
    "# Create a DataFrame with required features\n",
    "future_data = pd.DataFrame({\n",
    "    \"Month\": future_months,\n",
    "    \"Year\": future_years,\n",
    "    \"Category\": 0,  # Modify based on business needs\n",
    "    \"Sub Category\": 1,  # Modify based on available categories\n",
    "    \"City\": 13,  # Modify based on cities in training data\n",
    "    \"Customer Name\": 13,  # Dummy customer name\n",
    "    'Profit_Margin':0.30,\n",
    "    'Order Date':477,\n",
    "    'quantity':25,\n",
    "    'Sales':2045\n",
    "})\n",
    "# Check feature names before scaling\n",
    "print(\"Training Features:\", X.columns)\n",
    "print(\"Future Data Features:\", future_data.columns)\n",
    "\n",
    "# Convert categorical columns using One-Hot Encoding (same as training)\n",
    "future_data = pd.get_dummies(future_data)\n",
    "\n",
    "# Ensure future_data has the same features as training data\n",
    "#training_columns = X.columns  # Get feature columns from training set\n",
    "future_data = future_data.reindex(columns=X.columns, fill_value=0)\n",
    "\n",
    "# Apply the same scaling transformation\n",
    "future_data_scaled = scaler.fit_transform(future_data)\n",
    "\n",
    "# Make future sales predictions\n",
    "future_sales_predictions = xgb_model.predict(future_data_scaled)\n",
    "\n",
    "# Add predictions to DataFrame\n",
    "future_data[\"Predicted Sales\"] = future_sales_predictions\n",
    "\n",
    "# Display predictions\n",
    "print(future_data[[\"Year\", \"Month\", \"Predicted Sales\"]])\n",
    "\n",
    "# Visualize Future Sales Predictions\n",
    "plt.figure(figsize=(10,5))\n",
    "plt.plot(future_months, future_sales_predictions, marker=\"o\", linestyle=\"--\", color=\"red\", label=\"Predicted Sales\")\n",
    "plt.xlabel(\"Month\")\n",
    "plt.ylabel(\"Sales\")\n",
    "plt.title(\"Future Monthly Sales Predictions (2025)\")\n",
    "plt.xticks(future_months)\n",
    "plt.legend()\n",
    "plt.grid()\n",
    "plt.show()"
   ]
  },
  {
   "cell_type": "markdown",
   "id": "2c7fa386-a794-480c-b312-ca4e8faec408",
   "metadata": {},
   "source": [
    "Conclusion: The analysis of Supermart's grocery sales reveals several significant insights that can guide future business decisions. The sales starting of year is low after 5 months,i.e, seasonal months the sales increases and continue the sales constantly. In this project used the Random forest Regressor and XGB regressor for good accuracy, both are given the good accuracy but the XGB Regressor gives the better accuracy than Random forest Regressor with slight difference of accuracy. This visualization helps for improvement in sales and profits, future predictions, easy to know the highest sales product,dicount vs profit and which month had high sales."
   ]
  }
 ],
 "metadata": {
  "kernelspec": {
   "display_name": "Python 3 (ipykernel)",
   "language": "python",
   "name": "python3"
  },
  "language_info": {
   "codemirror_mode": {
    "name": "ipython",
    "version": 3
   },
   "file_extension": ".py",
   "mimetype": "text/x-python",
   "name": "python",
   "nbconvert_exporter": "python",
   "pygments_lexer": "ipython3",
   "version": "3.12.4"
  }
 },
 "nbformat": 4,
 "nbformat_minor": 5
}
